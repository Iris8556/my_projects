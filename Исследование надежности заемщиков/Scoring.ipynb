{
 "cells": [
  {
   "cell_type": "markdown",
   "metadata": {},
   "source": [
    "### Шаг 1. Откройте файл с данными и изучите общую информацию. "
   ]
  },
  {
   "cell_type": "code",
   "execution_count": 1,
   "metadata": {},
   "outputs": [
    {
     "name": "stdout",
     "output_type": "stream",
     "text": [
      "<class 'pandas.core.frame.DataFrame'>\n",
      "RangeIndex: 21525 entries, 0 to 21524\n",
      "Data columns (total 12 columns):\n",
      "children            21525 non-null int64\n",
      "days_employed       19351 non-null float64\n",
      "dob_years           21525 non-null int64\n",
      "education           21525 non-null object\n",
      "education_id        21525 non-null int64\n",
      "family_status       21525 non-null object\n",
      "family_status_id    21525 non-null int64\n",
      "gender              21525 non-null object\n",
      "income_type         21525 non-null object\n",
      "debt                21525 non-null int64\n",
      "total_income        19351 non-null float64\n",
      "purpose             21525 non-null object\n",
      "dtypes: float64(2), int64(5), object(5)\n",
      "memory usage: 2.0+ MB\n"
     ]
    },
    {
     "data": {
      "text/html": [
       "<div>\n",
       "<style scoped>\n",
       "    .dataframe tbody tr th:only-of-type {\n",
       "        vertical-align: middle;\n",
       "    }\n",
       "\n",
       "    .dataframe tbody tr th {\n",
       "        vertical-align: top;\n",
       "    }\n",
       "\n",
       "    .dataframe thead th {\n",
       "        text-align: right;\n",
       "    }\n",
       "</style>\n",
       "<table border=\"1\" class=\"dataframe\">\n",
       "  <thead>\n",
       "    <tr style=\"text-align: right;\">\n",
       "      <th></th>\n",
       "      <th>children</th>\n",
       "      <th>days_employed</th>\n",
       "      <th>dob_years</th>\n",
       "      <th>education</th>\n",
       "      <th>education_id</th>\n",
       "      <th>family_status</th>\n",
       "      <th>family_status_id</th>\n",
       "      <th>gender</th>\n",
       "      <th>income_type</th>\n",
       "      <th>debt</th>\n",
       "      <th>total_income</th>\n",
       "      <th>purpose</th>\n",
       "    </tr>\n",
       "  </thead>\n",
       "  <tbody>\n",
       "    <tr>\n",
       "      <td>0</td>\n",
       "      <td>1</td>\n",
       "      <td>-8437.673028</td>\n",
       "      <td>42</td>\n",
       "      <td>высшее</td>\n",
       "      <td>0</td>\n",
       "      <td>женат / замужем</td>\n",
       "      <td>0</td>\n",
       "      <td>F</td>\n",
       "      <td>сотрудник</td>\n",
       "      <td>0</td>\n",
       "      <td>253875.639453</td>\n",
       "      <td>покупка жилья</td>\n",
       "    </tr>\n",
       "    <tr>\n",
       "      <td>1</td>\n",
       "      <td>1</td>\n",
       "      <td>-4024.803754</td>\n",
       "      <td>36</td>\n",
       "      <td>среднее</td>\n",
       "      <td>1</td>\n",
       "      <td>женат / замужем</td>\n",
       "      <td>0</td>\n",
       "      <td>F</td>\n",
       "      <td>сотрудник</td>\n",
       "      <td>0</td>\n",
       "      <td>112080.014102</td>\n",
       "      <td>приобретение автомобиля</td>\n",
       "    </tr>\n",
       "    <tr>\n",
       "      <td>2</td>\n",
       "      <td>0</td>\n",
       "      <td>-5623.422610</td>\n",
       "      <td>33</td>\n",
       "      <td>Среднее</td>\n",
       "      <td>1</td>\n",
       "      <td>женат / замужем</td>\n",
       "      <td>0</td>\n",
       "      <td>M</td>\n",
       "      <td>сотрудник</td>\n",
       "      <td>0</td>\n",
       "      <td>145885.952297</td>\n",
       "      <td>покупка жилья</td>\n",
       "    </tr>\n",
       "    <tr>\n",
       "      <td>3</td>\n",
       "      <td>3</td>\n",
       "      <td>-4124.747207</td>\n",
       "      <td>32</td>\n",
       "      <td>среднее</td>\n",
       "      <td>1</td>\n",
       "      <td>женат / замужем</td>\n",
       "      <td>0</td>\n",
       "      <td>M</td>\n",
       "      <td>сотрудник</td>\n",
       "      <td>0</td>\n",
       "      <td>267628.550329</td>\n",
       "      <td>дополнительное образование</td>\n",
       "    </tr>\n",
       "    <tr>\n",
       "      <td>4</td>\n",
       "      <td>0</td>\n",
       "      <td>340266.072047</td>\n",
       "      <td>53</td>\n",
       "      <td>среднее</td>\n",
       "      <td>1</td>\n",
       "      <td>гражданский брак</td>\n",
       "      <td>1</td>\n",
       "      <td>F</td>\n",
       "      <td>пенсионер</td>\n",
       "      <td>0</td>\n",
       "      <td>158616.077870</td>\n",
       "      <td>сыграть свадьбу</td>\n",
       "    </tr>\n",
       "    <tr>\n",
       "      <td>5</td>\n",
       "      <td>0</td>\n",
       "      <td>-926.185831</td>\n",
       "      <td>27</td>\n",
       "      <td>высшее</td>\n",
       "      <td>0</td>\n",
       "      <td>гражданский брак</td>\n",
       "      <td>1</td>\n",
       "      <td>M</td>\n",
       "      <td>компаньон</td>\n",
       "      <td>0</td>\n",
       "      <td>255763.565419</td>\n",
       "      <td>покупка жилья</td>\n",
       "    </tr>\n",
       "    <tr>\n",
       "      <td>6</td>\n",
       "      <td>0</td>\n",
       "      <td>-2879.202052</td>\n",
       "      <td>43</td>\n",
       "      <td>высшее</td>\n",
       "      <td>0</td>\n",
       "      <td>женат / замужем</td>\n",
       "      <td>0</td>\n",
       "      <td>F</td>\n",
       "      <td>компаньон</td>\n",
       "      <td>0</td>\n",
       "      <td>240525.971920</td>\n",
       "      <td>операции с жильем</td>\n",
       "    </tr>\n",
       "    <tr>\n",
       "      <td>7</td>\n",
       "      <td>0</td>\n",
       "      <td>-152.779569</td>\n",
       "      <td>50</td>\n",
       "      <td>СРЕДНЕЕ</td>\n",
       "      <td>1</td>\n",
       "      <td>женат / замужем</td>\n",
       "      <td>0</td>\n",
       "      <td>M</td>\n",
       "      <td>сотрудник</td>\n",
       "      <td>0</td>\n",
       "      <td>135823.934197</td>\n",
       "      <td>образование</td>\n",
       "    </tr>\n",
       "    <tr>\n",
       "      <td>8</td>\n",
       "      <td>2</td>\n",
       "      <td>-6929.865299</td>\n",
       "      <td>35</td>\n",
       "      <td>ВЫСШЕЕ</td>\n",
       "      <td>0</td>\n",
       "      <td>гражданский брак</td>\n",
       "      <td>1</td>\n",
       "      <td>F</td>\n",
       "      <td>сотрудник</td>\n",
       "      <td>0</td>\n",
       "      <td>95856.832424</td>\n",
       "      <td>на проведение свадьбы</td>\n",
       "    </tr>\n",
       "    <tr>\n",
       "      <td>9</td>\n",
       "      <td>0</td>\n",
       "      <td>-2188.756445</td>\n",
       "      <td>41</td>\n",
       "      <td>среднее</td>\n",
       "      <td>1</td>\n",
       "      <td>женат / замужем</td>\n",
       "      <td>0</td>\n",
       "      <td>M</td>\n",
       "      <td>сотрудник</td>\n",
       "      <td>0</td>\n",
       "      <td>144425.938277</td>\n",
       "      <td>покупка жилья для семьи</td>\n",
       "    </tr>\n",
       "  </tbody>\n",
       "</table>\n",
       "</div>"
      ],
      "text/plain": [
       "   children  days_employed  dob_years education  education_id  \\\n",
       "0         1   -8437.673028         42    высшее             0   \n",
       "1         1   -4024.803754         36   среднее             1   \n",
       "2         0   -5623.422610         33   Среднее             1   \n",
       "3         3   -4124.747207         32   среднее             1   \n",
       "4         0  340266.072047         53   среднее             1   \n",
       "5         0    -926.185831         27    высшее             0   \n",
       "6         0   -2879.202052         43    высшее             0   \n",
       "7         0    -152.779569         50   СРЕДНЕЕ             1   \n",
       "8         2   -6929.865299         35    ВЫСШЕЕ             0   \n",
       "9         0   -2188.756445         41   среднее             1   \n",
       "\n",
       "      family_status  family_status_id gender income_type  debt   total_income  \\\n",
       "0   женат / замужем                 0      F   сотрудник     0  253875.639453   \n",
       "1   женат / замужем                 0      F   сотрудник     0  112080.014102   \n",
       "2   женат / замужем                 0      M   сотрудник     0  145885.952297   \n",
       "3   женат / замужем                 0      M   сотрудник     0  267628.550329   \n",
       "4  гражданский брак                 1      F   пенсионер     0  158616.077870   \n",
       "5  гражданский брак                 1      M   компаньон     0  255763.565419   \n",
       "6   женат / замужем                 0      F   компаньон     0  240525.971920   \n",
       "7   женат / замужем                 0      M   сотрудник     0  135823.934197   \n",
       "8  гражданский брак                 1      F   сотрудник     0   95856.832424   \n",
       "9   женат / замужем                 0      M   сотрудник     0  144425.938277   \n",
       "\n",
       "                      purpose  \n",
       "0               покупка жилья  \n",
       "1     приобретение автомобиля  \n",
       "2               покупка жилья  \n",
       "3  дополнительное образование  \n",
       "4             сыграть свадьбу  \n",
       "5               покупка жилья  \n",
       "6           операции с жильем  \n",
       "7                 образование  \n",
       "8       на проведение свадьбы  \n",
       "9     покупка жилья для семьи  "
      ]
     },
     "execution_count": 1,
     "metadata": {},
     "output_type": "execute_result"
    }
   ],
   "source": [
    "import pandas as pd#импорт библиотеки Pandas\n",
    "scoring = pd.read_csv('/datasets/data.csv')#чтение файла\n",
    "scoring.info()#получим общую информацию о данных в таблице\n",
    "scoring.head(10)#получим первые 10 строк таблицы"
   ]
  },
  {
   "cell_type": "markdown",
   "metadata": {},
   "source": [
    "### Вывод"
   ]
  },
  {
   "cell_type": "markdown",
   "metadata": {},
   "source": [
    "Всего в таблице 12 столбцов, есть следующие типы данных: int64, float64, object. Сразу виден один артефакт - это отрицательное количество дней трудового стажа, притом, что есть и положительные значения, которые намного больше всех остальных. Есть предположение, что трудовой стаж больших значений выгружен не в днях, а в часах. Возможно это техническая ошибка при выгрузке данных. Более понятно этот столбец выглядел бы, если перевести дни в года (часы в года для больших значений) и заменить отрицательные значения на положительные. Но для проекта анализ трудового стажа не нужен, поэтому менять его на основании предположений не будем. Количество значений в столбцах таблицы различается. Значит есть пропущенные, при этом количество пропущенных значений в столбцах \"Общий трудовой стаж в днях\" и \"Ежемесячный доход\" одинаковое. Каждая строка таблицы содержит данные о платежеспособности определенного клиента, но ID клиентов не указано, следовательно, вполне возможны дубликаты. По первым 10 строкам наблюдается разный регистр ввода данных, надо проверить каждый столбец. Для проверки рабочих гипотез особенно важными столбцами являются столбы \"children\", \"debt\", \"family_status\", \"total_income\", \"purpose\"."
   ]
  },
  {
   "cell_type": "markdown",
   "metadata": {},
   "source": [
    "### Шаг 2. Предобработка данных"
   ]
  },
  {
   "cell_type": "markdown",
   "metadata": {},
   "source": [
    "### Обработка пропусков"
   ]
  },
  {
   "cell_type": "code",
   "execution_count": 2,
   "metadata": {},
   "outputs": [
    {
     "data": {
      "text/plain": [
       "Index(['children', 'days_employed', 'dob_years', 'education', 'education_id',\n",
       "       'family_status', 'family_status_id', 'gender', 'income_type', 'debt',\n",
       "       'total_income', 'purpose'],\n",
       "      dtype='object')"
      ]
     },
     "execution_count": 2,
     "metadata": {},
     "output_type": "execute_result"
    }
   ],
   "source": [
    "scoring.columns#проверим название столбцов таблицы"
   ]
  },
  {
   "cell_type": "code",
   "execution_count": 3,
   "metadata": {
    "scrolled": true
   },
   "outputs": [
    {
     "data": {
      "text/plain": [
       "children               0\n",
       "days_employed       2174\n",
       "dob_years              0\n",
       "education              0\n",
       "education_id           0\n",
       "family_status          0\n",
       "family_status_id       0\n",
       "gender                 0\n",
       "income_type            0\n",
       "debt                   0\n",
       "total_income        2174\n",
       "purpose                0\n",
       "dtype: int64"
      ]
     },
     "execution_count": 3,
     "metadata": {},
     "output_type": "execute_result"
    }
   ],
   "source": [
    "scoring.isnull().sum()#отсутствующие значения"
   ]
  },
  {
   "cell_type": "code",
   "execution_count": 4,
   "metadata": {},
   "outputs": [
    {
     "data": {
      "text/html": [
       "<div>\n",
       "<style scoped>\n",
       "    .dataframe tbody tr th:only-of-type {\n",
       "        vertical-align: middle;\n",
       "    }\n",
       "\n",
       "    .dataframe tbody tr th {\n",
       "        vertical-align: top;\n",
       "    }\n",
       "\n",
       "    .dataframe thead th {\n",
       "        text-align: right;\n",
       "    }\n",
       "</style>\n",
       "<table border=\"1\" class=\"dataframe\">\n",
       "  <thead>\n",
       "    <tr style=\"text-align: right;\">\n",
       "      <th></th>\n",
       "      <th>children</th>\n",
       "      <th>days_employed</th>\n",
       "      <th>dob_years</th>\n",
       "      <th>education_id</th>\n",
       "      <th>family_status_id</th>\n",
       "      <th>debt</th>\n",
       "      <th>total_income</th>\n",
       "    </tr>\n",
       "  </thead>\n",
       "  <tbody>\n",
       "    <tr>\n",
       "      <td>count</td>\n",
       "      <td>21525.000000</td>\n",
       "      <td>19351.000000</td>\n",
       "      <td>21525.000000</td>\n",
       "      <td>21525.000000</td>\n",
       "      <td>21525.000000</td>\n",
       "      <td>21525.000000</td>\n",
       "      <td>1.935100e+04</td>\n",
       "    </tr>\n",
       "    <tr>\n",
       "      <td>mean</td>\n",
       "      <td>0.538908</td>\n",
       "      <td>63046.497661</td>\n",
       "      <td>43.293380</td>\n",
       "      <td>0.817236</td>\n",
       "      <td>0.972544</td>\n",
       "      <td>0.080883</td>\n",
       "      <td>1.674223e+05</td>\n",
       "    </tr>\n",
       "    <tr>\n",
       "      <td>std</td>\n",
       "      <td>1.381587</td>\n",
       "      <td>140827.311974</td>\n",
       "      <td>12.574584</td>\n",
       "      <td>0.548138</td>\n",
       "      <td>1.420324</td>\n",
       "      <td>0.272661</td>\n",
       "      <td>1.029716e+05</td>\n",
       "    </tr>\n",
       "    <tr>\n",
       "      <td>min</td>\n",
       "      <td>-1.000000</td>\n",
       "      <td>-18388.949901</td>\n",
       "      <td>0.000000</td>\n",
       "      <td>0.000000</td>\n",
       "      <td>0.000000</td>\n",
       "      <td>0.000000</td>\n",
       "      <td>2.066726e+04</td>\n",
       "    </tr>\n",
       "    <tr>\n",
       "      <td>25%</td>\n",
       "      <td>0.000000</td>\n",
       "      <td>-2747.423625</td>\n",
       "      <td>33.000000</td>\n",
       "      <td>1.000000</td>\n",
       "      <td>0.000000</td>\n",
       "      <td>0.000000</td>\n",
       "      <td>1.030532e+05</td>\n",
       "    </tr>\n",
       "    <tr>\n",
       "      <td>50%</td>\n",
       "      <td>0.000000</td>\n",
       "      <td>-1203.369529</td>\n",
       "      <td>42.000000</td>\n",
       "      <td>1.000000</td>\n",
       "      <td>0.000000</td>\n",
       "      <td>0.000000</td>\n",
       "      <td>1.450179e+05</td>\n",
       "    </tr>\n",
       "    <tr>\n",
       "      <td>75%</td>\n",
       "      <td>1.000000</td>\n",
       "      <td>-291.095954</td>\n",
       "      <td>53.000000</td>\n",
       "      <td>1.000000</td>\n",
       "      <td>1.000000</td>\n",
       "      <td>0.000000</td>\n",
       "      <td>2.034351e+05</td>\n",
       "    </tr>\n",
       "    <tr>\n",
       "      <td>max</td>\n",
       "      <td>20.000000</td>\n",
       "      <td>401755.400475</td>\n",
       "      <td>75.000000</td>\n",
       "      <td>4.000000</td>\n",
       "      <td>4.000000</td>\n",
       "      <td>1.000000</td>\n",
       "      <td>2.265604e+06</td>\n",
       "    </tr>\n",
       "  </tbody>\n",
       "</table>\n",
       "</div>"
      ],
      "text/plain": [
       "           children  days_employed     dob_years  education_id  \\\n",
       "count  21525.000000   19351.000000  21525.000000  21525.000000   \n",
       "mean       0.538908   63046.497661     43.293380      0.817236   \n",
       "std        1.381587  140827.311974     12.574584      0.548138   \n",
       "min       -1.000000  -18388.949901      0.000000      0.000000   \n",
       "25%        0.000000   -2747.423625     33.000000      1.000000   \n",
       "50%        0.000000   -1203.369529     42.000000      1.000000   \n",
       "75%        1.000000    -291.095954     53.000000      1.000000   \n",
       "max       20.000000  401755.400475     75.000000      4.000000   \n",
       "\n",
       "       family_status_id          debt  total_income  \n",
       "count      21525.000000  21525.000000  1.935100e+04  \n",
       "mean           0.972544      0.080883  1.674223e+05  \n",
       "std            1.420324      0.272661  1.029716e+05  \n",
       "min            0.000000      0.000000  2.066726e+04  \n",
       "25%            0.000000      0.000000  1.030532e+05  \n",
       "50%            0.000000      0.000000  1.450179e+05  \n",
       "75%            1.000000      0.000000  2.034351e+05  \n",
       "max            4.000000      1.000000  2.265604e+06  "
      ]
     },
     "execution_count": 4,
     "metadata": {},
     "output_type": "execute_result"
    }
   ],
   "source": [
    "#поcмотрим основные статистические характеристики данных по каждому числовому признаку \n",
    "scoring.describe()"
   ]
  },
  {
   "cell_type": "code",
   "execution_count": 5,
   "metadata": {},
   "outputs": [
    {
     "data": {
      "text/html": [
       "<div>\n",
       "<style scoped>\n",
       "    .dataframe tbody tr th:only-of-type {\n",
       "        vertical-align: middle;\n",
       "    }\n",
       "\n",
       "    .dataframe tbody tr th {\n",
       "        vertical-align: top;\n",
       "    }\n",
       "\n",
       "    .dataframe thead th {\n",
       "        text-align: right;\n",
       "    }\n",
       "</style>\n",
       "<table border=\"1\" class=\"dataframe\">\n",
       "  <thead>\n",
       "    <tr style=\"text-align: right;\">\n",
       "      <th></th>\n",
       "      <th>children</th>\n",
       "      <th>days_employed</th>\n",
       "      <th>dob_years</th>\n",
       "      <th>education</th>\n",
       "      <th>education_id</th>\n",
       "      <th>family_status</th>\n",
       "      <th>family_status_id</th>\n",
       "      <th>gender</th>\n",
       "      <th>income_type</th>\n",
       "      <th>debt</th>\n",
       "      <th>total_income</th>\n",
       "      <th>purpose</th>\n",
       "    </tr>\n",
       "  </thead>\n",
       "  <tbody>\n",
       "    <tr>\n",
       "      <td>12</td>\n",
       "      <td>0</td>\n",
       "      <td>NaN</td>\n",
       "      <td>65</td>\n",
       "      <td>среднее</td>\n",
       "      <td>1</td>\n",
       "      <td>гражданский брак</td>\n",
       "      <td>1</td>\n",
       "      <td>M</td>\n",
       "      <td>пенсионер</td>\n",
       "      <td>0</td>\n",
       "      <td>NaN</td>\n",
       "      <td>сыграть свадьбу</td>\n",
       "    </tr>\n",
       "    <tr>\n",
       "      <td>26</td>\n",
       "      <td>0</td>\n",
       "      <td>NaN</td>\n",
       "      <td>41</td>\n",
       "      <td>среднее</td>\n",
       "      <td>1</td>\n",
       "      <td>женат / замужем</td>\n",
       "      <td>0</td>\n",
       "      <td>M</td>\n",
       "      <td>госслужащий</td>\n",
       "      <td>0</td>\n",
       "      <td>NaN</td>\n",
       "      <td>образование</td>\n",
       "    </tr>\n",
       "    <tr>\n",
       "      <td>29</td>\n",
       "      <td>0</td>\n",
       "      <td>NaN</td>\n",
       "      <td>63</td>\n",
       "      <td>среднее</td>\n",
       "      <td>1</td>\n",
       "      <td>Не женат / не замужем</td>\n",
       "      <td>4</td>\n",
       "      <td>F</td>\n",
       "      <td>пенсионер</td>\n",
       "      <td>0</td>\n",
       "      <td>NaN</td>\n",
       "      <td>строительство жилой недвижимости</td>\n",
       "    </tr>\n",
       "    <tr>\n",
       "      <td>41</td>\n",
       "      <td>0</td>\n",
       "      <td>NaN</td>\n",
       "      <td>50</td>\n",
       "      <td>среднее</td>\n",
       "      <td>1</td>\n",
       "      <td>женат / замужем</td>\n",
       "      <td>0</td>\n",
       "      <td>F</td>\n",
       "      <td>госслужащий</td>\n",
       "      <td>0</td>\n",
       "      <td>NaN</td>\n",
       "      <td>сделка с подержанным автомобилем</td>\n",
       "    </tr>\n",
       "    <tr>\n",
       "      <td>55</td>\n",
       "      <td>0</td>\n",
       "      <td>NaN</td>\n",
       "      <td>54</td>\n",
       "      <td>среднее</td>\n",
       "      <td>1</td>\n",
       "      <td>гражданский брак</td>\n",
       "      <td>1</td>\n",
       "      <td>F</td>\n",
       "      <td>пенсионер</td>\n",
       "      <td>1</td>\n",
       "      <td>NaN</td>\n",
       "      <td>сыграть свадьбу</td>\n",
       "    </tr>\n",
       "  </tbody>\n",
       "</table>\n",
       "</div>"
      ],
      "text/plain": [
       "    children  days_employed  dob_years education  education_id  \\\n",
       "12         0            NaN         65   среднее             1   \n",
       "26         0            NaN         41   среднее             1   \n",
       "29         0            NaN         63   среднее             1   \n",
       "41         0            NaN         50   среднее             1   \n",
       "55         0            NaN         54   среднее             1   \n",
       "\n",
       "            family_status  family_status_id gender  income_type  debt  \\\n",
       "12       гражданский брак                 1      M    пенсионер     0   \n",
       "26        женат / замужем                 0      M  госслужащий     0   \n",
       "29  Не женат / не замужем                 4      F    пенсионер     0   \n",
       "41        женат / замужем                 0      F  госслужащий     0   \n",
       "55       гражданский брак                 1      F    пенсионер     1   \n",
       "\n",
       "    total_income                           purpose  \n",
       "12           NaN                   сыграть свадьбу  \n",
       "26           NaN                       образование  \n",
       "29           NaN  строительство жилой недвижимости  \n",
       "41           NaN  сделка с подержанным автомобилем  \n",
       "55           NaN                   сыграть свадьбу  "
      ]
     },
     "execution_count": 5,
     "metadata": {},
     "output_type": "execute_result"
    }
   ],
   "source": [
    "scoring[scoring['total_income'].isnull()].head()#выведем первые 5 строк с отсутствующими значениями по доходу"
   ]
  },
  {
   "cell_type": "code",
   "execution_count": 6,
   "metadata": {},
   "outputs": [
    {
     "data": {
      "text/plain": [
       "145017.93753253992"
      ]
     },
     "execution_count": 6,
     "metadata": {},
     "output_type": "execute_result"
    }
   ],
   "source": [
    "#находим медиану по доходу\n",
    "total_income_median = scoring['total_income'].median()\n",
    "total_income_median"
   ]
  },
  {
   "cell_type": "code",
   "execution_count": 7,
   "metadata": {},
   "outputs": [],
   "source": [
    "#заменим пропуски в доходе на значение медианы\n",
    "scoring['total_income'] = scoring['total_income'].fillna(value = total_income_median)"
   ]
  },
  {
   "cell_type": "code",
   "execution_count": 8,
   "metadata": {},
   "outputs": [],
   "source": [
    "#заменим пропущенные значения в общем трудовом стаже на значения \"неизвестно\"\n",
    "scoring['days_employed'] = scoring['days_employed'].fillna('unknown')"
   ]
  },
  {
   "cell_type": "code",
   "execution_count": 9,
   "metadata": {},
   "outputs": [
    {
     "data": {
      "text/plain": [
       "children            0\n",
       "days_employed       0\n",
       "dob_years           0\n",
       "education           0\n",
       "education_id        0\n",
       "family_status       0\n",
       "family_status_id    0\n",
       "gender              0\n",
       "income_type         0\n",
       "debt                0\n",
       "total_income        0\n",
       "purpose             0\n",
       "dtype: int64"
      ]
     },
     "execution_count": 9,
     "metadata": {},
     "output_type": "execute_result"
    }
   ],
   "source": [
    "#проверяем остались ли пропущенные значения\n",
    "scoring[scoring['total_income'].isnull()].count()"
   ]
  },
  {
   "cell_type": "code",
   "execution_count": 10,
   "metadata": {},
   "outputs": [
    {
     "name": "stdout",
     "output_type": "stream",
     "text": [
      "Минимальное значение по \"children\" -1 \n",
      "Максимальное значение по \"children\" 20\n"
     ]
    },
    {
     "data": {
      "text/plain": [
       "array([ 1,  0,  3,  2, -1,  4, 20,  5])"
      ]
     },
     "execution_count": 10,
     "metadata": {},
     "output_type": "execute_result"
    }
   ],
   "source": [
    "#найдем минимальное и максимальное значения по \"детям\":\n",
    "print('Минимальное значение по \"children\"', scoring['children'].min(), '\\nМаксимальное значение по \"children\"', scoring['children'].max())\n",
    "#дополнительно посмотрим все уникальные значения\n",
    "scoring['children'].unique()"
   ]
  },
  {
   "cell_type": "code",
   "execution_count": 11,
   "metadata": {},
   "outputs": [],
   "source": [
    "#заменим отрицательное значение на положительное\n",
    "scoring['children'] = scoring['children'].abs()"
   ]
  },
  {
   "cell_type": "code",
   "execution_count": 12,
   "metadata": {},
   "outputs": [
    {
     "data": {
      "text/plain": [
       "76"
      ]
     },
     "execution_count": 12,
     "metadata": {},
     "output_type": "execute_result"
    }
   ],
   "source": [
    "#проверим сколько строк со значением 20\n",
    "scoring[scoring['children'] == 20]['children'].count()"
   ]
  },
  {
   "cell_type": "code",
   "execution_count": 13,
   "metadata": {},
   "outputs": [],
   "source": [
    "#заменим все значения 20 на 2\n",
    "scoring['children'] = scoring['children'].replace(20, 2)"
   ]
  },
  {
   "cell_type": "code",
   "execution_count": 14,
   "metadata": {},
   "outputs": [
    {
     "data": {
      "text/plain": [
       "array([1, 0, 3, 2, 4, 5])"
      ]
     },
     "execution_count": 14,
     "metadata": {},
     "output_type": "execute_result"
    }
   ],
   "source": [
    "#проверим замену на 2 и замену на положительные значения\n",
    "scoring['children'].unique()"
   ]
  },
  {
   "cell_type": "code",
   "execution_count": 15,
   "metadata": {},
   "outputs": [
    {
     "data": {
      "text/plain": [
       "array([42, 36, 33, 32, 53, 27, 43, 50, 35, 41, 40, 65, 54, 56, 26, 48, 24,\n",
       "       21, 57, 67, 28, 63, 62, 47, 34, 68, 25, 31, 30, 20, 49, 37, 45, 61,\n",
       "       64, 44, 52, 46, 23, 38, 39, 51,  0, 59, 29, 60, 55, 58, 71, 22, 73,\n",
       "       66, 69, 19, 72, 70, 74, 75])"
      ]
     },
     "execution_count": 15,
     "metadata": {},
     "output_type": "execute_result"
    }
   ],
   "source": [
    "scoring['dob_years'].unique()#проверим уникальные значения возраста клиентов"
   ]
  },
  {
   "cell_type": "code",
   "execution_count": 16,
   "metadata": {},
   "outputs": [
    {
     "data": {
      "text/plain": [
       "count    21525.000000\n",
       "mean        43.497479\n",
       "std         12.218166\n",
       "min         19.000000\n",
       "25%         34.000000\n",
       "50%         43.000000\n",
       "75%         53.000000\n",
       "max         75.000000\n",
       "Name: dob_years, dtype: float64"
      ]
     },
     "execution_count": 16,
     "metadata": {},
     "output_type": "execute_result"
    }
   ],
   "source": [
    "#находим среднее арифметическое по возрасту\n",
    "dob_years_mean = scoring[scoring['dob_years'] != 0]['dob_years'].mean()\n",
    "dob_years_mean\n",
    "#заменим нулевые значения на среднее арифметическое\n",
    "scoring['dob_years'] = scoring['dob_years'].replace(0, dob_years_mean)\n",
    "scoring['dob_years'].describe()#проверим исправления "
   ]
  },
  {
   "cell_type": "code",
   "execution_count": 17,
   "metadata": {},
   "outputs": [
    {
     "data": {
      "text/plain": [
       "array(['высшее', 'среднее', 'неоконченное высшее', 'начальное',\n",
       "       'ученая степень'], dtype=object)"
      ]
     },
     "execution_count": 17,
     "metadata": {},
     "output_type": "execute_result"
    }
   ],
   "source": [
    "scoring['education'] = scoring['education'].str.lower()#приводим столбец к нижнему регистру\n",
    "scoring['education'].unique()#проверяем изменения"
   ]
  },
  {
   "cell_type": "code",
   "execution_count": 18,
   "metadata": {},
   "outputs": [
    {
     "data": {
      "text/plain": [
       "array(['женат / замужем', 'гражданский брак', 'вдовец / вдова',\n",
       "       'в разводе', 'Не женат / не замужем'], dtype=object)"
      ]
     },
     "execution_count": 18,
     "metadata": {},
     "output_type": "execute_result"
    }
   ],
   "source": [
    "scoring['family_status'].unique()#проверяем уникальные значения"
   ]
  },
  {
   "cell_type": "code",
   "execution_count": 19,
   "metadata": {},
   "outputs": [
    {
     "data": {
      "text/plain": [
       "array(['женат / замужем', 'гражданский брак', 'вдовец / вдова',\n",
       "       'в разводе', 'не женат / не замужем'], dtype=object)"
      ]
     },
     "execution_count": 19,
     "metadata": {},
     "output_type": "execute_result"
    }
   ],
   "source": [
    "scoring['family_status'] = scoring['family_status'].str.lower()#приводим столбец к нижнему регистру\n",
    "scoring['family_status'].unique()#проверяем изменения"
   ]
  },
  {
   "cell_type": "code",
   "execution_count": 20,
   "metadata": {},
   "outputs": [
    {
     "data": {
      "text/plain": [
       "array(['F', 'M', 'XNA'], dtype=object)"
      ]
     },
     "execution_count": 20,
     "metadata": {},
     "output_type": "execute_result"
    }
   ],
   "source": [
    "scoring['gender'].unique()#проверяем уникальные значения"
   ]
  },
  {
   "cell_type": "code",
   "execution_count": 21,
   "metadata": {},
   "outputs": [
    {
     "data": {
      "text/plain": [
       "array(['F', 'M'], dtype=object)"
      ]
     },
     "execution_count": 21,
     "metadata": {},
     "output_type": "execute_result"
    }
   ],
   "source": [
    "#перезапишем таблицу без значения 'XNA' в \"пол клиента\"\n",
    "scoring = scoring[scoring['gender'] != 'XNA']\n",
    "scoring['gender'].unique()#проверяем изменения"
   ]
  },
  {
   "cell_type": "code",
   "execution_count": 22,
   "metadata": {},
   "outputs": [
    {
     "data": {
      "text/plain": [
       "array(['сотрудник', 'пенсионер', 'компаньон', 'госслужащий',\n",
       "       'безработный', 'предприниматель', 'студент', 'в декрете'],\n",
       "      dtype=object)"
      ]
     },
     "execution_count": 22,
     "metadata": {},
     "output_type": "execute_result"
    }
   ],
   "source": [
    "scoring['income_type'].unique()#проверяем уникальные значения"
   ]
  },
  {
   "cell_type": "code",
   "execution_count": 23,
   "metadata": {},
   "outputs": [
    {
     "data": {
      "text/plain": [
       "array(['покупка жилья', 'приобретение автомобиля',\n",
       "       'дополнительное образование', 'сыграть свадьбу',\n",
       "       'операции с жильем', 'образование', 'на проведение свадьбы',\n",
       "       'покупка жилья для семьи', 'покупка недвижимости',\n",
       "       'покупка коммерческой недвижимости', 'покупка жилой недвижимости',\n",
       "       'строительство собственной недвижимости', 'недвижимость',\n",
       "       'строительство недвижимости', 'на покупку подержанного автомобиля',\n",
       "       'на покупку своего автомобиля',\n",
       "       'операции с коммерческой недвижимостью',\n",
       "       'строительство жилой недвижимости', 'жилье',\n",
       "       'операции со своей недвижимостью', 'автомобили',\n",
       "       'заняться образованием', 'сделка с подержанным автомобилем',\n",
       "       'получение образования', 'автомобиль', 'свадьба',\n",
       "       'получение дополнительного образования', 'покупка своего жилья',\n",
       "       'операции с недвижимостью', 'получение высшего образования',\n",
       "       'свой автомобиль', 'сделка с автомобилем',\n",
       "       'профильное образование', 'высшее образование',\n",
       "       'покупка жилья для сдачи', 'на покупку автомобиля', 'ремонт жилью',\n",
       "       'заняться высшим образованием'], dtype=object)"
      ]
     },
     "execution_count": 23,
     "metadata": {},
     "output_type": "execute_result"
    }
   ],
   "source": [
    "scoring['purpose'].unique()#проверяем уникальные значения"
   ]
  },
  {
   "cell_type": "markdown",
   "metadata": {},
   "source": [
    "### Вывод"
   ]
  },
  {
   "cell_type": "markdown",
   "metadata": {},
   "source": [
    "Отсутствующие значения составили 10% от исходных данных по значениям в столбцах: \"общий трудовой стаж\" и \"ежемесячный доход\". Возможно это тоже техническая ошибка при прочтении данных, так как анкета просто была бы не принята без заполнения всех значений по клиенту. В общем трудовом стаже отсутствующие значения были заменены на 'unknown', так как значения не будут участвовать в расчетах. В ежемесячном доходе большая разница между максимальными и минимальными значениями поэтому отсутствующие значения были заменены медианой. В столбце \"дети\" было одно отрицательное значение, скорей всего это ошибка выгрузки, было заменено на положительное. Так же в этом столбце есть 67 клиентов с двадцатью детьми, при этом нет промежуточных значений от 5 до 20. Думаю, здесь ошибка или при заполнении анкеты или при выгрузке данных и изначально эти значения были записаны как 2.0. Заменили все значения 20 на 2. В столбце \"возраст клиента в годах\" нулевые значения были заменены на средние арифметическое. В столбе \"пол клиента\" был обнаружен артефакт с значением 'XNA', перезаписали исходную таблицу без артефакта. Всю таблицу привели к нижнему регистру."
   ]
  },
  {
   "cell_type": "markdown",
   "metadata": {},
   "source": [
    "## **Замена типа данных**"
   ]
  },
  {
   "cell_type": "code",
   "execution_count": 24,
   "metadata": {},
   "outputs": [
    {
     "name": "stdout",
     "output_type": "stream",
     "text": [
      "<class 'pandas.core.frame.DataFrame'>\n",
      "Int64Index: 21524 entries, 0 to 21524\n",
      "Data columns (total 12 columns):\n",
      "children            21524 non-null int64\n",
      "days_employed       21524 non-null object\n",
      "dob_years           21524 non-null int64\n",
      "education           21524 non-null object\n",
      "education_id        21524 non-null int64\n",
      "family_status       21524 non-null object\n",
      "family_status_id    21524 non-null int64\n",
      "gender              21524 non-null object\n",
      "income_type         21524 non-null object\n",
      "debt                21524 non-null int64\n",
      "total_income        21524 non-null int64\n",
      "purpose             21524 non-null object\n",
      "dtypes: int64(6), object(6)\n",
      "memory usage: 2.1+ MB\n"
     ]
    }
   ],
   "source": [
    "#заменяем тип данных с вещественного на целое число\n",
    "scoring['dob_years'] = scoring['dob_years'].astype('int')\n",
    "scoring['total_income'] = scoring['total_income'].astype('int')\n",
    "scoring.info()#проверим"
   ]
  },
  {
   "cell_type": "markdown",
   "metadata": {},
   "source": [
    "### Вывод"
   ]
  },
  {
   "cell_type": "markdown",
   "metadata": {},
   "source": [
    "В столбцах \"Общий трудовой стаж в днях\" и \"Ежемесячный доход\" при помощи метода astype() заменили тип данных с вещественного на целое число для облегчения расчетов и для более легкого чтения значений."
   ]
  },
  {
   "cell_type": "markdown",
   "metadata": {},
   "source": [
    "### Обработка дубликатов"
   ]
  },
  {
   "cell_type": "code",
   "execution_count": 25,
   "metadata": {},
   "outputs": [
    {
     "name": "stdout",
     "output_type": "stream",
     "text": [
      "Дубликатов в таблице: 71\n"
     ]
    },
    {
     "data": {
      "text/html": [
       "<div>\n",
       "<style scoped>\n",
       "    .dataframe tbody tr th:only-of-type {\n",
       "        vertical-align: middle;\n",
       "    }\n",
       "\n",
       "    .dataframe tbody tr th {\n",
       "        vertical-align: top;\n",
       "    }\n",
       "\n",
       "    .dataframe thead th {\n",
       "        text-align: right;\n",
       "    }\n",
       "</style>\n",
       "<table border=\"1\" class=\"dataframe\">\n",
       "  <thead>\n",
       "    <tr style=\"text-align: right;\">\n",
       "      <th></th>\n",
       "      <th>children</th>\n",
       "      <th>days_employed</th>\n",
       "      <th>dob_years</th>\n",
       "      <th>education</th>\n",
       "      <th>education_id</th>\n",
       "      <th>family_status</th>\n",
       "      <th>family_status_id</th>\n",
       "      <th>gender</th>\n",
       "      <th>income_type</th>\n",
       "      <th>debt</th>\n",
       "      <th>total_income</th>\n",
       "      <th>purpose</th>\n",
       "    </tr>\n",
       "  </thead>\n",
       "  <tbody>\n",
       "    <tr>\n",
       "      <td>2849</td>\n",
       "      <td>0</td>\n",
       "      <td>unknown</td>\n",
       "      <td>41</td>\n",
       "      <td>среднее</td>\n",
       "      <td>1</td>\n",
       "      <td>женат / замужем</td>\n",
       "      <td>0</td>\n",
       "      <td>F</td>\n",
       "      <td>сотрудник</td>\n",
       "      <td>0</td>\n",
       "      <td>145017</td>\n",
       "      <td>покупка жилья для семьи</td>\n",
       "    </tr>\n",
       "    <tr>\n",
       "      <td>3290</td>\n",
       "      <td>0</td>\n",
       "      <td>unknown</td>\n",
       "      <td>58</td>\n",
       "      <td>среднее</td>\n",
       "      <td>1</td>\n",
       "      <td>гражданский брак</td>\n",
       "      <td>1</td>\n",
       "      <td>F</td>\n",
       "      <td>пенсионер</td>\n",
       "      <td>0</td>\n",
       "      <td>145017</td>\n",
       "      <td>сыграть свадьбу</td>\n",
       "    </tr>\n",
       "    <tr>\n",
       "      <td>4182</td>\n",
       "      <td>1</td>\n",
       "      <td>unknown</td>\n",
       "      <td>34</td>\n",
       "      <td>высшее</td>\n",
       "      <td>0</td>\n",
       "      <td>гражданский брак</td>\n",
       "      <td>1</td>\n",
       "      <td>F</td>\n",
       "      <td>сотрудник</td>\n",
       "      <td>0</td>\n",
       "      <td>145017</td>\n",
       "      <td>свадьба</td>\n",
       "    </tr>\n",
       "    <tr>\n",
       "      <td>4851</td>\n",
       "      <td>0</td>\n",
       "      <td>unknown</td>\n",
       "      <td>60</td>\n",
       "      <td>среднее</td>\n",
       "      <td>1</td>\n",
       "      <td>гражданский брак</td>\n",
       "      <td>1</td>\n",
       "      <td>F</td>\n",
       "      <td>пенсионер</td>\n",
       "      <td>0</td>\n",
       "      <td>145017</td>\n",
       "      <td>свадьба</td>\n",
       "    </tr>\n",
       "    <tr>\n",
       "      <td>5557</td>\n",
       "      <td>0</td>\n",
       "      <td>unknown</td>\n",
       "      <td>58</td>\n",
       "      <td>среднее</td>\n",
       "      <td>1</td>\n",
       "      <td>гражданский брак</td>\n",
       "      <td>1</td>\n",
       "      <td>F</td>\n",
       "      <td>пенсионер</td>\n",
       "      <td>0</td>\n",
       "      <td>145017</td>\n",
       "      <td>сыграть свадьбу</td>\n",
       "    </tr>\n",
       "    <tr>\n",
       "      <td>...</td>\n",
       "      <td>...</td>\n",
       "      <td>...</td>\n",
       "      <td>...</td>\n",
       "      <td>...</td>\n",
       "      <td>...</td>\n",
       "      <td>...</td>\n",
       "      <td>...</td>\n",
       "      <td>...</td>\n",
       "      <td>...</td>\n",
       "      <td>...</td>\n",
       "      <td>...</td>\n",
       "      <td>...</td>\n",
       "    </tr>\n",
       "    <tr>\n",
       "      <td>20702</td>\n",
       "      <td>0</td>\n",
       "      <td>unknown</td>\n",
       "      <td>64</td>\n",
       "      <td>среднее</td>\n",
       "      <td>1</td>\n",
       "      <td>женат / замужем</td>\n",
       "      <td>0</td>\n",
       "      <td>F</td>\n",
       "      <td>пенсионер</td>\n",
       "      <td>0</td>\n",
       "      <td>145017</td>\n",
       "      <td>дополнительное образование</td>\n",
       "    </tr>\n",
       "    <tr>\n",
       "      <td>21032</td>\n",
       "      <td>0</td>\n",
       "      <td>unknown</td>\n",
       "      <td>60</td>\n",
       "      <td>среднее</td>\n",
       "      <td>1</td>\n",
       "      <td>женат / замужем</td>\n",
       "      <td>0</td>\n",
       "      <td>F</td>\n",
       "      <td>пенсионер</td>\n",
       "      <td>0</td>\n",
       "      <td>145017</td>\n",
       "      <td>заняться образованием</td>\n",
       "    </tr>\n",
       "    <tr>\n",
       "      <td>21132</td>\n",
       "      <td>0</td>\n",
       "      <td>unknown</td>\n",
       "      <td>47</td>\n",
       "      <td>среднее</td>\n",
       "      <td>1</td>\n",
       "      <td>женат / замужем</td>\n",
       "      <td>0</td>\n",
       "      <td>F</td>\n",
       "      <td>сотрудник</td>\n",
       "      <td>0</td>\n",
       "      <td>145017</td>\n",
       "      <td>ремонт жилью</td>\n",
       "    </tr>\n",
       "    <tr>\n",
       "      <td>21281</td>\n",
       "      <td>1</td>\n",
       "      <td>unknown</td>\n",
       "      <td>30</td>\n",
       "      <td>высшее</td>\n",
       "      <td>0</td>\n",
       "      <td>женат / замужем</td>\n",
       "      <td>0</td>\n",
       "      <td>F</td>\n",
       "      <td>сотрудник</td>\n",
       "      <td>0</td>\n",
       "      <td>145017</td>\n",
       "      <td>покупка коммерческой недвижимости</td>\n",
       "    </tr>\n",
       "    <tr>\n",
       "      <td>21415</td>\n",
       "      <td>0</td>\n",
       "      <td>unknown</td>\n",
       "      <td>54</td>\n",
       "      <td>среднее</td>\n",
       "      <td>1</td>\n",
       "      <td>женат / замужем</td>\n",
       "      <td>0</td>\n",
       "      <td>F</td>\n",
       "      <td>пенсионер</td>\n",
       "      <td>0</td>\n",
       "      <td>145017</td>\n",
       "      <td>операции с жильем</td>\n",
       "    </tr>\n",
       "  </tbody>\n",
       "</table>\n",
       "<p>71 rows × 12 columns</p>\n",
       "</div>"
      ],
      "text/plain": [
       "       children days_employed  dob_years education  education_id  \\\n",
       "2849          0       unknown         41   среднее             1   \n",
       "3290          0       unknown         58   среднее             1   \n",
       "4182          1       unknown         34    высшее             0   \n",
       "4851          0       unknown         60   среднее             1   \n",
       "5557          0       unknown         58   среднее             1   \n",
       "...         ...           ...        ...       ...           ...   \n",
       "20702         0       unknown         64   среднее             1   \n",
       "21032         0       unknown         60   среднее             1   \n",
       "21132         0       unknown         47   среднее             1   \n",
       "21281         1       unknown         30    высшее             0   \n",
       "21415         0       unknown         54   среднее             1   \n",
       "\n",
       "          family_status  family_status_id gender income_type  debt  \\\n",
       "2849    женат / замужем                 0      F   сотрудник     0   \n",
       "3290   гражданский брак                 1      F   пенсионер     0   \n",
       "4182   гражданский брак                 1      F   сотрудник     0   \n",
       "4851   гражданский брак                 1      F   пенсионер     0   \n",
       "5557   гражданский брак                 1      F   пенсионер     0   \n",
       "...                 ...               ...    ...         ...   ...   \n",
       "20702   женат / замужем                 0      F   пенсионер     0   \n",
       "21032   женат / замужем                 0      F   пенсионер     0   \n",
       "21132   женат / замужем                 0      F   сотрудник     0   \n",
       "21281   женат / замужем                 0      F   сотрудник     0   \n",
       "21415   женат / замужем                 0      F   пенсионер     0   \n",
       "\n",
       "       total_income                            purpose  \n",
       "2849         145017            покупка жилья для семьи  \n",
       "3290         145017                    сыграть свадьбу  \n",
       "4182         145017                            свадьба  \n",
       "4851         145017                            свадьба  \n",
       "5557         145017                    сыграть свадьбу  \n",
       "...             ...                                ...  \n",
       "20702        145017         дополнительное образование  \n",
       "21032        145017              заняться образованием  \n",
       "21132        145017                       ремонт жилью  \n",
       "21281        145017  покупка коммерческой недвижимости  \n",
       "21415        145017                  операции с жильем  \n",
       "\n",
       "[71 rows x 12 columns]"
      ]
     },
     "execution_count": 25,
     "metadata": {},
     "output_type": "execute_result"
    }
   ],
   "source": [
    "#посчитаем количество дубликатов\n",
    "print('Дубликатов в таблице:', scoring.duplicated().sum())\n",
    "#посмотрим на строки с дубликатами\n",
    "scoring[scoring.duplicated() == True]"
   ]
  },
  {
   "cell_type": "code",
   "execution_count": 26,
   "metadata": {},
   "outputs": [
    {
     "name": "stdout",
     "output_type": "stream",
     "text": [
      "Дубликатов в таблице: 0\n"
     ]
    }
   ],
   "source": [
    "#удалим дубликаты\n",
    "scoring = scoring.drop_duplicates().reset_index(drop = True)\n",
    "print('Дубликатов в таблице:', scoring.duplicated().sum())#проверим"
   ]
  },
  {
   "cell_type": "markdown",
   "metadata": {},
   "source": [
    "### Вывод"
   ]
  },
  {
   "cell_type": "markdown",
   "metadata": {},
   "source": [
    "В таблице обнаружилось 71 дубликат. Для удаления дубликатов был применен метод .drop_duplicates() с изменением индексов и удалением старых из таблицы. Дубликаты могли появиться в результате сбоя в записи данных трудового стажа и ежемесячного дохода, так как во всех дубликатах эти значения отсутствовали, а ID у клиентов нет."
   ]
  },
  {
   "cell_type": "markdown",
   "metadata": {},
   "source": [
    "### Лемматизация"
   ]
  },
  {
   "cell_type": "code",
   "execution_count": 27,
   "metadata": {},
   "outputs": [
    {
     "data": {
      "text/plain": [
       "[автомобиль, \\n]                                          972\n",
       "[свадьба, \\n]                                             791\n",
       "[на,  , проведение,  , свадьба, \\n]                       768\n",
       "[сыграть,  , свадьба, \\n]                                 765\n",
       "[операция,  , с,  , недвижимость, \\n]                     675\n",
       "[покупка,  , коммерческий,  , недвижимость, \\n]           661\n",
       "[операция,  , с,  , жилье, \\n]                            652\n",
       "[покупка,  , жилье,  , для,  , сдача, \\n]                 651\n",
       "[операция,  , с,  , коммерческий,  , недвижимость, \\n]    650\n",
       "[покупка,  , жилье, \\n]                                   646\n",
       "[жилье, \\n]                                               646\n",
       "[покупка,  , жилье,  , для,  , семья, \\n]                 638\n",
       "[строительство,  , собственный,  , недвижимость, \\n]      635\n",
       "[недвижимость, \\n]                                        633\n",
       "[операция,  , со,  , свой,  , недвижимость, \\n]           627\n",
       "[строительство,  , жилой,  , недвижимость, \\n]            624\n",
       "[покупка,  , недвижимость, \\n]                            620\n",
       "[покупка,  , свой,  , жилье, \\n]                          620\n",
       "[строительство,  , недвижимость, \\n]                      619\n",
       "[ремонт,  , жилье, \\n]                                    607\n",
       "[покупка,  , жилой,  , недвижимость, \\n]                  606\n",
       "[на,  , покупка,  , свой,  , автомобиль, \\n]              505\n",
       "[заниматься,  , высокий,  , образование, \\n]              496\n",
       "[сделка,  , с,  , подержанный,  , автомобиль, \\n]         486\n",
       "[свой,  , автомобиль, \\n]                                 478\n",
       "[на,  , покупка,  , подержать,  , автомобиль, \\n]         478\n",
       "[на,  , покупка,  , автомобиль, \\n]                       471\n",
       "[приобретение,  , автомобиль, \\n]                         461\n",
       "[дополнительный,  , образование, \\n]                      460\n",
       "[сделка,  , с,  , автомобиль, \\n]                         455\n",
       "[высокий,  , образование, \\n]                             452\n",
       "[образование, \\n]                                         447\n",
       "[получение,  , дополнительный,  , образование, \\n]        446\n",
       "[получение,  , образование, \\n]                           442\n",
       "[профильный,  , образование, \\n]                          436\n",
       "[получение,  , высокий,  , образование, \\n]               426\n",
       "[заниматься,  , образование, \\n]                          408\n",
       "Name: purpose_lemmas, dtype: int64"
      ]
     },
     "execution_count": 27,
     "metadata": {},
     "output_type": "execute_result"
    }
   ],
   "source": [
    "from pymystem3 import Mystem#импортируем библиотеку с функцией лемматизации на русском языке\n",
    "m = Mystem()\n",
    "#напишем функцию, которая будет идти по строкам столбца \"цель получения кредита\"  \n",
    "#и каждый записанный текст в строке разделять на леммы\n",
    "def purpose_list(row):\n",
    "    purpose = row['purpose']\n",
    "    lemmas = m.lemmatize(purpose)\n",
    "    return lemmas\n",
    "#создаем новый столбец с разделением целей кредита на леммы\n",
    "scoring['purpose_lemmas'] = scoring.apply(purpose_list, axis = 1)\n",
    "#посчитаем количество уникальных значений\n",
    "scoring['purpose_lemmas'].value_counts()"
   ]
  },
  {
   "cell_type": "markdown",
   "metadata": {},
   "source": [
    "### Вывод"
   ]
  },
  {
   "cell_type": "markdown",
   "metadata": {},
   "source": [
    "Выделила леммы в значениях столбца с целями получения кредита. Для этого написала функцию, которая идет по строкам столбца \"цель получения кредита\" и каждый записанный текст в строке разделяет на леммы.\n",
    "Методом .apply()создала новый столбец с разделением целей кредита на леммы.\n",
    "Методом .value_counts() посчитала какие цели встречаются чаще всего. "
   ]
  },
  {
   "cell_type": "markdown",
   "metadata": {},
   "source": [
    "### Категоризация данных"
   ]
  },
  {
   "cell_type": "code",
   "execution_count": 28,
   "metadata": {},
   "outputs": [
    {
     "data": {
      "text/plain": [
       "приобретение недвижимости    10810\n",
       "приобретение автомобиля       4306\n",
       "получение образования         4013\n",
       "организация свадьбы           2324\n",
       "Name: purpose_group, dtype: int64"
      ]
     },
     "execution_count": 28,
     "metadata": {},
     "output_type": "execute_result"
    }
   ],
   "source": [
    "# разделим цели по категориям, напишем функцию, которая возвращает категорию цели получения кредита\n",
    "def purpose_group(row):\n",
    "    group = row['purpose_lemmas']\n",
    "    if 'автомобиль' in group:\n",
    "        return 'приобретение автомобиля'\n",
    "    if 'свадьба' in group:\n",
    "        return 'организация свадьбы'\n",
    "    if 'недвижимость' in group or 'жилье' in group:\n",
    "        return 'приобретение недвижимости'\n",
    "    return 'получение образования'\n",
    "#создадим новый столбец целей кредитов с разделением их по категориям\n",
    "scoring['purpose_group'] = scoring.apply(purpose_group, axis = 1)\n",
    "scoring['purpose_group'].value_counts()\n"
   ]
  },
  {
   "cell_type": "markdown",
   "metadata": {},
   "source": [
    "### Вывод"
   ]
  },
  {
   "cell_type": "markdown",
   "metadata": {},
   "source": [
    "В основном целями в получения кредитов являются: приобретение недвижимости (сюда можно отнести цели такие как: ремонт недвижимости, строительство недвижимости и операции с недвижимостью), приобретение автомобиля, организация свадьбы и получение образования. Разделим их на категории для этого напишем функцию, которая в зависимости от условия возвращает нужную категорию цели получения кредита. Создадим новый столбец целей кредитов с разделением их по категориям и посчитаем какие категории целей встречаются чаще всего. В результате получили, что основной целью получения кредита является \"приобретение недвижимости\", эта цель составляет 50% от общего объема целей всех кредитов."
   ]
  },
  {
   "cell_type": "markdown",
   "metadata": {},
   "source": [
    "### Шаг 3. Ответьте на вопросы"
   ]
  },
  {
   "cell_type": "markdown",
   "metadata": {},
   "source": [
    "- Есть ли зависимость между наличием детей и возвратом кредита в срок?"
   ]
  },
  {
   "cell_type": "code",
   "execution_count": 29,
   "metadata": {},
   "outputs": [
    {
     "data": {
      "text/html": [
       "<div>\n",
       "<style scoped>\n",
       "    .dataframe tbody tr th:only-of-type {\n",
       "        vertical-align: middle;\n",
       "    }\n",
       "\n",
       "    .dataframe tbody tr th {\n",
       "        vertical-align: top;\n",
       "    }\n",
       "\n",
       "    .dataframe thead tr th {\n",
       "        text-align: left;\n",
       "    }\n",
       "\n",
       "    .dataframe thead tr:last-of-type th {\n",
       "        text-align: right;\n",
       "    }\n",
       "</style>\n",
       "<table border=\"1\" class=\"dataframe\">\n",
       "  <thead>\n",
       "    <tr>\n",
       "      <th></th>\n",
       "      <th colspan=\"2\" halign=\"left\">debt</th>\n",
       "      <th>percentage_share</th>\n",
       "    </tr>\n",
       "    <tr>\n",
       "      <th></th>\n",
       "      <th>count</th>\n",
       "      <th>sum</th>\n",
       "      <th></th>\n",
       "    </tr>\n",
       "    <tr>\n",
       "      <th>children</th>\n",
       "      <th></th>\n",
       "      <th></th>\n",
       "      <th></th>\n",
       "    </tr>\n",
       "  </thead>\n",
       "  <tbody>\n",
       "    <tr>\n",
       "      <td>4</td>\n",
       "      <td>41</td>\n",
       "      <td>4</td>\n",
       "      <td>9.756098</td>\n",
       "    </tr>\n",
       "    <tr>\n",
       "      <td>2</td>\n",
       "      <td>2128</td>\n",
       "      <td>202</td>\n",
       "      <td>9.492481</td>\n",
       "    </tr>\n",
       "    <tr>\n",
       "      <td>1</td>\n",
       "      <td>4855</td>\n",
       "      <td>445</td>\n",
       "      <td>9.165808</td>\n",
       "    </tr>\n",
       "    <tr>\n",
       "      <td>3</td>\n",
       "      <td>330</td>\n",
       "      <td>27</td>\n",
       "      <td>8.181818</td>\n",
       "    </tr>\n",
       "    <tr>\n",
       "      <td>0</td>\n",
       "      <td>14090</td>\n",
       "      <td>1063</td>\n",
       "      <td>7.544358</td>\n",
       "    </tr>\n",
       "    <tr>\n",
       "      <td>5</td>\n",
       "      <td>9</td>\n",
       "      <td>0</td>\n",
       "      <td>0.000000</td>\n",
       "    </tr>\n",
       "  </tbody>\n",
       "</table>\n",
       "</div>"
      ],
      "text/plain": [
       "           debt       percentage_share\n",
       "          count   sum                 \n",
       "children                              \n",
       "4            41     4         9.756098\n",
       "2          2128   202         9.492481\n",
       "1          4855   445         9.165808\n",
       "3           330    27         8.181818\n",
       "0         14090  1063         7.544358\n",
       "5             9     0         0.000000"
      ]
     },
     "execution_count": 29,
     "metadata": {},
     "output_type": "execute_result"
    }
   ],
   "source": [
    "#сгруппируем таблицу по количеству детей и задолженности по возврату кредитов\n",
    "#посчитаем количество строк по каждой категории и сумму задолженности по каждой категории\n",
    "grouped_children = scoring.groupby('children').agg({'debt' : ['count', 'sum']})\n",
    "#определим доли невозврата по числу детей\n",
    "grouped_children['percentage_share'] = (grouped_children['debt']['sum'] / grouped_children['debt']['count']) * 100\n",
    "#отсортируем таблицу по доле невозврата, по убыванию\n",
    "grouped_children.sort_values(by = 'percentage_share', ascending = False)"
   ]
  },
  {
   "cell_type": "markdown",
   "metadata": {},
   "source": [
    "### Вывод"
   ]
  },
  {
   "cell_type": "markdown",
   "metadata": {},
   "source": [
    "Зависимость между детьми и возвратом кредита есть: чем детей меньше, тем доля невозврата тоже меньше. \n",
    "Выборка, где у клиентов 3 и более детей, считаю не информативной, так как она очень маленькая.\n",
    "Клиенты, у которых есть дети, несут более тяжелую финансовую нагрузку и у них возрастает вероятность непредвидимых трат, поэтому платежеспособность у клиентов, у которых нет детей, выше."
   ]
  },
  {
   "cell_type": "markdown",
   "metadata": {},
   "source": [
    "- Есть ли зависимость между семейным положением и возвратом кредита в срок?"
   ]
  },
  {
   "cell_type": "code",
   "execution_count": 30,
   "metadata": {},
   "outputs": [
    {
     "data": {
      "text/html": [
       "<div>\n",
       "<style scoped>\n",
       "    .dataframe tbody tr th:only-of-type {\n",
       "        vertical-align: middle;\n",
       "    }\n",
       "\n",
       "    .dataframe tbody tr th {\n",
       "        vertical-align: top;\n",
       "    }\n",
       "\n",
       "    .dataframe thead tr th {\n",
       "        text-align: left;\n",
       "    }\n",
       "\n",
       "    .dataframe thead tr:last-of-type th {\n",
       "        text-align: right;\n",
       "    }\n",
       "</style>\n",
       "<table border=\"1\" class=\"dataframe\">\n",
       "  <thead>\n",
       "    <tr>\n",
       "      <th></th>\n",
       "      <th colspan=\"2\" halign=\"left\">debt</th>\n",
       "      <th>percentage share</th>\n",
       "    </tr>\n",
       "    <tr>\n",
       "      <th></th>\n",
       "      <th>count</th>\n",
       "      <th>sum</th>\n",
       "      <th></th>\n",
       "    </tr>\n",
       "    <tr>\n",
       "      <th>family_status</th>\n",
       "      <th></th>\n",
       "      <th></th>\n",
       "      <th></th>\n",
       "    </tr>\n",
       "  </thead>\n",
       "  <tbody>\n",
       "    <tr>\n",
       "      <td>не женат / не замужем</td>\n",
       "      <td>2810</td>\n",
       "      <td>274</td>\n",
       "      <td>9.750890</td>\n",
       "    </tr>\n",
       "    <tr>\n",
       "      <td>гражданский брак</td>\n",
       "      <td>4150</td>\n",
       "      <td>388</td>\n",
       "      <td>9.349398</td>\n",
       "    </tr>\n",
       "    <tr>\n",
       "      <td>женат / замужем</td>\n",
       "      <td>12339</td>\n",
       "      <td>931</td>\n",
       "      <td>7.545182</td>\n",
       "    </tr>\n",
       "    <tr>\n",
       "      <td>в разводе</td>\n",
       "      <td>1195</td>\n",
       "      <td>85</td>\n",
       "      <td>7.112971</td>\n",
       "    </tr>\n",
       "    <tr>\n",
       "      <td>вдовец / вдова</td>\n",
       "      <td>959</td>\n",
       "      <td>63</td>\n",
       "      <td>6.569343</td>\n",
       "    </tr>\n",
       "  </tbody>\n",
       "</table>\n",
       "</div>"
      ],
      "text/plain": [
       "                        debt      percentage share\n",
       "                       count  sum                 \n",
       "family_status                                     \n",
       "не женат / не замужем   2810  274         9.750890\n",
       "гражданский брак        4150  388         9.349398\n",
       "женат / замужем        12339  931         7.545182\n",
       "в разводе               1195   85         7.112971\n",
       "вдовец / вдова           959   63         6.569343"
      ]
     },
     "execution_count": 30,
     "metadata": {},
     "output_type": "execute_result"
    }
   ],
   "source": [
    "#сгруппируем таблицу по семейному положению и задолженности по возврату кредитов\n",
    "#посчитаем количество строк по каждой категории и сумму задолженности по каждой категории\n",
    "grouped_family_status = scoring.groupby('family_status').agg({'debt' : ['count', 'sum']})\n",
    "#определим доли невозврата по семейному положению\n",
    "grouped_family_status['percentage share'] = (grouped_family_status['debt']['sum'] / grouped_family_status['debt']['count']) * 100\n",
    "#отсортируем таблицу по доле невозврата, по убыванию\n",
    "grouped_family_status.sort_values(by = 'percentage share', ascending = False)"
   ]
  },
  {
   "cell_type": "markdown",
   "metadata": {},
   "source": [
    "### Вывод"
   ]
  },
  {
   "cell_type": "markdown",
   "metadata": {},
   "source": [
    "Зависимость между семейным положением и возвратом кредита есть.\n",
    "Клиенты, которые состоят в браке, более надежные клиенты. Это обусловлено тем, что они часто выступают созаемщиками по кредиту, особенно по кредитам цели, которых приобретение недвижимости. Как правило владеют общим имуществом за счет, которого можно рассчитаться с банком. \n",
    "Если оба супруга работают, то могут поддержать друг друга в непредвидимых финансовых ситуациях, например, при потере работы, тем самым уменьшая риски невозврата кредита."
   ]
  },
  {
   "cell_type": "markdown",
   "metadata": {},
   "source": [
    "- Есть ли зависимость между уровнем дохода и возвратом кредита в срок?"
   ]
  },
  {
   "cell_type": "code",
   "execution_count": 31,
   "metadata": {},
   "outputs": [
    {
     "name": "stdout",
     "output_type": "stream",
     "text": [
      "Минимальное значение по доходу 20667 \n",
      "Максимальное значение по доходу 2265604\n",
      "Медиана 145017.0\n"
     ]
    }
   ],
   "source": [
    "#найдем минимальное, максимальное значение и медиану по уровню дохода\n",
    "print('Минимальное значение по доходу', scoring['total_income'].min(), '\\nМаксимальное значение по доходу', scoring['total_income'].max())\n",
    "median_total_income = scoring['total_income'].median()\n",
    "print('Медиана', median_total_income)"
   ]
  },
  {
   "cell_type": "code",
   "execution_count": 32,
   "metadata": {},
   "outputs": [],
   "source": [
    "#напишем функцию, которая на основании условий будет относить доход к определенной категории\n",
    "#дополним функцию конструкцией try-except, которая при некорректном условии для кого-либо из \n",
    "#значений, будет выводить на экран сообщение: \"Проверь условия\".\n",
    "def group(row):\n",
    "    try:\n",
    "        total_income = row['total_income']\n",
    "        if total_income <= median_total_income * 0.31:\n",
    "            return 'низкий'\n",
    "        if median_total_income * 0.31 < total_income < median_total_income * 0.75:\n",
    "            return 'ниже среднего'\n",
    "        if total_income >= median_total_income * 1.25:\n",
    "            return 'высокий'\n",
    "        return 'средний'\n",
    "    except:\n",
    "        print('Проверь условия')\n",
    "#создадим новый столбец с разделением по категориям доходов клиентов\n",
    "scoring['income_group'] = scoring.apply(group, axis = 1)\n",
    "    "
   ]
  },
  {
   "cell_type": "code",
   "execution_count": 33,
   "metadata": {},
   "outputs": [
    {
     "data": {
      "text/html": [
       "<div>\n",
       "<style scoped>\n",
       "    .dataframe tbody tr th:only-of-type {\n",
       "        vertical-align: middle;\n",
       "    }\n",
       "\n",
       "    .dataframe tbody tr th {\n",
       "        vertical-align: top;\n",
       "    }\n",
       "\n",
       "    .dataframe thead tr th {\n",
       "        text-align: left;\n",
       "    }\n",
       "\n",
       "    .dataframe thead tr:last-of-type th {\n",
       "        text-align: right;\n",
       "    }\n",
       "</style>\n",
       "<table border=\"1\" class=\"dataframe\">\n",
       "  <thead>\n",
       "    <tr>\n",
       "      <th></th>\n",
       "      <th colspan=\"2\" halign=\"left\">debt</th>\n",
       "      <th>percentage share</th>\n",
       "    </tr>\n",
       "    <tr>\n",
       "      <th></th>\n",
       "      <th>count</th>\n",
       "      <th>sum</th>\n",
       "      <th></th>\n",
       "    </tr>\n",
       "    <tr>\n",
       "      <th>income_group</th>\n",
       "      <th></th>\n",
       "      <th></th>\n",
       "      <th></th>\n",
       "    </tr>\n",
       "  </thead>\n",
       "  <tbody>\n",
       "    <tr>\n",
       "      <td>средний</td>\n",
       "      <td>9615</td>\n",
       "      <td>830</td>\n",
       "      <td>8.632345</td>\n",
       "    </tr>\n",
       "    <tr>\n",
       "      <td>ниже среднего</td>\n",
       "      <td>5286</td>\n",
       "      <td>424</td>\n",
       "      <td>8.021188</td>\n",
       "    </tr>\n",
       "    <tr>\n",
       "      <td>высокий</td>\n",
       "      <td>6337</td>\n",
       "      <td>473</td>\n",
       "      <td>7.464100</td>\n",
       "    </tr>\n",
       "    <tr>\n",
       "      <td>низкий</td>\n",
       "      <td>215</td>\n",
       "      <td>14</td>\n",
       "      <td>6.511628</td>\n",
       "    </tr>\n",
       "  </tbody>\n",
       "</table>\n",
       "</div>"
      ],
      "text/plain": [
       "               debt      percentage share\n",
       "              count  sum                 \n",
       "income_group                             \n",
       "средний        9615  830         8.632345\n",
       "ниже среднего  5286  424         8.021188\n",
       "высокий        6337  473         7.464100\n",
       "низкий          215   14         6.511628"
      ]
     },
     "execution_count": 33,
     "metadata": {},
     "output_type": "execute_result"
    }
   ],
   "source": [
    "#сгруппируем таблицу по доходу и задолженности по возврату кредитов\n",
    "#посчитаем количество строк по каждой категории и сумму задолженности по каждой категории\n",
    "scoring_grouped_income = scoring.groupby('income_group').agg({'debt' : ['count', 'sum']})\n",
    "#определим доли невозврата по категориям\n",
    "scoring_grouped_income['percentage share'] = (scoring_grouped_income['debt']['sum'] / scoring_grouped_income['debt']['count']) * 100\n",
    "#отсортируем таблицу по доле невозврата, по убыванию\n",
    "scoring_grouped_income.sort_values(by = 'percentage share', ascending = False)"
   ]
  },
  {
   "cell_type": "markdown",
   "metadata": {},
   "source": [
    "### Вывод"
   ]
  },
  {
   "cell_type": "markdown",
   "metadata": {},
   "source": [
    "Доход клиентов был разделен на категории:\n",
    "1. высокий, доход больше 1.25 медианы (больше 181271,25)\n",
    "2. средний, доход от 0,75 до 1,25 медианы (от 108762,75 до 181271,25)\n",
    "3. ниже среднего, доход от 0,31 до 0,75 медианы (от 44955,27 до 108762,75)\n",
    "4. низкий, доход меньше 0,31 медианы (меньше 44955,27)\n",
    "Самая маленькая доля невозврата у клиентов с высоким доходом.\n",
    "Клиентов с низким уровнем дохода слишком мало для качественной оценки их платежеспособности.\n",
    "Самая высокая доля невозврата у клиентов со средним уровнем дохода."
   ]
  },
  {
   "cell_type": "markdown",
   "metadata": {},
   "source": [
    "- Как разные цели кредита влияют на его возврат в срок?"
   ]
  },
  {
   "cell_type": "code",
   "execution_count": 34,
   "metadata": {},
   "outputs": [
    {
     "data": {
      "text/html": [
       "<div>\n",
       "<style scoped>\n",
       "    .dataframe tbody tr th:only-of-type {\n",
       "        vertical-align: middle;\n",
       "    }\n",
       "\n",
       "    .dataframe tbody tr th {\n",
       "        vertical-align: top;\n",
       "    }\n",
       "\n",
       "    .dataframe thead tr th {\n",
       "        text-align: left;\n",
       "    }\n",
       "\n",
       "    .dataframe thead tr:last-of-type th {\n",
       "        text-align: right;\n",
       "    }\n",
       "</style>\n",
       "<table border=\"1\" class=\"dataframe\">\n",
       "  <thead>\n",
       "    <tr>\n",
       "      <th></th>\n",
       "      <th colspan=\"2\" halign=\"left\">debt</th>\n",
       "      <th>percentage share</th>\n",
       "    </tr>\n",
       "    <tr>\n",
       "      <th></th>\n",
       "      <th>count</th>\n",
       "      <th>sum</th>\n",
       "      <th></th>\n",
       "    </tr>\n",
       "    <tr>\n",
       "      <th>purpose_group</th>\n",
       "      <th></th>\n",
       "      <th></th>\n",
       "      <th></th>\n",
       "    </tr>\n",
       "  </thead>\n",
       "  <tbody>\n",
       "    <tr>\n",
       "      <td>приобретение автомобиля</td>\n",
       "      <td>4306</td>\n",
       "      <td>403</td>\n",
       "      <td>9.359034</td>\n",
       "    </tr>\n",
       "    <tr>\n",
       "      <td>получение образования</td>\n",
       "      <td>4013</td>\n",
       "      <td>370</td>\n",
       "      <td>9.220035</td>\n",
       "    </tr>\n",
       "    <tr>\n",
       "      <td>организация свадьбы</td>\n",
       "      <td>2324</td>\n",
       "      <td>186</td>\n",
       "      <td>8.003442</td>\n",
       "    </tr>\n",
       "    <tr>\n",
       "      <td>приобретение недвижимости</td>\n",
       "      <td>10810</td>\n",
       "      <td>782</td>\n",
       "      <td>7.234043</td>\n",
       "    </tr>\n",
       "  </tbody>\n",
       "</table>\n",
       "</div>"
      ],
      "text/plain": [
       "                            debt      percentage share\n",
       "                           count  sum                 \n",
       "purpose_group                                         \n",
       "приобретение автомобиля     4306  403         9.359034\n",
       "получение образования       4013  370         9.220035\n",
       "организация свадьбы         2324  186         8.003442\n",
       "приобретение недвижимости  10810  782         7.234043"
      ]
     },
     "execution_count": 34,
     "metadata": {},
     "output_type": "execute_result"
    }
   ],
   "source": [
    "#сгруппируем категории целей кредитов по задолженности по возврату кредитов\n",
    "#посчитаем количество строк по каждой категории и сумму задолженности по каждой категории\n",
    "scoring_grouped = scoring.groupby('purpose_group').agg({'debt' : ['count', 'sum']})\n",
    "#определим доли невозврата по категориям\n",
    "scoring_grouped['percentage share'] = (scoring_grouped['debt']['sum'] / scoring_grouped['debt']['count']) * 100\n",
    "#отсортируем таблицу по доле невозврата, по убыванию\n",
    "scoring_grouped.sort_values(by = 'percentage share', ascending = False)"
   ]
  },
  {
   "cell_type": "markdown",
   "metadata": {},
   "source": [
    "### Вывод"
   ]
  },
  {
   "cell_type": "markdown",
   "metadata": {},
   "source": [
    "Самая большая доля невозврата у клиентов, целью которых является покупка автомобиля и получение образования. Самая низкая доля невозврата по цели - приобретение недвижимости. Это объясняется тем, что клиенты более ответственно подходят к покупке недвижимости и банк в свою очередь более скрупулёзно оценивает клиента на предмет платежеспособности, а также обычно все кредиты, связанные с недвижимостью, имеют обеспечение и поручительство. "
   ]
  },
  {
   "cell_type": "markdown",
   "metadata": {},
   "source": [
    "### Шаг 4. Общий вывод"
   ]
  },
  {
   "cell_type": "code",
   "execution_count": 35,
   "metadata": {},
   "outputs": [
    {
     "data": {
      "text/html": [
       "<div>\n",
       "<style scoped>\n",
       "    .dataframe tbody tr th:only-of-type {\n",
       "        vertical-align: middle;\n",
       "    }\n",
       "\n",
       "    .dataframe tbody tr th {\n",
       "        vertical-align: top;\n",
       "    }\n",
       "\n",
       "    .dataframe thead th {\n",
       "        text-align: right;\n",
       "    }\n",
       "</style>\n",
       "<table border=\"1\" class=\"dataframe\">\n",
       "  <thead>\n",
       "    <tr style=\"text-align: right;\">\n",
       "      <th>family_status</th>\n",
       "      <th>в разводе</th>\n",
       "      <th>вдовец / вдова</th>\n",
       "      <th>гражданский брак</th>\n",
       "      <th>женат / замужем</th>\n",
       "      <th>не женат / не замужем</th>\n",
       "    </tr>\n",
       "    <tr>\n",
       "      <th>purpose_group</th>\n",
       "      <th></th>\n",
       "      <th></th>\n",
       "      <th></th>\n",
       "      <th></th>\n",
       "      <th></th>\n",
       "    </tr>\n",
       "  </thead>\n",
       "  <tbody>\n",
       "    <tr>\n",
       "      <td>организация свадьбы</td>\n",
       "      <td>0</td>\n",
       "      <td>0</td>\n",
       "      <td>2324</td>\n",
       "      <td>0</td>\n",
       "      <td>0</td>\n",
       "    </tr>\n",
       "    <tr>\n",
       "      <td>получение образования</td>\n",
       "      <td>238</td>\n",
       "      <td>199</td>\n",
       "      <td>404</td>\n",
       "      <td>2595</td>\n",
       "      <td>577</td>\n",
       "    </tr>\n",
       "    <tr>\n",
       "      <td>приобретение автомобиля</td>\n",
       "      <td>281</td>\n",
       "      <td>218</td>\n",
       "      <td>434</td>\n",
       "      <td>2736</td>\n",
       "      <td>637</td>\n",
       "    </tr>\n",
       "    <tr>\n",
       "      <td>приобретение недвижимости</td>\n",
       "      <td>676</td>\n",
       "      <td>542</td>\n",
       "      <td>988</td>\n",
       "      <td>7008</td>\n",
       "      <td>1596</td>\n",
       "    </tr>\n",
       "  </tbody>\n",
       "</table>\n",
       "</div>"
      ],
      "text/plain": [
       "family_status              в разводе  вдовец / вдова  гражданский брак  \\\n",
       "purpose_group                                                            \n",
       "организация свадьбы                0               0              2324   \n",
       "получение образования            238             199               404   \n",
       "приобретение автомобиля          281             218               434   \n",
       "приобретение недвижимости        676             542               988   \n",
       "\n",
       "family_status              женат / замужем  не женат / не замужем  \n",
       "purpose_group                                                      \n",
       "организация свадьбы                      0                      0  \n",
       "получение образования                 2595                    577  \n",
       "приобретение автомобиля               2736                    637  \n",
       "приобретение недвижимости             7008                   1596  "
      ]
     },
     "execution_count": 35,
     "metadata": {},
     "output_type": "execute_result"
    }
   ],
   "source": [
    "#посмотрим как наблюдения в нашей выборке распределены между целями кредита и уровнем дохода\n",
    "#воспользуемся таблицей сопряженности\n",
    "pd.crosstab(scoring['purpose_group'], scoring['family_status'])"
   ]
  },
  {
   "cell_type": "code",
   "execution_count": 36,
   "metadata": {},
   "outputs": [
    {
     "data": {
      "text/html": [
       "<div>\n",
       "<style scoped>\n",
       "    .dataframe tbody tr th:only-of-type {\n",
       "        vertical-align: middle;\n",
       "    }\n",
       "\n",
       "    .dataframe tbody tr th {\n",
       "        vertical-align: top;\n",
       "    }\n",
       "\n",
       "    .dataframe thead th {\n",
       "        text-align: right;\n",
       "    }\n",
       "</style>\n",
       "<table border=\"1\" class=\"dataframe\">\n",
       "  <thead>\n",
       "    <tr style=\"text-align: right;\">\n",
       "      <th>children</th>\n",
       "      <th>0</th>\n",
       "      <th>1</th>\n",
       "      <th>2</th>\n",
       "      <th>3</th>\n",
       "      <th>4</th>\n",
       "      <th>5</th>\n",
       "    </tr>\n",
       "    <tr>\n",
       "      <th>purpose_group</th>\n",
       "      <th></th>\n",
       "      <th></th>\n",
       "      <th></th>\n",
       "      <th></th>\n",
       "      <th></th>\n",
       "      <th></th>\n",
       "    </tr>\n",
       "  </thead>\n",
       "  <tbody>\n",
       "    <tr>\n",
       "      <td>организация свадьбы</td>\n",
       "      <td>1530</td>\n",
       "      <td>534</td>\n",
       "      <td>224</td>\n",
       "      <td>32</td>\n",
       "      <td>3</td>\n",
       "      <td>1</td>\n",
       "    </tr>\n",
       "    <tr>\n",
       "      <td>получение образования</td>\n",
       "      <td>2642</td>\n",
       "      <td>876</td>\n",
       "      <td>418</td>\n",
       "      <td>69</td>\n",
       "      <td>7</td>\n",
       "      <td>1</td>\n",
       "    </tr>\n",
       "    <tr>\n",
       "      <td>приобретение автомобиля</td>\n",
       "      <td>2845</td>\n",
       "      <td>974</td>\n",
       "      <td>415</td>\n",
       "      <td>60</td>\n",
       "      <td>10</td>\n",
       "      <td>2</td>\n",
       "    </tr>\n",
       "    <tr>\n",
       "      <td>приобретение недвижимости</td>\n",
       "      <td>7073</td>\n",
       "      <td>2471</td>\n",
       "      <td>1071</td>\n",
       "      <td>169</td>\n",
       "      <td>21</td>\n",
       "      <td>5</td>\n",
       "    </tr>\n",
       "  </tbody>\n",
       "</table>\n",
       "</div>"
      ],
      "text/plain": [
       "children                      0     1     2    3   4  5\n",
       "purpose_group                                          \n",
       "организация свадьбы        1530   534   224   32   3  1\n",
       "получение образования      2642   876   418   69   7  1\n",
       "приобретение автомобиля    2845   974   415   60  10  2\n",
       "приобретение недвижимости  7073  2471  1071  169  21  5"
      ]
     },
     "execution_count": 36,
     "metadata": {},
     "output_type": "execute_result"
    }
   ],
   "source": [
    "#посмотрим как наблюдения в нашей выборке распределены между целями кредита и количеством детей\n",
    "#воспользуемся таблицей сопряженности\n",
    "pd.crosstab(scoring['purpose_group'], scoring['children'])"
   ]
  },
  {
   "cell_type": "code",
   "execution_count": 37,
   "metadata": {},
   "outputs": [
    {
     "data": {
      "text/html": [
       "<div>\n",
       "<style scoped>\n",
       "    .dataframe tbody tr th:only-of-type {\n",
       "        vertical-align: middle;\n",
       "    }\n",
       "\n",
       "    .dataframe tbody tr th {\n",
       "        vertical-align: top;\n",
       "    }\n",
       "\n",
       "    .dataframe thead th {\n",
       "        text-align: right;\n",
       "    }\n",
       "</style>\n",
       "<table border=\"1\" class=\"dataframe\">\n",
       "  <thead>\n",
       "    <tr style=\"text-align: right;\">\n",
       "      <th>income_group</th>\n",
       "      <th>высокий</th>\n",
       "      <th>ниже среднего</th>\n",
       "      <th>низкий</th>\n",
       "      <th>средний</th>\n",
       "    </tr>\n",
       "    <tr>\n",
       "      <th>purpose_group</th>\n",
       "      <th></th>\n",
       "      <th></th>\n",
       "      <th></th>\n",
       "      <th></th>\n",
       "    </tr>\n",
       "  </thead>\n",
       "  <tbody>\n",
       "    <tr>\n",
       "      <td>организация свадьбы</td>\n",
       "      <td>680</td>\n",
       "      <td>591</td>\n",
       "      <td>22</td>\n",
       "      <td>1031</td>\n",
       "    </tr>\n",
       "    <tr>\n",
       "      <td>получение образования</td>\n",
       "      <td>1123</td>\n",
       "      <td>1027</td>\n",
       "      <td>45</td>\n",
       "      <td>1818</td>\n",
       "    </tr>\n",
       "    <tr>\n",
       "      <td>приобретение автомобиля</td>\n",
       "      <td>1282</td>\n",
       "      <td>1032</td>\n",
       "      <td>40</td>\n",
       "      <td>1952</td>\n",
       "    </tr>\n",
       "    <tr>\n",
       "      <td>приобретение недвижимости</td>\n",
       "      <td>3252</td>\n",
       "      <td>2636</td>\n",
       "      <td>108</td>\n",
       "      <td>4814</td>\n",
       "    </tr>\n",
       "  </tbody>\n",
       "</table>\n",
       "</div>"
      ],
      "text/plain": [
       "income_group               высокий  ниже среднего  низкий  средний\n",
       "purpose_group                                                     \n",
       "организация свадьбы            680            591      22     1031\n",
       "получение образования         1123           1027      45     1818\n",
       "приобретение автомобиля       1282           1032      40     1952\n",
       "приобретение недвижимости     3252           2636     108     4814"
      ]
     },
     "execution_count": 37,
     "metadata": {},
     "output_type": "execute_result"
    }
   ],
   "source": [
    "#посмотрим как наблюдения в нашей выборке распределены между целями кредита и уровнем дохода\n",
    "#воспользуемся таблицей сопряженности\n",
    "pd.crosstab(scoring['purpose_group'], scoring['income_group'])"
   ]
  },
  {
   "cell_type": "code",
   "execution_count": 38,
   "metadata": {},
   "outputs": [
    {
     "data": {
      "text/html": [
       "<div>\n",
       "<style scoped>\n",
       "    .dataframe tbody tr th:only-of-type {\n",
       "        vertical-align: middle;\n",
       "    }\n",
       "\n",
       "    .dataframe tbody tr th {\n",
       "        vertical-align: top;\n",
       "    }\n",
       "\n",
       "    .dataframe thead th {\n",
       "        text-align: right;\n",
       "    }\n",
       "</style>\n",
       "<table border=\"1\" class=\"dataframe\">\n",
       "  <thead>\n",
       "    <tr style=\"text-align: right;\">\n",
       "      <th>family_status</th>\n",
       "      <th>в разводе</th>\n",
       "      <th>вдовец / вдова</th>\n",
       "      <th>гражданский брак</th>\n",
       "      <th>женат / замужем</th>\n",
       "      <th>не женат / не замужем</th>\n",
       "    </tr>\n",
       "    <tr>\n",
       "      <th>income_group</th>\n",
       "      <th></th>\n",
       "      <th></th>\n",
       "      <th></th>\n",
       "      <th></th>\n",
       "      <th></th>\n",
       "    </tr>\n",
       "  </thead>\n",
       "  <tbody>\n",
       "    <tr>\n",
       "      <td>высокий</td>\n",
       "      <td>371</td>\n",
       "      <td>203</td>\n",
       "      <td>1230</td>\n",
       "      <td>3705</td>\n",
       "      <td>828</td>\n",
       "    </tr>\n",
       "    <tr>\n",
       "      <td>ниже среднего</td>\n",
       "      <td>286</td>\n",
       "      <td>307</td>\n",
       "      <td>1024</td>\n",
       "      <td>2995</td>\n",
       "      <td>674</td>\n",
       "    </tr>\n",
       "    <tr>\n",
       "      <td>низкий</td>\n",
       "      <td>12</td>\n",
       "      <td>15</td>\n",
       "      <td>40</td>\n",
       "      <td>135</td>\n",
       "      <td>13</td>\n",
       "    </tr>\n",
       "    <tr>\n",
       "      <td>средний</td>\n",
       "      <td>526</td>\n",
       "      <td>434</td>\n",
       "      <td>1856</td>\n",
       "      <td>5504</td>\n",
       "      <td>1295</td>\n",
       "    </tr>\n",
       "  </tbody>\n",
       "</table>\n",
       "</div>"
      ],
      "text/plain": [
       "family_status  в разводе  вдовец / вдова  гражданский брак  женат / замужем  \\\n",
       "income_group                                                                  \n",
       "высокий              371             203              1230             3705   \n",
       "ниже среднего        286             307              1024             2995   \n",
       "низкий                12              15                40              135   \n",
       "средний              526             434              1856             5504   \n",
       "\n",
       "family_status  не женат / не замужем  \n",
       "income_group                          \n",
       "высокий                          828  \n",
       "ниже среднего                    674  \n",
       "низкий                            13  \n",
       "средний                         1295  "
      ]
     },
     "execution_count": 38,
     "metadata": {},
     "output_type": "execute_result"
    }
   ],
   "source": [
    "#посмотрим как наблюдения в нашей выборке распределены между уровнем дохода и семейным статусом\n",
    "#воспользуемся таблицей сопряженности\n",
    "pd.crosstab(scoring['income_group'], scoring['family_status'])"
   ]
  },
  {
   "cell_type": "code",
   "execution_count": 39,
   "metadata": {},
   "outputs": [
    {
     "data": {
      "text/html": [
       "<div>\n",
       "<style scoped>\n",
       "    .dataframe tbody tr th:only-of-type {\n",
       "        vertical-align: middle;\n",
       "    }\n",
       "\n",
       "    .dataframe tbody tr th {\n",
       "        vertical-align: top;\n",
       "    }\n",
       "\n",
       "    .dataframe thead th {\n",
       "        text-align: right;\n",
       "    }\n",
       "</style>\n",
       "<table border=\"1\" class=\"dataframe\">\n",
       "  <thead>\n",
       "    <tr style=\"text-align: right;\">\n",
       "      <th>children</th>\n",
       "      <th>0</th>\n",
       "      <th>1</th>\n",
       "      <th>2</th>\n",
       "      <th>3</th>\n",
       "      <th>4</th>\n",
       "      <th>5</th>\n",
       "    </tr>\n",
       "    <tr>\n",
       "      <th>income_group</th>\n",
       "      <th></th>\n",
       "      <th></th>\n",
       "      <th></th>\n",
       "      <th></th>\n",
       "      <th></th>\n",
       "      <th></th>\n",
       "    </tr>\n",
       "  </thead>\n",
       "  <tbody>\n",
       "    <tr>\n",
       "      <td>высокий</td>\n",
       "      <td>4082</td>\n",
       "      <td>1484</td>\n",
       "      <td>643</td>\n",
       "      <td>114</td>\n",
       "      <td>10</td>\n",
       "      <td>4</td>\n",
       "    </tr>\n",
       "    <tr>\n",
       "      <td>ниже среднего</td>\n",
       "      <td>3576</td>\n",
       "      <td>1107</td>\n",
       "      <td>526</td>\n",
       "      <td>70</td>\n",
       "      <td>5</td>\n",
       "      <td>2</td>\n",
       "    </tr>\n",
       "    <tr>\n",
       "      <td>низкий</td>\n",
       "      <td>156</td>\n",
       "      <td>39</td>\n",
       "      <td>19</td>\n",
       "      <td>1</td>\n",
       "      <td>0</td>\n",
       "      <td>0</td>\n",
       "    </tr>\n",
       "    <tr>\n",
       "      <td>средний</td>\n",
       "      <td>6276</td>\n",
       "      <td>2225</td>\n",
       "      <td>940</td>\n",
       "      <td>145</td>\n",
       "      <td>26</td>\n",
       "      <td>3</td>\n",
       "    </tr>\n",
       "  </tbody>\n",
       "</table>\n",
       "</div>"
      ],
      "text/plain": [
       "children          0     1    2    3   4  5\n",
       "income_group                              \n",
       "высокий        4082  1484  643  114  10  4\n",
       "ниже среднего  3576  1107  526   70   5  2\n",
       "низкий          156    39   19    1   0  0\n",
       "средний        6276  2225  940  145  26  3"
      ]
     },
     "execution_count": 39,
     "metadata": {},
     "output_type": "execute_result"
    }
   ],
   "source": [
    "#посмотрим как наблюдения в нашей выборке распределены между уровнем дохода и количеством детей\n",
    "#воспользуемся таблицей сопряженности\n",
    "pd.crosstab(scoring['income_group'], scoring['children'])"
   ]
  },
  {
   "cell_type": "markdown",
   "metadata": {},
   "source": [
    "На основании анализа данных можно сделать выводы: \n",
    "\n",
    "1.Количество детей и семейное положение влияют как на уровень дохода, так и на факт погашения кредита в срок. Уровень дохода и платёжеспособность клиента снижается при наличии и увеличении количества детей. Наличие детей подразумевает дополнительную финансовую нагрузку и повышает уровень непредвидимых расходов клиента. Клиенты, состоящие в браке, имеют более высокие доходы и более высокую платежеспособность. \n",
    "\n",
    "2.50% кредитной массы составляют кредиты с целью приобретения недвижимости (операции с недвижимостью, ремонт). Меньше берут и меньше выплачиваются кредиты с целями приобретения автомобиля и получения образования. \n",
    "\n",
    "В итоге кредиты больше берут клиенты, состоящие в браке, без детей и на приобретение недвижимости, они же и являются самыми платежеспособными клиентами."
   ]
  }
 ],
 "metadata": {
  "kernelspec": {
   "display_name": "Python 3",
   "language": "python",
   "name": "python3"
  },
  "language_info": {
   "codemirror_mode": {
    "name": "ipython",
    "version": 3
   },
   "file_extension": ".py",
   "mimetype": "text/x-python",
   "name": "python",
   "nbconvert_exporter": "python",
   "pygments_lexer": "ipython3",
   "version": "3.8.3"
  }
 },
 "nbformat": 4,
 "nbformat_minor": 2
}
