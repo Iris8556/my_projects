{
 "cells": [
  {
   "cell_type": "markdown",
   "metadata": {},
   "source": [
    "# Определение перспективного тарифа для телеком компании\n",
    "\n",
    "План проведения работы:\n",
    "\n",
    "Шаг 1. [Загрузить данные и изучить общую информацию](#step1)\n",
    "\n",
    "Шаг 2. [Предобработка данных](#step2)\n",
    "\n",
    "Шаг 3. [Исследовательский анализ данных (EDA)](#step3)\n",
    "\n",
    "Шаг 4. [Проверка гипотез](#step4)\n",
    "\n",
    "Шаг 5. [Общий вывод](#step5)\n"
   ]
  },
  {
   "cell_type": "markdown",
   "metadata": {},
   "source": [
    "### Шаг 1. Загрузить данные и изучить общую информацию<a id=\"step1\"></a>"
   ]
  },
  {
   "cell_type": "code",
   "execution_count": 1,
   "metadata": {},
   "outputs": [],
   "source": [
    "#Импортируем библиотеки\n",
    "import pandas as pd\n",
    "import numpy as np\n",
    "import math\n",
    "from scipy import stats as st\n",
    "import matplotlib.pyplot as plt\n",
    "import seaborn as sns"
   ]
  },
  {
   "cell_type": "code",
   "execution_count": 2,
   "metadata": {},
   "outputs": [],
   "source": [
    "#Прочитаем файл\n",
    "df_call = pd.read_csv('calls.csv', sep = ',')"
   ]
  },
  {
   "cell_type": "code",
   "execution_count": 3,
   "metadata": {},
   "outputs": [
    {
     "data": {
      "text/html": [
       "<div>\n",
       "<style scoped>\n",
       "    .dataframe tbody tr th:only-of-type {\n",
       "        vertical-align: middle;\n",
       "    }\n",
       "\n",
       "    .dataframe tbody tr th {\n",
       "        vertical-align: top;\n",
       "    }\n",
       "\n",
       "    .dataframe thead th {\n",
       "        text-align: right;\n",
       "    }\n",
       "</style>\n",
       "<table border=\"1\" class=\"dataframe\">\n",
       "  <thead>\n",
       "    <tr style=\"text-align: right;\">\n",
       "      <th></th>\n",
       "      <th>id</th>\n",
       "      <th>call_date</th>\n",
       "      <th>duration</th>\n",
       "      <th>user_id</th>\n",
       "    </tr>\n",
       "  </thead>\n",
       "  <tbody>\n",
       "    <tr>\n",
       "      <th>122640</th>\n",
       "      <td>1317_149</td>\n",
       "      <td>2018-12-10</td>\n",
       "      <td>5.87</td>\n",
       "      <td>1317</td>\n",
       "    </tr>\n",
       "    <tr>\n",
       "      <th>18057</th>\n",
       "      <td>1049_412</td>\n",
       "      <td>2018-10-25</td>\n",
       "      <td>0.00</td>\n",
       "      <td>1049</td>\n",
       "    </tr>\n",
       "    <tr>\n",
       "      <th>29867</th>\n",
       "      <td>1076_159</td>\n",
       "      <td>2018-05-13</td>\n",
       "      <td>0.00</td>\n",
       "      <td>1076</td>\n",
       "    </tr>\n",
       "    <tr>\n",
       "      <th>17113</th>\n",
       "      <td>1047_155</td>\n",
       "      <td>2018-12-14</td>\n",
       "      <td>0.01</td>\n",
       "      <td>1047</td>\n",
       "    </tr>\n",
       "    <tr>\n",
       "      <th>160431</th>\n",
       "      <td>1395_92</td>\n",
       "      <td>2018-07-03</td>\n",
       "      <td>9.95</td>\n",
       "      <td>1395</td>\n",
       "    </tr>\n",
       "  </tbody>\n",
       "</table>\n",
       "</div>"
      ],
      "text/plain": [
       "              id   call_date  duration  user_id\n",
       "122640  1317_149  2018-12-10      5.87     1317\n",
       "18057   1049_412  2018-10-25      0.00     1049\n",
       "29867   1076_159  2018-05-13      0.00     1076\n",
       "17113   1047_155  2018-12-14      0.01     1047\n",
       "160431   1395_92  2018-07-03      9.95     1395"
      ]
     },
     "execution_count": 3,
     "metadata": {},
     "output_type": "execute_result"
    }
   ],
   "source": [
    "#Получим срез случайных строк\n",
    "df_call.sample(5)"
   ]
  },
  {
   "cell_type": "code",
   "execution_count": 4,
   "metadata": {},
   "outputs": [
    {
     "name": "stdout",
     "output_type": "stream",
     "text": [
      "<class 'pandas.core.frame.DataFrame'>\n",
      "RangeIndex: 202607 entries, 0 to 202606\n",
      "Data columns (total 4 columns):\n",
      " #   Column     Non-Null Count   Dtype  \n",
      "---  ------     --------------   -----  \n",
      " 0   id         202607 non-null  object \n",
      " 1   call_date  202607 non-null  object \n",
      " 2   duration   202607 non-null  float64\n",
      " 3   user_id    202607 non-null  int64  \n",
      "dtypes: float64(1), int64(1), object(2)\n",
      "memory usage: 6.2+ MB\n"
     ]
    }
   ],
   "source": [
    "#Посмотрим общую информацию\n",
    "df_call.info()"
   ]
  },
  {
   "cell_type": "code",
   "execution_count": 5,
   "metadata": {},
   "outputs": [],
   "source": [
    "#Прочитаем файл\n",
    "df_int = pd.read_csv('internet.csv', sep = ',')"
   ]
  },
  {
   "cell_type": "code",
   "execution_count": 6,
   "metadata": {},
   "outputs": [
    {
     "data": {
      "text/html": [
       "<div>\n",
       "<style scoped>\n",
       "    .dataframe tbody tr th:only-of-type {\n",
       "        vertical-align: middle;\n",
       "    }\n",
       "\n",
       "    .dataframe tbody tr th {\n",
       "        vertical-align: top;\n",
       "    }\n",
       "\n",
       "    .dataframe thead th {\n",
       "        text-align: right;\n",
       "    }\n",
       "</style>\n",
       "<table border=\"1\" class=\"dataframe\">\n",
       "  <thead>\n",
       "    <tr style=\"text-align: right;\">\n",
       "      <th></th>\n",
       "      <th>Unnamed: 0</th>\n",
       "      <th>id</th>\n",
       "      <th>mb_used</th>\n",
       "      <th>session_date</th>\n",
       "      <th>user_id</th>\n",
       "    </tr>\n",
       "  </thead>\n",
       "  <tbody>\n",
       "    <tr>\n",
       "      <th>74113</th>\n",
       "      <td>74113</td>\n",
       "      <td>1250_73</td>\n",
       "      <td>443.47</td>\n",
       "      <td>2018-04-23</td>\n",
       "      <td>1250</td>\n",
       "    </tr>\n",
       "    <tr>\n",
       "      <th>42051</th>\n",
       "      <td>42051</td>\n",
       "      <td>1147_7</td>\n",
       "      <td>0.00</td>\n",
       "      <td>2018-07-17</td>\n",
       "      <td>1147</td>\n",
       "    </tr>\n",
       "    <tr>\n",
       "      <th>38227</th>\n",
       "      <td>38227</td>\n",
       "      <td>1134_282</td>\n",
       "      <td>321.62</td>\n",
       "      <td>2018-04-26</td>\n",
       "      <td>1134</td>\n",
       "    </tr>\n",
       "    <tr>\n",
       "      <th>104612</th>\n",
       "      <td>104612</td>\n",
       "      <td>1354_127</td>\n",
       "      <td>110.51</td>\n",
       "      <td>2018-12-02</td>\n",
       "      <td>1354</td>\n",
       "    </tr>\n",
       "    <tr>\n",
       "      <th>1191</th>\n",
       "      <td>1191</td>\n",
       "      <td>1005_111</td>\n",
       "      <td>432.01</td>\n",
       "      <td>2018-02-16</td>\n",
       "      <td>1005</td>\n",
       "    </tr>\n",
       "  </tbody>\n",
       "</table>\n",
       "</div>"
      ],
      "text/plain": [
       "        Unnamed: 0        id  mb_used session_date  user_id\n",
       "74113        74113   1250_73   443.47   2018-04-23     1250\n",
       "42051        42051    1147_7     0.00   2018-07-17     1147\n",
       "38227        38227  1134_282   321.62   2018-04-26     1134\n",
       "104612      104612  1354_127   110.51   2018-12-02     1354\n",
       "1191          1191  1005_111   432.01   2018-02-16     1005"
      ]
     },
     "execution_count": 6,
     "metadata": {},
     "output_type": "execute_result"
    }
   ],
   "source": [
    "#Получим срез случайных строк\n",
    "df_int.sample(5)"
   ]
  },
  {
   "cell_type": "code",
   "execution_count": 7,
   "metadata": {},
   "outputs": [
    {
     "name": "stdout",
     "output_type": "stream",
     "text": [
      "<class 'pandas.core.frame.DataFrame'>\n",
      "RangeIndex: 149396 entries, 0 to 149395\n",
      "Data columns (total 5 columns):\n",
      " #   Column        Non-Null Count   Dtype  \n",
      "---  ------        --------------   -----  \n",
      " 0   Unnamed: 0    149396 non-null  int64  \n",
      " 1   id            149396 non-null  object \n",
      " 2   mb_used       149396 non-null  float64\n",
      " 3   session_date  149396 non-null  object \n",
      " 4   user_id       149396 non-null  int64  \n",
      "dtypes: float64(1), int64(2), object(2)\n",
      "memory usage: 5.7+ MB\n"
     ]
    }
   ],
   "source": [
    "#Посмотрим общую информацию\n",
    "df_int.info()"
   ]
  },
  {
   "cell_type": "code",
   "execution_count": 8,
   "metadata": {},
   "outputs": [],
   "source": [
    "#Прочитаем файл\n",
    "df_sms = pd.read_csv('messages.csv', sep = ',')"
   ]
  },
  {
   "cell_type": "code",
   "execution_count": 9,
   "metadata": {},
   "outputs": [
    {
     "data": {
      "text/html": [
       "<div>\n",
       "<style scoped>\n",
       "    .dataframe tbody tr th:only-of-type {\n",
       "        vertical-align: middle;\n",
       "    }\n",
       "\n",
       "    .dataframe tbody tr th {\n",
       "        vertical-align: top;\n",
       "    }\n",
       "\n",
       "    .dataframe thead th {\n",
       "        text-align: right;\n",
       "    }\n",
       "</style>\n",
       "<table border=\"1\" class=\"dataframe\">\n",
       "  <thead>\n",
       "    <tr style=\"text-align: right;\">\n",
       "      <th></th>\n",
       "      <th>id</th>\n",
       "      <th>message_date</th>\n",
       "      <th>user_id</th>\n",
       "    </tr>\n",
       "  </thead>\n",
       "  <tbody>\n",
       "    <tr>\n",
       "      <th>43238</th>\n",
       "      <td>1186_651</td>\n",
       "      <td>2018-06-21</td>\n",
       "      <td>1186</td>\n",
       "    </tr>\n",
       "    <tr>\n",
       "      <th>20771</th>\n",
       "      <td>1089_774</td>\n",
       "      <td>2018-03-02</td>\n",
       "      <td>1089</td>\n",
       "    </tr>\n",
       "    <tr>\n",
       "      <th>58234</th>\n",
       "      <td>1257_26</td>\n",
       "      <td>2018-09-13</td>\n",
       "      <td>1257</td>\n",
       "    </tr>\n",
       "    <tr>\n",
       "      <th>120568</th>\n",
       "      <td>1488_99</td>\n",
       "      <td>2018-11-19</td>\n",
       "      <td>1488</td>\n",
       "    </tr>\n",
       "    <tr>\n",
       "      <th>96219</th>\n",
       "      <td>1395_206</td>\n",
       "      <td>2018-01-25</td>\n",
       "      <td>1395</td>\n",
       "    </tr>\n",
       "  </tbody>\n",
       "</table>\n",
       "</div>"
      ],
      "text/plain": [
       "              id message_date  user_id\n",
       "43238   1186_651   2018-06-21     1186\n",
       "20771   1089_774   2018-03-02     1089\n",
       "58234    1257_26   2018-09-13     1257\n",
       "120568   1488_99   2018-11-19     1488\n",
       "96219   1395_206   2018-01-25     1395"
      ]
     },
     "execution_count": 9,
     "metadata": {},
     "output_type": "execute_result"
    }
   ],
   "source": [
    "#Получим срез случайных строк\n",
    "df_sms.sample(5)"
   ]
  },
  {
   "cell_type": "code",
   "execution_count": 10,
   "metadata": {},
   "outputs": [
    {
     "name": "stdout",
     "output_type": "stream",
     "text": [
      "<class 'pandas.core.frame.DataFrame'>\n",
      "RangeIndex: 123036 entries, 0 to 123035\n",
      "Data columns (total 3 columns):\n",
      " #   Column        Non-Null Count   Dtype \n",
      "---  ------        --------------   ----- \n",
      " 0   id            123036 non-null  object\n",
      " 1   message_date  123036 non-null  object\n",
      " 2   user_id       123036 non-null  int64 \n",
      "dtypes: int64(1), object(2)\n",
      "memory usage: 2.8+ MB\n"
     ]
    }
   ],
   "source": [
    "#Посмотрим общую информацию\n",
    "df_sms.info()"
   ]
  },
  {
   "cell_type": "code",
   "execution_count": 11,
   "metadata": {},
   "outputs": [],
   "source": [
    "#Прочитаем файл\n",
    "df_tariffs = pd.read_csv('tariffs.csv', sep = ',')"
   ]
  },
  {
   "cell_type": "code",
   "execution_count": 12,
   "metadata": {},
   "outputs": [
    {
     "data": {
      "text/html": [
       "<div>\n",
       "<style scoped>\n",
       "    .dataframe tbody tr th:only-of-type {\n",
       "        vertical-align: middle;\n",
       "    }\n",
       "\n",
       "    .dataframe tbody tr th {\n",
       "        vertical-align: top;\n",
       "    }\n",
       "\n",
       "    .dataframe thead th {\n",
       "        text-align: right;\n",
       "    }\n",
       "</style>\n",
       "<table border=\"1\" class=\"dataframe\">\n",
       "  <thead>\n",
       "    <tr style=\"text-align: right;\">\n",
       "      <th></th>\n",
       "      <th>messages_included</th>\n",
       "      <th>mb_per_month_included</th>\n",
       "      <th>minutes_included</th>\n",
       "      <th>rub_monthly_fee</th>\n",
       "      <th>rub_per_gb</th>\n",
       "      <th>rub_per_message</th>\n",
       "      <th>rub_per_minute</th>\n",
       "      <th>tariff_name</th>\n",
       "    </tr>\n",
       "  </thead>\n",
       "  <tbody>\n",
       "    <tr>\n",
       "      <th>0</th>\n",
       "      <td>50</td>\n",
       "      <td>15360</td>\n",
       "      <td>500</td>\n",
       "      <td>550</td>\n",
       "      <td>200</td>\n",
       "      <td>3</td>\n",
       "      <td>3</td>\n",
       "      <td>smart</td>\n",
       "    </tr>\n",
       "    <tr>\n",
       "      <th>1</th>\n",
       "      <td>1000</td>\n",
       "      <td>30720</td>\n",
       "      <td>3000</td>\n",
       "      <td>1950</td>\n",
       "      <td>150</td>\n",
       "      <td>1</td>\n",
       "      <td>1</td>\n",
       "      <td>ultra</td>\n",
       "    </tr>\n",
       "  </tbody>\n",
       "</table>\n",
       "</div>"
      ],
      "text/plain": [
       "   messages_included  mb_per_month_included  minutes_included  \\\n",
       "0                 50                  15360               500   \n",
       "1               1000                  30720              3000   \n",
       "\n",
       "   rub_monthly_fee  rub_per_gb  rub_per_message  rub_per_minute tariff_name  \n",
       "0              550         200                3               3       smart  \n",
       "1             1950         150                1               1       ultra  "
      ]
     },
     "execution_count": 12,
     "metadata": {},
     "output_type": "execute_result"
    }
   ],
   "source": [
    "#Посмотрим таблицу\n",
    "df_tariffs"
   ]
  },
  {
   "cell_type": "code",
   "execution_count": 13,
   "metadata": {},
   "outputs": [],
   "source": [
    "#Прочитаем файл\n",
    "df_users = pd.read_csv('users.csv', sep = ',')"
   ]
  },
  {
   "cell_type": "code",
   "execution_count": 14,
   "metadata": {},
   "outputs": [
    {
     "data": {
      "text/html": [
       "<div>\n",
       "<style scoped>\n",
       "    .dataframe tbody tr th:only-of-type {\n",
       "        vertical-align: middle;\n",
       "    }\n",
       "\n",
       "    .dataframe tbody tr th {\n",
       "        vertical-align: top;\n",
       "    }\n",
       "\n",
       "    .dataframe thead th {\n",
       "        text-align: right;\n",
       "    }\n",
       "</style>\n",
       "<table border=\"1\" class=\"dataframe\">\n",
       "  <thead>\n",
       "    <tr style=\"text-align: right;\">\n",
       "      <th></th>\n",
       "      <th>user_id</th>\n",
       "      <th>age</th>\n",
       "      <th>churn_date</th>\n",
       "      <th>city</th>\n",
       "      <th>first_name</th>\n",
       "      <th>last_name</th>\n",
       "      <th>reg_date</th>\n",
       "      <th>tariff</th>\n",
       "    </tr>\n",
       "  </thead>\n",
       "  <tbody>\n",
       "    <tr>\n",
       "      <th>110</th>\n",
       "      <td>1110</td>\n",
       "      <td>26</td>\n",
       "      <td>NaN</td>\n",
       "      <td>Петрозаводск</td>\n",
       "      <td>Матвей</td>\n",
       "      <td>Александрович</td>\n",
       "      <td>2018-05-06</td>\n",
       "      <td>smart</td>\n",
       "    </tr>\n",
       "    <tr>\n",
       "      <th>201</th>\n",
       "      <td>1201</td>\n",
       "      <td>32</td>\n",
       "      <td>2018-12-03</td>\n",
       "      <td>Москва</td>\n",
       "      <td>Геннадий</td>\n",
       "      <td>Веселов</td>\n",
       "      <td>2018-08-06</td>\n",
       "      <td>ultra</td>\n",
       "    </tr>\n",
       "    <tr>\n",
       "      <th>169</th>\n",
       "      <td>1169</td>\n",
       "      <td>52</td>\n",
       "      <td>NaN</td>\n",
       "      <td>Сочи</td>\n",
       "      <td>Георгина</td>\n",
       "      <td>Карташова</td>\n",
       "      <td>2018-06-25</td>\n",
       "      <td>smart</td>\n",
       "    </tr>\n",
       "    <tr>\n",
       "      <th>309</th>\n",
       "      <td>1309</td>\n",
       "      <td>28</td>\n",
       "      <td>NaN</td>\n",
       "      <td>Казань</td>\n",
       "      <td>Юлия</td>\n",
       "      <td>Касьянова</td>\n",
       "      <td>2018-10-05</td>\n",
       "      <td>ultra</td>\n",
       "    </tr>\n",
       "    <tr>\n",
       "      <th>271</th>\n",
       "      <td>1271</td>\n",
       "      <td>69</td>\n",
       "      <td>2018-11-13</td>\n",
       "      <td>Челябинск</td>\n",
       "      <td>Аурелия</td>\n",
       "      <td>Чижова</td>\n",
       "      <td>2018-07-14</td>\n",
       "      <td>ultra</td>\n",
       "    </tr>\n",
       "  </tbody>\n",
       "</table>\n",
       "</div>"
      ],
      "text/plain": [
       "     user_id  age  churn_date          city first_name      last_name  \\\n",
       "110     1110   26         NaN  Петрозаводск     Матвей  Александрович   \n",
       "201     1201   32  2018-12-03        Москва   Геннадий        Веселов   \n",
       "169     1169   52         NaN          Сочи   Георгина      Карташова   \n",
       "309     1309   28         NaN        Казань       Юлия      Касьянова   \n",
       "271     1271   69  2018-11-13     Челябинск    Аурелия         Чижова   \n",
       "\n",
       "       reg_date tariff  \n",
       "110  2018-05-06  smart  \n",
       "201  2018-08-06  ultra  \n",
       "169  2018-06-25  smart  \n",
       "309  2018-10-05  ultra  \n",
       "271  2018-07-14  ultra  "
      ]
     },
     "execution_count": 14,
     "metadata": {},
     "output_type": "execute_result"
    }
   ],
   "source": [
    "#Получим срез случайных строк\n",
    "df_users.sample(5)"
   ]
  },
  {
   "cell_type": "code",
   "execution_count": 15,
   "metadata": {},
   "outputs": [
    {
     "name": "stdout",
     "output_type": "stream",
     "text": [
      "<class 'pandas.core.frame.DataFrame'>\n",
      "RangeIndex: 500 entries, 0 to 499\n",
      "Data columns (total 8 columns):\n",
      " #   Column      Non-Null Count  Dtype \n",
      "---  ------      --------------  ----- \n",
      " 0   user_id     500 non-null    int64 \n",
      " 1   age         500 non-null    int64 \n",
      " 2   churn_date  38 non-null     object\n",
      " 3   city        500 non-null    object\n",
      " 4   first_name  500 non-null    object\n",
      " 5   last_name   500 non-null    object\n",
      " 6   reg_date    500 non-null    object\n",
      " 7   tariff      500 non-null    object\n",
      "dtypes: int64(2), object(6)\n",
      "memory usage: 31.4+ KB\n"
     ]
    }
   ],
   "source": [
    "#Посмотрим общую информацию\n",
    "df_users.info()"
   ]
  },
  {
   "cell_type": "markdown",
   "metadata": {},
   "source": [
    "### Вывод"
   ]
  },
  {
   "cell_type": "markdown",
   "metadata": {},
   "source": [
    "Всего 5 таблиц: \n",
    "1. \"df_call\" - звонки;\n",
    "2. \"df_int\" - интернет-сессия;\n",
    "3. \"df_sms\" - сообщения;\n",
    "4. \"df_tariffs\" - тарифы;\n",
    "5. \"df_users\" - информация о пользователях.\n",
    "\n",
    "Таблица \"df_call\" состоит из 4 столбцов и 202607 строк. Тип данных не соответствует признаку по столбцу \"call_date\". В столбце \"duration\" видим, что длительность некоторых звонков состовляет 0.00 минут. Здесь много вариантов: пользователь не дозвонился, поставил автодозвон, передумал звонить, а может быть и набрал случайно.\n",
    "\n",
    "Таблица \"df_int\" состоит из 6 столбцов и 149396 строк, один столбец без имени с номерами строк лишний. Тип данных не соответствует признаку по столбцу \"session_date\". В столбце \"mb_used\" есть нулевые значения по интернет-трафику. Есть предположение, что это случайные заходы.\n",
    "\n",
    "Таблица \"df_sms\" состоит из 3 столбцов и 123036 строк. Тип данных не соответствует признаку по столбцу \"message_date\".\n",
    "\n",
    "Таблица \"df_users\" состоит из 8 столбцов и 500 строк. Тип данных не соответствует признаку по столбцам \"churn_date\" и \"reg_date\". Большинство значений в столбце \"churn_date\" пропущено, на момент предоставления данных всего у 38 клиентов из 500 тариф прекратил действовать.\n",
    "\n",
    "Таблица \"df_tariffs\" состоит из двух строк с описанием двух тарифных планов."
   ]
  },
  {
   "cell_type": "markdown",
   "metadata": {},
   "source": [
    "### Шаг 2. Предобработка данных<a id=\"step2\"></a>"
   ]
  },
  {
   "cell_type": "markdown",
   "metadata": {},
   "source": [
    "Подготовим таблицу \"df_call\" для дальнейшей работы."
   ]
  },
  {
   "cell_type": "code",
   "execution_count": 16,
   "metadata": {},
   "outputs": [],
   "source": [
    "#Переведем значения столбца \"call_date\" в формат даты\n",
    "df_call['call_date'] = pd.to_datetime(df_call['call_date'], format = '%Y-%m-%d')"
   ]
  },
  {
   "cell_type": "code",
   "execution_count": 17,
   "metadata": {},
   "outputs": [],
   "source": [
    "#Округлим значения длительности звонка вверх до целых минут\n",
    "df_call['duration'] = df_call['duration'].apply(np.ceil)"
   ]
  },
  {
   "cell_type": "code",
   "execution_count": 18,
   "metadata": {},
   "outputs": [
    {
     "data": {
      "text/plain": [
       "39613"
      ]
     },
     "execution_count": 18,
     "metadata": {},
     "output_type": "execute_result"
    }
   ],
   "source": [
    "#Посчитаем количество нулевых звонков\n",
    "len(df_call[df_call['duration'] == 0])"
   ]
  },
  {
   "cell_type": "code",
   "execution_count": 19,
   "metadata": {},
   "outputs": [],
   "source": [
    "#Перезапишем таблицу без звонков длительностью 0.00, так как они могут повлиять на дальнейшие расчеты\n",
    "df_call = df_call.query('duration != 0.0')"
   ]
  },
  {
   "cell_type": "code",
   "execution_count": 20,
   "metadata": {},
   "outputs": [],
   "source": [
    "#Поменяем тип данных на целое число\n",
    "df_call['duration'] = df_call['duration'].astype('int')"
   ]
  },
  {
   "cell_type": "code",
   "execution_count": 21,
   "metadata": {},
   "outputs": [],
   "source": [
    "#Добавим новый столбец месяц\n",
    "df_call['month'] = df_call['call_date'].dt.month"
   ]
  },
  {
   "cell_type": "code",
   "execution_count": 22,
   "metadata": {},
   "outputs": [],
   "source": [
    "#создадим сводную таблицу: для каждого пользователя посчитаем количество сделанных звонков \n",
    "#и сумму израсходованных минут\n",
    "df_call_pivot = df_call.pivot_table(index = ['user_id', 'month'], values = 'duration', aggfunc = ['sum', 'count'])"
   ]
  },
  {
   "cell_type": "code",
   "execution_count": 23,
   "metadata": {},
   "outputs": [],
   "source": [
    "#Уберем мультииндекс, чтобы id пользователя отображалось в каждой строчке\n",
    "df_call_pivot = df_call_pivot.reset_index()"
   ]
  },
  {
   "cell_type": "code",
   "execution_count": 24,
   "metadata": {},
   "outputs": [],
   "source": [
    "#Уберем мультииндекс в названии столбцов\n",
    "df_call_pivot.columns = ['user_id', 'month', 'sum_call', 'count_call']"
   ]
  },
  {
   "cell_type": "code",
   "execution_count": 25,
   "metadata": {},
   "outputs": [
    {
     "data": {
      "text/html": [
       "<div>\n",
       "<style scoped>\n",
       "    .dataframe tbody tr th:only-of-type {\n",
       "        vertical-align: middle;\n",
       "    }\n",
       "\n",
       "    .dataframe tbody tr th {\n",
       "        vertical-align: top;\n",
       "    }\n",
       "\n",
       "    .dataframe thead th {\n",
       "        text-align: right;\n",
       "    }\n",
       "</style>\n",
       "<table border=\"1\" class=\"dataframe\">\n",
       "  <thead>\n",
       "    <tr style=\"text-align: right;\">\n",
       "      <th></th>\n",
       "      <th>user_id</th>\n",
       "      <th>month</th>\n",
       "      <th>sum_call</th>\n",
       "      <th>count_call</th>\n",
       "    </tr>\n",
       "  </thead>\n",
       "  <tbody>\n",
       "    <tr>\n",
       "      <th>0</th>\n",
       "      <td>1000</td>\n",
       "      <td>5</td>\n",
       "      <td>159</td>\n",
       "      <td>17</td>\n",
       "    </tr>\n",
       "    <tr>\n",
       "      <th>1</th>\n",
       "      <td>1000</td>\n",
       "      <td>6</td>\n",
       "      <td>172</td>\n",
       "      <td>28</td>\n",
       "    </tr>\n",
       "    <tr>\n",
       "      <th>2</th>\n",
       "      <td>1000</td>\n",
       "      <td>7</td>\n",
       "      <td>340</td>\n",
       "      <td>41</td>\n",
       "    </tr>\n",
       "    <tr>\n",
       "      <th>3</th>\n",
       "      <td>1000</td>\n",
       "      <td>8</td>\n",
       "      <td>408</td>\n",
       "      <td>42</td>\n",
       "    </tr>\n",
       "    <tr>\n",
       "      <th>4</th>\n",
       "      <td>1000</td>\n",
       "      <td>9</td>\n",
       "      <td>466</td>\n",
       "      <td>46</td>\n",
       "    </tr>\n",
       "    <tr>\n",
       "      <th>5</th>\n",
       "      <td>1000</td>\n",
       "      <td>10</td>\n",
       "      <td>350</td>\n",
       "      <td>44</td>\n",
       "    </tr>\n",
       "    <tr>\n",
       "      <th>6</th>\n",
       "      <td>1000</td>\n",
       "      <td>11</td>\n",
       "      <td>338</td>\n",
       "      <td>37</td>\n",
       "    </tr>\n",
       "    <tr>\n",
       "      <th>7</th>\n",
       "      <td>1000</td>\n",
       "      <td>12</td>\n",
       "      <td>333</td>\n",
       "      <td>38</td>\n",
       "    </tr>\n",
       "    <tr>\n",
       "      <th>8</th>\n",
       "      <td>1001</td>\n",
       "      <td>11</td>\n",
       "      <td>430</td>\n",
       "      <td>45</td>\n",
       "    </tr>\n",
       "    <tr>\n",
       "      <th>9</th>\n",
       "      <td>1001</td>\n",
       "      <td>12</td>\n",
       "      <td>414</td>\n",
       "      <td>47</td>\n",
       "    </tr>\n",
       "  </tbody>\n",
       "</table>\n",
       "</div>"
      ],
      "text/plain": [
       "   user_id  month  sum_call  count_call\n",
       "0     1000      5       159          17\n",
       "1     1000      6       172          28\n",
       "2     1000      7       340          41\n",
       "3     1000      8       408          42\n",
       "4     1000      9       466          46\n",
       "5     1000     10       350          44\n",
       "6     1000     11       338          37\n",
       "7     1000     12       333          38\n",
       "8     1001     11       430          45\n",
       "9     1001     12       414          47"
      ]
     },
     "execution_count": 25,
     "metadata": {},
     "output_type": "execute_result"
    }
   ],
   "source": [
    "#Посмотрим новую таблицу\n",
    "df_call_pivot.head(10)"
   ]
  },
  {
   "cell_type": "markdown",
   "metadata": {},
   "source": [
    "Подготовим таблицу \"df_int\" для дальнейшей работы."
   ]
  },
  {
   "cell_type": "code",
   "execution_count": 26,
   "metadata": {},
   "outputs": [],
   "source": [
    "#Удалим столбец без названия\n",
    "df_int.drop(df_int.columns[df_int.columns.str.contains('unnamed',case = False)],axis = 1, inplace = True)"
   ]
  },
  {
   "cell_type": "code",
   "execution_count": 27,
   "metadata": {},
   "outputs": [
    {
     "data": {
      "text/html": [
       "<div>\n",
       "<style scoped>\n",
       "    .dataframe tbody tr th:only-of-type {\n",
       "        vertical-align: middle;\n",
       "    }\n",
       "\n",
       "    .dataframe tbody tr th {\n",
       "        vertical-align: top;\n",
       "    }\n",
       "\n",
       "    .dataframe thead th {\n",
       "        text-align: right;\n",
       "    }\n",
       "</style>\n",
       "<table border=\"1\" class=\"dataframe\">\n",
       "  <thead>\n",
       "    <tr style=\"text-align: right;\">\n",
       "      <th></th>\n",
       "      <th>id</th>\n",
       "      <th>mb_used</th>\n",
       "      <th>session_date</th>\n",
       "      <th>user_id</th>\n",
       "    </tr>\n",
       "  </thead>\n",
       "  <tbody>\n",
       "    <tr>\n",
       "      <th>0</th>\n",
       "      <td>1000_0</td>\n",
       "      <td>112.95</td>\n",
       "      <td>2018-11-25</td>\n",
       "      <td>1000</td>\n",
       "    </tr>\n",
       "  </tbody>\n",
       "</table>\n",
       "</div>"
      ],
      "text/plain": [
       "       id  mb_used session_date  user_id\n",
       "0  1000_0   112.95   2018-11-25     1000"
      ]
     },
     "execution_count": 27,
     "metadata": {},
     "output_type": "execute_result"
    }
   ],
   "source": [
    "#Проверим\n",
    "df_int.head(1)"
   ]
  },
  {
   "cell_type": "code",
   "execution_count": 28,
   "metadata": {},
   "outputs": [],
   "source": [
    "#Переведем значения столбца \"call_date\" в формат даты\n",
    "df_int['session_date'] = pd.to_datetime(df_int['session_date'], format = '%Y-%m-%d')"
   ]
  },
  {
   "cell_type": "code",
   "execution_count": 29,
   "metadata": {},
   "outputs": [],
   "source": [
    "#Округлим значения длительности звонка вверх до целых минут\n",
    "df_int['mb_used'] = df_int['mb_used'].apply(np.ceil)"
   ]
  },
  {
   "cell_type": "code",
   "execution_count": 30,
   "metadata": {},
   "outputs": [
    {
     "data": {
      "text/plain": [
       "19598"
      ]
     },
     "execution_count": 30,
     "metadata": {},
     "output_type": "execute_result"
    }
   ],
   "source": [
    "#Посчитаем количество нулевых заходов\n",
    "df_int.loc[df_int['mb_used'] == 0, 'mb_used'].count()"
   ]
  },
  {
   "cell_type": "code",
   "execution_count": 31,
   "metadata": {},
   "outputs": [],
   "source": [
    "#Перезапишем таблицу без звонков длительностью 0.00\n",
    "df_int = df_int.query('mb_used != 0.0')"
   ]
  },
  {
   "cell_type": "code",
   "execution_count": 32,
   "metadata": {},
   "outputs": [],
   "source": [
    "#Поменяем тип данных на целое число\n",
    "df_int['mb_used'] = df_int['mb_used'].astype('int')"
   ]
  },
  {
   "cell_type": "code",
   "execution_count": 33,
   "metadata": {},
   "outputs": [],
   "source": [
    "#Добавим новый столбец месяц\n",
    "df_int['month'] = df_int['session_date'].dt.month"
   ]
  },
  {
   "cell_type": "code",
   "execution_count": 34,
   "metadata": {},
   "outputs": [],
   "source": [
    "#создадим сводную таблицу: для каждого пользователя посчитаем объем потраченного интернет-трафика\n",
    "df_int_pivot = df_int.pivot_table(index = ['user_id', 'month'], values = 'mb_used', aggfunc = 'sum')"
   ]
  },
  {
   "cell_type": "code",
   "execution_count": 35,
   "metadata": {},
   "outputs": [],
   "source": [
    "#Уберем мультииндекс, чтобы id пользователя отображалось в каждой строчке\n",
    "df_int_pivot = df_int_pivot.reset_index()"
   ]
  },
  {
   "cell_type": "code",
   "execution_count": 36,
   "metadata": {},
   "outputs": [
    {
     "data": {
      "text/html": [
       "<div>\n",
       "<style scoped>\n",
       "    .dataframe tbody tr th:only-of-type {\n",
       "        vertical-align: middle;\n",
       "    }\n",
       "\n",
       "    .dataframe tbody tr th {\n",
       "        vertical-align: top;\n",
       "    }\n",
       "\n",
       "    .dataframe thead th {\n",
       "        text-align: right;\n",
       "    }\n",
       "</style>\n",
       "<table border=\"1\" class=\"dataframe\">\n",
       "  <thead>\n",
       "    <tr style=\"text-align: right;\">\n",
       "      <th></th>\n",
       "      <th>user_id</th>\n",
       "      <th>month</th>\n",
       "      <th>mb_used</th>\n",
       "    </tr>\n",
       "  </thead>\n",
       "  <tbody>\n",
       "    <tr>\n",
       "      <th>0</th>\n",
       "      <td>1000</td>\n",
       "      <td>5</td>\n",
       "      <td>2256</td>\n",
       "    </tr>\n",
       "    <tr>\n",
       "      <th>1</th>\n",
       "      <td>1000</td>\n",
       "      <td>6</td>\n",
       "      <td>23257</td>\n",
       "    </tr>\n",
       "    <tr>\n",
       "      <th>2</th>\n",
       "      <td>1000</td>\n",
       "      <td>7</td>\n",
       "      <td>14016</td>\n",
       "    </tr>\n",
       "    <tr>\n",
       "      <th>3</th>\n",
       "      <td>1000</td>\n",
       "      <td>8</td>\n",
       "      <td>14070</td>\n",
       "    </tr>\n",
       "    <tr>\n",
       "      <th>4</th>\n",
       "      <td>1000</td>\n",
       "      <td>9</td>\n",
       "      <td>14581</td>\n",
       "    </tr>\n",
       "    <tr>\n",
       "      <th>5</th>\n",
       "      <td>1000</td>\n",
       "      <td>10</td>\n",
       "      <td>14717</td>\n",
       "    </tr>\n",
       "    <tr>\n",
       "      <th>6</th>\n",
       "      <td>1000</td>\n",
       "      <td>11</td>\n",
       "      <td>14768</td>\n",
       "    </tr>\n",
       "    <tr>\n",
       "      <th>7</th>\n",
       "      <td>1000</td>\n",
       "      <td>12</td>\n",
       "      <td>9827</td>\n",
       "    </tr>\n",
       "    <tr>\n",
       "      <th>8</th>\n",
       "      <td>1001</td>\n",
       "      <td>11</td>\n",
       "      <td>18452</td>\n",
       "    </tr>\n",
       "    <tr>\n",
       "      <th>9</th>\n",
       "      <td>1001</td>\n",
       "      <td>12</td>\n",
       "      <td>14053</td>\n",
       "    </tr>\n",
       "  </tbody>\n",
       "</table>\n",
       "</div>"
      ],
      "text/plain": [
       "   user_id  month  mb_used\n",
       "0     1000      5     2256\n",
       "1     1000      6    23257\n",
       "2     1000      7    14016\n",
       "3     1000      8    14070\n",
       "4     1000      9    14581\n",
       "5     1000     10    14717\n",
       "6     1000     11    14768\n",
       "7     1000     12     9827\n",
       "8     1001     11    18452\n",
       "9     1001     12    14053"
      ]
     },
     "execution_count": 36,
     "metadata": {},
     "output_type": "execute_result"
    }
   ],
   "source": [
    "#Посмотрим первые 10 строк новой таблицы\n",
    "df_int_pivot.head(10)"
   ]
  },
  {
   "cell_type": "markdown",
   "metadata": {},
   "source": [
    "Подготовим таблицу \"df_sms\" для дальнейшей работы."
   ]
  },
  {
   "cell_type": "code",
   "execution_count": 37,
   "metadata": {},
   "outputs": [],
   "source": [
    "#Переведем значения столбца \"message_date\" в формат даты\n",
    "df_sms['message_date'] = pd.to_datetime(df_sms['message_date'], format = '%Y-%m-%d')"
   ]
  },
  {
   "cell_type": "code",
   "execution_count": 38,
   "metadata": {},
   "outputs": [],
   "source": [
    "#Добавим новый столбец месяц\n",
    "df_sms['month'] = df_sms['message_date'].dt.month"
   ]
  },
  {
   "cell_type": "code",
   "execution_count": 39,
   "metadata": {},
   "outputs": [],
   "source": [
    "#создадим сводную таблицу: для каждого пользователя посчитаем количество отправленных сообщений по месяцам\n",
    "df_sms_pivot = df_sms.pivot_table(index = ['user_id', 'month'], values = 'message_date', aggfunc = 'count')"
   ]
  },
  {
   "cell_type": "code",
   "execution_count": 40,
   "metadata": {},
   "outputs": [],
   "source": [
    "#Уберем мультииндекс, чтобы id пользователя отображалось в каждой строчке\n",
    "df_sms_pivot = df_sms_pivot.reset_index()"
   ]
  },
  {
   "cell_type": "code",
   "execution_count": 41,
   "metadata": {},
   "outputs": [],
   "source": [
    "#Переименуем столбец\n",
    "df_sms_pivot.columns = ['user_id', 'month', 'message_count']"
   ]
  },
  {
   "cell_type": "code",
   "execution_count": 42,
   "metadata": {},
   "outputs": [
    {
     "data": {
      "text/html": [
       "<div>\n",
       "<style scoped>\n",
       "    .dataframe tbody tr th:only-of-type {\n",
       "        vertical-align: middle;\n",
       "    }\n",
       "\n",
       "    .dataframe tbody tr th {\n",
       "        vertical-align: top;\n",
       "    }\n",
       "\n",
       "    .dataframe thead th {\n",
       "        text-align: right;\n",
       "    }\n",
       "</style>\n",
       "<table border=\"1\" class=\"dataframe\">\n",
       "  <thead>\n",
       "    <tr style=\"text-align: right;\">\n",
       "      <th></th>\n",
       "      <th>user_id</th>\n",
       "      <th>month</th>\n",
       "      <th>message_count</th>\n",
       "    </tr>\n",
       "  </thead>\n",
       "  <tbody>\n",
       "    <tr>\n",
       "      <th>0</th>\n",
       "      <td>1000</td>\n",
       "      <td>5</td>\n",
       "      <td>22</td>\n",
       "    </tr>\n",
       "    <tr>\n",
       "      <th>1</th>\n",
       "      <td>1000</td>\n",
       "      <td>6</td>\n",
       "      <td>60</td>\n",
       "    </tr>\n",
       "    <tr>\n",
       "      <th>2</th>\n",
       "      <td>1000</td>\n",
       "      <td>7</td>\n",
       "      <td>75</td>\n",
       "    </tr>\n",
       "    <tr>\n",
       "      <th>3</th>\n",
       "      <td>1000</td>\n",
       "      <td>8</td>\n",
       "      <td>81</td>\n",
       "    </tr>\n",
       "    <tr>\n",
       "      <th>4</th>\n",
       "      <td>1000</td>\n",
       "      <td>9</td>\n",
       "      <td>57</td>\n",
       "    </tr>\n",
       "    <tr>\n",
       "      <th>5</th>\n",
       "      <td>1000</td>\n",
       "      <td>10</td>\n",
       "      <td>73</td>\n",
       "    </tr>\n",
       "    <tr>\n",
       "      <th>6</th>\n",
       "      <td>1000</td>\n",
       "      <td>11</td>\n",
       "      <td>58</td>\n",
       "    </tr>\n",
       "    <tr>\n",
       "      <th>7</th>\n",
       "      <td>1000</td>\n",
       "      <td>12</td>\n",
       "      <td>70</td>\n",
       "    </tr>\n",
       "    <tr>\n",
       "      <th>8</th>\n",
       "      <td>1002</td>\n",
       "      <td>6</td>\n",
       "      <td>4</td>\n",
       "    </tr>\n",
       "    <tr>\n",
       "      <th>9</th>\n",
       "      <td>1002</td>\n",
       "      <td>7</td>\n",
       "      <td>11</td>\n",
       "    </tr>\n",
       "  </tbody>\n",
       "</table>\n",
       "</div>"
      ],
      "text/plain": [
       "   user_id  month  message_count\n",
       "0     1000      5             22\n",
       "1     1000      6             60\n",
       "2     1000      7             75\n",
       "3     1000      8             81\n",
       "4     1000      9             57\n",
       "5     1000     10             73\n",
       "6     1000     11             58\n",
       "7     1000     12             70\n",
       "8     1002      6              4\n",
       "9     1002      7             11"
      ]
     },
     "execution_count": 42,
     "metadata": {},
     "output_type": "execute_result"
    }
   ],
   "source": [
    "#Посмотрим первые 10 строк новой таблицы\n",
    "df_sms_pivot.head(10)"
   ]
  },
  {
   "cell_type": "markdown",
   "metadata": {},
   "source": [
    "Подготовим таблицу \"df_users\" для дальнейшей работы."
   ]
  },
  {
   "cell_type": "code",
   "execution_count": 43,
   "metadata": {},
   "outputs": [],
   "source": [
    "#Переведем значения столбца \"churn_date\" в формат даты\n",
    "df_users['churn_date'] = pd.to_datetime(df_users['churn_date'], format = '%Y-%m-%d')"
   ]
  },
  {
   "cell_type": "code",
   "execution_count": 44,
   "metadata": {},
   "outputs": [],
   "source": [
    "#Переведем значения столбца \"reg_date\" в формат даты\n",
    "df_users['reg_date'] = pd.to_datetime(df_users['reg_date'], format = '%Y-%m-%d')"
   ]
  },
  {
   "cell_type": "code",
   "execution_count": 45,
   "metadata": {},
   "outputs": [],
   "source": [
    "#Сделаем новый столбец с полным именем пользователя\n",
    "#Напишем функцию, которая возвращает сочетание имени и фамилии\n",
    "def make_full_name(row):\n",
    "    full_name = row['first_name'] + ' ' + row['last_name']\n",
    "    return full_name\n",
    "df_users['full_name'] = df_users.apply(make_full_name, axis = 1)"
   ]
  },
  {
   "cell_type": "code",
   "execution_count": 46,
   "metadata": {},
   "outputs": [],
   "source": [
    "#Удалим столбцы 'first_name' и 'last_name'\n",
    "df_users.drop(['first_name', 'last_name'], axis='columns', inplace=True)"
   ]
  },
  {
   "cell_type": "code",
   "execution_count": 47,
   "metadata": {},
   "outputs": [
    {
     "data": {
      "text/html": [
       "<div>\n",
       "<style scoped>\n",
       "    .dataframe tbody tr th:only-of-type {\n",
       "        vertical-align: middle;\n",
       "    }\n",
       "\n",
       "    .dataframe tbody tr th {\n",
       "        vertical-align: top;\n",
       "    }\n",
       "\n",
       "    .dataframe thead th {\n",
       "        text-align: right;\n",
       "    }\n",
       "</style>\n",
       "<table border=\"1\" class=\"dataframe\">\n",
       "  <thead>\n",
       "    <tr style=\"text-align: right;\">\n",
       "      <th></th>\n",
       "      <th>user_id</th>\n",
       "      <th>age</th>\n",
       "      <th>churn_date</th>\n",
       "      <th>city</th>\n",
       "      <th>reg_date</th>\n",
       "      <th>tariff</th>\n",
       "      <th>full_name</th>\n",
       "    </tr>\n",
       "  </thead>\n",
       "  <tbody>\n",
       "    <tr>\n",
       "      <th>0</th>\n",
       "      <td>1000</td>\n",
       "      <td>52</td>\n",
       "      <td>NaT</td>\n",
       "      <td>Краснодар</td>\n",
       "      <td>2018-05-25</td>\n",
       "      <td>ultra</td>\n",
       "      <td>Рафаил Верещагин</td>\n",
       "    </tr>\n",
       "    <tr>\n",
       "      <th>1</th>\n",
       "      <td>1001</td>\n",
       "      <td>41</td>\n",
       "      <td>NaT</td>\n",
       "      <td>Москва</td>\n",
       "      <td>2018-11-01</td>\n",
       "      <td>smart</td>\n",
       "      <td>Иван Ежов</td>\n",
       "    </tr>\n",
       "  </tbody>\n",
       "</table>\n",
       "</div>"
      ],
      "text/plain": [
       "   user_id  age churn_date       city   reg_date tariff         full_name\n",
       "0     1000   52        NaT  Краснодар 2018-05-25  ultra  Рафаил Верещагин\n",
       "1     1001   41        NaT     Москва 2018-11-01  smart         Иван Ежов"
      ]
     },
     "execution_count": 47,
     "metadata": {},
     "output_type": "execute_result"
    }
   ],
   "source": [
    "#Посмотрим изменения\n",
    "df_users.head(2)"
   ]
  },
  {
   "cell_type": "code",
   "execution_count": 48,
   "metadata": {},
   "outputs": [],
   "source": [
    "#Для наглядности поменяем столбцы местами\n",
    "df_users_new = df_users[['user_id', 'full_name', 'age', 'city', 'reg_date', 'churn_date', 'tariff']]"
   ]
  },
  {
   "cell_type": "code",
   "execution_count": 49,
   "metadata": {},
   "outputs": [
    {
     "data": {
      "text/html": [
       "<div>\n",
       "<style scoped>\n",
       "    .dataframe tbody tr th:only-of-type {\n",
       "        vertical-align: middle;\n",
       "    }\n",
       "\n",
       "    .dataframe tbody tr th {\n",
       "        vertical-align: top;\n",
       "    }\n",
       "\n",
       "    .dataframe thead th {\n",
       "        text-align: right;\n",
       "    }\n",
       "</style>\n",
       "<table border=\"1\" class=\"dataframe\">\n",
       "  <thead>\n",
       "    <tr style=\"text-align: right;\">\n",
       "      <th></th>\n",
       "      <th>user_id</th>\n",
       "      <th>full_name</th>\n",
       "      <th>age</th>\n",
       "      <th>city</th>\n",
       "      <th>reg_date</th>\n",
       "      <th>churn_date</th>\n",
       "      <th>tariff</th>\n",
       "    </tr>\n",
       "  </thead>\n",
       "  <tbody>\n",
       "    <tr>\n",
       "      <th>0</th>\n",
       "      <td>1000</td>\n",
       "      <td>Рафаил Верещагин</td>\n",
       "      <td>52</td>\n",
       "      <td>Краснодар</td>\n",
       "      <td>2018-05-25</td>\n",
       "      <td>NaT</td>\n",
       "      <td>ultra</td>\n",
       "    </tr>\n",
       "    <tr>\n",
       "      <th>1</th>\n",
       "      <td>1001</td>\n",
       "      <td>Иван Ежов</td>\n",
       "      <td>41</td>\n",
       "      <td>Москва</td>\n",
       "      <td>2018-11-01</td>\n",
       "      <td>NaT</td>\n",
       "      <td>smart</td>\n",
       "    </tr>\n",
       "  </tbody>\n",
       "</table>\n",
       "</div>"
      ],
      "text/plain": [
       "   user_id         full_name  age       city   reg_date churn_date tariff\n",
       "0     1000  Рафаил Верещагин   52  Краснодар 2018-05-25        NaT  ultra\n",
       "1     1001         Иван Ежов   41     Москва 2018-11-01        NaT  smart"
      ]
     },
     "execution_count": 49,
     "metadata": {},
     "output_type": "execute_result"
    }
   ],
   "source": [
    "#Посмотрим изменения\n",
    "df_users_new.head(2)"
   ]
  },
  {
   "cell_type": "code",
   "execution_count": 50,
   "metadata": {},
   "outputs": [],
   "source": [
    "#Объединим таблицу \"df_call_pivot\" и таблицу \"df_int_pivot\"\n",
    "call_int = df_call_pivot.merge(df_int_pivot, on = ['user_id', 'month'], how = 'outer')"
   ]
  },
  {
   "cell_type": "code",
   "execution_count": 51,
   "metadata": {},
   "outputs": [],
   "source": [
    "#Объединим таблицу \"call_int\" и таблицу \"df_sms_pivot\"\n",
    "call_int_sms = call_int.merge(df_sms_pivot, on = ['user_id', 'month'], how = 'outer')"
   ]
  },
  {
   "cell_type": "code",
   "execution_count": 52,
   "metadata": {},
   "outputs": [
    {
     "name": "stdout",
     "output_type": "stream",
     "text": [
      "<class 'pandas.core.frame.DataFrame'>\n",
      "Int64Index: 3214 entries, 0 to 3213\n",
      "Data columns (total 6 columns):\n",
      " #   Column         Non-Null Count  Dtype  \n",
      "---  ------         --------------  -----  \n",
      " 0   user_id        3214 non-null   int64  \n",
      " 1   month          3214 non-null   int64  \n",
      " 2   sum_call       3168 non-null   float64\n",
      " 3   count_call     3168 non-null   float64\n",
      " 4   mb_used        3201 non-null   float64\n",
      " 5   message_count  2717 non-null   float64\n",
      "dtypes: float64(4), int64(2)\n",
      "memory usage: 175.8 KB\n"
     ]
    }
   ],
   "source": [
    "#Посмотрим общую информацию\n",
    "call_int_sms.info()"
   ]
  },
  {
   "cell_type": "code",
   "execution_count": 53,
   "metadata": {
    "scrolled": true
   },
   "outputs": [
    {
     "data": {
      "text/html": [
       "<div>\n",
       "<style scoped>\n",
       "    .dataframe tbody tr th:only-of-type {\n",
       "        vertical-align: middle;\n",
       "    }\n",
       "\n",
       "    .dataframe tbody tr th {\n",
       "        vertical-align: top;\n",
       "    }\n",
       "\n",
       "    .dataframe thead th {\n",
       "        text-align: right;\n",
       "    }\n",
       "</style>\n",
       "<table border=\"1\" class=\"dataframe\">\n",
       "  <thead>\n",
       "    <tr style=\"text-align: right;\">\n",
       "      <th></th>\n",
       "      <th>user_id</th>\n",
       "      <th>month</th>\n",
       "      <th>sum_call</th>\n",
       "      <th>count_call</th>\n",
       "      <th>mb_used</th>\n",
       "      <th>message_count</th>\n",
       "    </tr>\n",
       "  </thead>\n",
       "  <tbody>\n",
       "    <tr>\n",
       "      <th>0</th>\n",
       "      <td>1000</td>\n",
       "      <td>5</td>\n",
       "      <td>159.0</td>\n",
       "      <td>17.0</td>\n",
       "      <td>2256.0</td>\n",
       "      <td>22.0</td>\n",
       "    </tr>\n",
       "  </tbody>\n",
       "</table>\n",
       "</div>"
      ],
      "text/plain": [
       "   user_id  month  sum_call  count_call  mb_used  message_count\n",
       "0     1000      5     159.0        17.0   2256.0           22.0"
      ]
     },
     "execution_count": 53,
     "metadata": {},
     "output_type": "execute_result"
    }
   ],
   "source": [
    "#Проверим\n",
    "call_int_sms.head(1)"
   ]
  },
  {
   "cell_type": "code",
   "execution_count": 54,
   "metadata": {},
   "outputs": [],
   "source": [
    "#Объединим таблицу по пользователям с таблицей с расчетами\n",
    "df = df_users_new.join(call_int_sms.set_index('user_id'), on = ['user_id'], how = 'outer')"
   ]
  },
  {
   "cell_type": "code",
   "execution_count": 55,
   "metadata": {},
   "outputs": [
    {
     "name": "stdout",
     "output_type": "stream",
     "text": [
      "<class 'pandas.core.frame.DataFrame'>\n",
      "Int64Index: 3216 entries, 0 to 499\n",
      "Data columns (total 12 columns):\n",
      " #   Column         Non-Null Count  Dtype         \n",
      "---  ------         --------------  -----         \n",
      " 0   user_id        3216 non-null   int64         \n",
      " 1   full_name      3216 non-null   object        \n",
      " 2   age            3216 non-null   int64         \n",
      " 3   city           3216 non-null   object        \n",
      " 4   reg_date       3216 non-null   datetime64[ns]\n",
      " 5   churn_date     189 non-null    datetime64[ns]\n",
      " 6   tariff         3216 non-null   object        \n",
      " 7   month          3214 non-null   float64       \n",
      " 8   sum_call       3168 non-null   float64       \n",
      " 9   count_call     3168 non-null   float64       \n",
      " 10  mb_used        3201 non-null   float64       \n",
      " 11  message_count  2717 non-null   float64       \n",
      "dtypes: datetime64[ns](2), float64(5), int64(2), object(3)\n",
      "memory usage: 326.6+ KB\n"
     ]
    }
   ],
   "source": [
    "#Посмотрим общую информацию\n",
    "df.info()"
   ]
  },
  {
   "cell_type": "code",
   "execution_count": 56,
   "metadata": {},
   "outputs": [],
   "source": [
    "#Заменим все пропущенные значения нулями\n",
    "df = df.fillna(0)"
   ]
  },
  {
   "cell_type": "code",
   "execution_count": 57,
   "metadata": {
    "scrolled": false
   },
   "outputs": [
    {
     "data": {
      "text/plain": [
       "10"
      ]
     },
     "execution_count": 57,
     "metadata": {},
     "output_type": "execute_result"
    }
   ],
   "source": [
    "#Посчитаем количество пользователей, которые не совершают телефонные звонки\n",
    "len(df[(df['sum_call'] == 0) & (df['mb_used'] != 0)]['user_id'].unique())"
   ]
  },
  {
   "cell_type": "code",
   "execution_count": 58,
   "metadata": {},
   "outputs": [
    {
     "data": {
      "text/plain": [
       "6"
      ]
     },
     "execution_count": 58,
     "metadata": {},
     "output_type": "execute_result"
    }
   ],
   "source": [
    "#Посчитаем количество пользователей, которые не используют интернет-трафик\n",
    "len(df[(df['sum_call'] != 0) & (df['mb_used'] == 0)]['user_id'].unique())"
   ]
  },
  {
   "cell_type": "code",
   "execution_count": 59,
   "metadata": {},
   "outputs": [
    {
     "data": {
      "text/plain": [
       "90"
      ]
     },
     "execution_count": 59,
     "metadata": {},
     "output_type": "execute_result"
    }
   ],
   "source": [
    "#Посчитаем количество пользователей, которые не используют сообщения\n",
    "len(df[(df['message_count'] == 0) & ((df['mb_used'] != 0) | (df['sum_call'] != 0))]['user_id'].unique())"
   ]
  },
  {
   "cell_type": "code",
   "execution_count": 60,
   "metadata": {},
   "outputs": [
    {
     "data": {
      "text/html": [
       "<div>\n",
       "<style scoped>\n",
       "    .dataframe tbody tr th:only-of-type {\n",
       "        vertical-align: middle;\n",
       "    }\n",
       "\n",
       "    .dataframe tbody tr th {\n",
       "        vertical-align: top;\n",
       "    }\n",
       "\n",
       "    .dataframe thead th {\n",
       "        text-align: right;\n",
       "    }\n",
       "</style>\n",
       "<table border=\"1\" class=\"dataframe\">\n",
       "  <thead>\n",
       "    <tr style=\"text-align: right;\">\n",
       "      <th></th>\n",
       "      <th>user_id</th>\n",
       "      <th>full_name</th>\n",
       "      <th>age</th>\n",
       "      <th>city</th>\n",
       "      <th>reg_date</th>\n",
       "      <th>churn_date</th>\n",
       "      <th>tariff</th>\n",
       "      <th>month</th>\n",
       "      <th>sum_call</th>\n",
       "      <th>count_call</th>\n",
       "      <th>mb_used</th>\n",
       "      <th>message_count</th>\n",
       "    </tr>\n",
       "  </thead>\n",
       "  <tbody>\n",
       "  </tbody>\n",
       "</table>\n",
       "</div>"
      ],
      "text/plain": [
       "Empty DataFrame\n",
       "Columns: [user_id, full_name, age, city, reg_date, churn_date, tariff, month, sum_call, count_call, mb_used, message_count]\n",
       "Index: []"
      ]
     },
     "execution_count": 60,
     "metadata": {},
     "output_type": "execute_result"
    }
   ],
   "source": [
    "#Посмотрим на строки с пропущенными значениями в столбце 'month'\n",
    "df[pd.isnull(df.month)]"
   ]
  },
  {
   "cell_type": "code",
   "execution_count": 61,
   "metadata": {},
   "outputs": [],
   "source": [
    "#Заменим пропущенные значения в столбце 'month'\n",
    "df['month'] = df['month'].fillna(value = 12)"
   ]
  },
  {
   "cell_type": "code",
   "execution_count": 62,
   "metadata": {},
   "outputs": [],
   "source": [
    "#Поменяем тип данных на целое число\n",
    "df['month'] = df['month'].astype('int')\n",
    "df['sum_call'] = df['sum_call'].astype('int')\n",
    "df['count_call'] = df['count_call'].astype('int')\n",
    "df['mb_used'] = df['mb_used'].astype('int')\n",
    "df['message_count'] = df['message_count'].astype('int')"
   ]
  },
  {
   "cell_type": "code",
   "execution_count": 63,
   "metadata": {},
   "outputs": [
    {
     "name": "stdout",
     "output_type": "stream",
     "text": [
      "<class 'pandas.core.frame.DataFrame'>\n",
      "Int64Index: 3216 entries, 0 to 499\n",
      "Data columns (total 12 columns):\n",
      " #   Column         Non-Null Count  Dtype         \n",
      "---  ------         --------------  -----         \n",
      " 0   user_id        3216 non-null   int64         \n",
      " 1   full_name      3216 non-null   object        \n",
      " 2   age            3216 non-null   int64         \n",
      " 3   city           3216 non-null   object        \n",
      " 4   reg_date       3216 non-null   datetime64[ns]\n",
      " 5   churn_date     3216 non-null   object        \n",
      " 6   tariff         3216 non-null   object        \n",
      " 7   month          3216 non-null   int32         \n",
      " 8   sum_call       3216 non-null   int32         \n",
      " 9   count_call     3216 non-null   int32         \n",
      " 10  mb_used        3216 non-null   int32         \n",
      " 11  message_count  3216 non-null   int32         \n",
      "dtypes: datetime64[ns](1), int32(5), int64(2), object(4)\n",
      "memory usage: 263.8+ KB\n"
     ]
    }
   ],
   "source": [
    "#Посмотрим общую информацию\n",
    "df.info()"
   ]
  },
  {
   "cell_type": "code",
   "execution_count": 64,
   "metadata": {},
   "outputs": [],
   "source": [
    "#Переименуем столбец\n",
    "df_tariffs.rename(columns=lambda x: x.replace('tariff_name', 'tariff'), inplace=True)"
   ]
  },
  {
   "cell_type": "code",
   "execution_count": 65,
   "metadata": {},
   "outputs": [],
   "source": [
    "#Объединим общую таблицу \"df\" и таблицу \"df_tariffs\" c тарифами\n",
    "df_all = df.merge(df_tariffs, on = ['tariff'], how = 'outer')"
   ]
  },
  {
   "cell_type": "code",
   "execution_count": 66,
   "metadata": {},
   "outputs": [
    {
     "data": {
      "text/html": [
       "<div>\n",
       "<style scoped>\n",
       "    .dataframe tbody tr th:only-of-type {\n",
       "        vertical-align: middle;\n",
       "    }\n",
       "\n",
       "    .dataframe tbody tr th {\n",
       "        vertical-align: top;\n",
       "    }\n",
       "\n",
       "    .dataframe thead th {\n",
       "        text-align: right;\n",
       "    }\n",
       "</style>\n",
       "<table border=\"1\" class=\"dataframe\">\n",
       "  <thead>\n",
       "    <tr style=\"text-align: right;\">\n",
       "      <th></th>\n",
       "      <th>user_id</th>\n",
       "      <th>full_name</th>\n",
       "      <th>age</th>\n",
       "      <th>city</th>\n",
       "      <th>reg_date</th>\n",
       "      <th>churn_date</th>\n",
       "      <th>tariff</th>\n",
       "      <th>month</th>\n",
       "      <th>sum_call</th>\n",
       "      <th>count_call</th>\n",
       "      <th>mb_used</th>\n",
       "      <th>message_count</th>\n",
       "      <th>messages_included</th>\n",
       "      <th>mb_per_month_included</th>\n",
       "      <th>minutes_included</th>\n",
       "      <th>rub_monthly_fee</th>\n",
       "      <th>rub_per_gb</th>\n",
       "      <th>rub_per_message</th>\n",
       "      <th>rub_per_minute</th>\n",
       "    </tr>\n",
       "  </thead>\n",
       "  <tbody>\n",
       "    <tr>\n",
       "      <th>0</th>\n",
       "      <td>1000</td>\n",
       "      <td>Рафаил Верещагин</td>\n",
       "      <td>52</td>\n",
       "      <td>Краснодар</td>\n",
       "      <td>2018-05-25</td>\n",
       "      <td>0</td>\n",
       "      <td>ultra</td>\n",
       "      <td>5</td>\n",
       "      <td>159</td>\n",
       "      <td>17</td>\n",
       "      <td>2256</td>\n",
       "      <td>22</td>\n",
       "      <td>1000</td>\n",
       "      <td>30720</td>\n",
       "      <td>3000</td>\n",
       "      <td>1950</td>\n",
       "      <td>150</td>\n",
       "      <td>1</td>\n",
       "      <td>1</td>\n",
       "    </tr>\n",
       "  </tbody>\n",
       "</table>\n",
       "</div>"
      ],
      "text/plain": [
       "   user_id         full_name  age       city   reg_date churn_date tariff  \\\n",
       "0     1000  Рафаил Верещагин   52  Краснодар 2018-05-25          0  ultra   \n",
       "\n",
       "   month  sum_call  count_call  mb_used  message_count  messages_included  \\\n",
       "0      5       159          17     2256             22               1000   \n",
       "\n",
       "   mb_per_month_included  minutes_included  rub_monthly_fee  rub_per_gb  \\\n",
       "0                  30720              3000             1950         150   \n",
       "\n",
       "   rub_per_message  rub_per_minute  \n",
       "0                1               1  "
      ]
     },
     "execution_count": 66,
     "metadata": {},
     "output_type": "execute_result"
    }
   ],
   "source": [
    "#Проверим\n",
    "df_all.head(1)"
   ]
  },
  {
   "cell_type": "code",
   "execution_count": 67,
   "metadata": {},
   "outputs": [],
   "source": [
    "#Напишем функцию, которая высчитывает помесячную выручку с каждого пользователя\n",
    "def revenue(row):\n",
    "    cost_call = 0\n",
    "    cost_mb = 0\n",
    "    cost_sms = 0\n",
    "    revenue = 0\n",
    "    if (row['sum_call'] - row['minutes_included']) <= 0:\n",
    "        cost_call = 0\n",
    "    else:\n",
    "        cost_call = (row['sum_call'] - row['minutes_included']) * row['rub_per_minute']\n",
    "    if (row['mb_used'] - row['mb_per_month_included']) <= 0:\n",
    "        cost_mb = 0\n",
    "    else:\n",
    "        cost_mb = (math.ceil((row['mb_used'] - row['mb_per_month_included']) / 1024)) * row['rub_per_gb']\n",
    "    if (row['message_count'] - row['messages_included']) <= 0:\n",
    "        overrun_sms = 0\n",
    "    else:\n",
    "        cost_sms = (row['message_count'] - row['messages_included']) * row['rub_per_message']\n",
    "    revenue = cost_call + cost_mb + cost_sms +  row['rub_monthly_fee'] \n",
    "    return revenue       "
   ]
  },
  {
   "cell_type": "code",
   "execution_count": 68,
   "metadata": {},
   "outputs": [],
   "source": [
    "#Создадим новый столбец 'revenue' с результами-значениями работы функции revenue()\n",
    "df_all['revenue'] = df_all.apply(revenue, axis = 1)"
   ]
  },
  {
   "cell_type": "code",
   "execution_count": 69,
   "metadata": {},
   "outputs": [
    {
     "data": {
      "text/html": [
       "<div>\n",
       "<style scoped>\n",
       "    .dataframe tbody tr th:only-of-type {\n",
       "        vertical-align: middle;\n",
       "    }\n",
       "\n",
       "    .dataframe tbody tr th {\n",
       "        vertical-align: top;\n",
       "    }\n",
       "\n",
       "    .dataframe thead th {\n",
       "        text-align: right;\n",
       "    }\n",
       "</style>\n",
       "<table border=\"1\" class=\"dataframe\">\n",
       "  <thead>\n",
       "    <tr style=\"text-align: right;\">\n",
       "      <th></th>\n",
       "      <th>user_id</th>\n",
       "      <th>full_name</th>\n",
       "      <th>age</th>\n",
       "      <th>city</th>\n",
       "      <th>reg_date</th>\n",
       "      <th>churn_date</th>\n",
       "      <th>tariff</th>\n",
       "      <th>month</th>\n",
       "      <th>sum_call</th>\n",
       "      <th>count_call</th>\n",
       "      <th>mb_used</th>\n",
       "      <th>message_count</th>\n",
       "      <th>messages_included</th>\n",
       "      <th>mb_per_month_included</th>\n",
       "      <th>minutes_included</th>\n",
       "      <th>rub_monthly_fee</th>\n",
       "      <th>rub_per_gb</th>\n",
       "      <th>rub_per_message</th>\n",
       "      <th>rub_per_minute</th>\n",
       "      <th>revenue</th>\n",
       "    </tr>\n",
       "  </thead>\n",
       "  <tbody>\n",
       "    <tr>\n",
       "      <th>2338</th>\n",
       "      <td>1296</td>\n",
       "      <td>Альфред Черный</td>\n",
       "      <td>60</td>\n",
       "      <td>Москва</td>\n",
       "      <td>2018-06-05</td>\n",
       "      <td>0</td>\n",
       "      <td>smart</td>\n",
       "      <td>10</td>\n",
       "      <td>316</td>\n",
       "      <td>32</td>\n",
       "      <td>14377</td>\n",
       "      <td>45</td>\n",
       "      <td>50</td>\n",
       "      <td>15360</td>\n",
       "      <td>500</td>\n",
       "      <td>550</td>\n",
       "      <td>200</td>\n",
       "      <td>3</td>\n",
       "      <td>3</td>\n",
       "      <td>550</td>\n",
       "    </tr>\n",
       "    <tr>\n",
       "      <th>1670</th>\n",
       "      <td>1149</td>\n",
       "      <td>Алиса Алексеенко</td>\n",
       "      <td>23</td>\n",
       "      <td>Мурманск</td>\n",
       "      <td>2018-05-19</td>\n",
       "      <td>0</td>\n",
       "      <td>smart</td>\n",
       "      <td>8</td>\n",
       "      <td>173</td>\n",
       "      <td>18</td>\n",
       "      <td>24704</td>\n",
       "      <td>99</td>\n",
       "      <td>50</td>\n",
       "      <td>15360</td>\n",
       "      <td>500</td>\n",
       "      <td>550</td>\n",
       "      <td>200</td>\n",
       "      <td>3</td>\n",
       "      <td>3</td>\n",
       "      <td>2697</td>\n",
       "    </tr>\n",
       "    <tr>\n",
       "      <th>1784</th>\n",
       "      <td>1174</td>\n",
       "      <td>Лолита Розанова</td>\n",
       "      <td>29</td>\n",
       "      <td>Санкт-Петербург</td>\n",
       "      <td>2018-02-17</td>\n",
       "      <td>0</td>\n",
       "      <td>smart</td>\n",
       "      <td>7</td>\n",
       "      <td>785</td>\n",
       "      <td>89</td>\n",
       "      <td>16423</td>\n",
       "      <td>43</td>\n",
       "      <td>50</td>\n",
       "      <td>15360</td>\n",
       "      <td>500</td>\n",
       "      <td>550</td>\n",
       "      <td>200</td>\n",
       "      <td>3</td>\n",
       "      <td>3</td>\n",
       "      <td>1805</td>\n",
       "    </tr>\n",
       "    <tr>\n",
       "      <th>2096</th>\n",
       "      <td>1239</td>\n",
       "      <td>Даниил Ёрохов</td>\n",
       "      <td>68</td>\n",
       "      <td>Самара</td>\n",
       "      <td>2018-06-12</td>\n",
       "      <td>0</td>\n",
       "      <td>smart</td>\n",
       "      <td>8</td>\n",
       "      <td>490</td>\n",
       "      <td>55</td>\n",
       "      <td>19310</td>\n",
       "      <td>24</td>\n",
       "      <td>50</td>\n",
       "      <td>15360</td>\n",
       "      <td>500</td>\n",
       "      <td>550</td>\n",
       "      <td>200</td>\n",
       "      <td>3</td>\n",
       "      <td>3</td>\n",
       "      <td>1350</td>\n",
       "    </tr>\n",
       "    <tr>\n",
       "      <th>2655</th>\n",
       "      <td>1376</td>\n",
       "      <td>Пётр Акимов</td>\n",
       "      <td>46</td>\n",
       "      <td>Самара</td>\n",
       "      <td>2018-05-31</td>\n",
       "      <td>0</td>\n",
       "      <td>smart</td>\n",
       "      <td>7</td>\n",
       "      <td>373</td>\n",
       "      <td>46</td>\n",
       "      <td>16219</td>\n",
       "      <td>0</td>\n",
       "      <td>50</td>\n",
       "      <td>15360</td>\n",
       "      <td>500</td>\n",
       "      <td>550</td>\n",
       "      <td>200</td>\n",
       "      <td>3</td>\n",
       "      <td>3</td>\n",
       "      <td>750</td>\n",
       "    </tr>\n",
       "  </tbody>\n",
       "</table>\n",
       "</div>"
      ],
      "text/plain": [
       "      user_id         full_name  age             city   reg_date churn_date  \\\n",
       "2338     1296    Альфред Черный   60           Москва 2018-06-05          0   \n",
       "1670     1149  Алиса Алексеенко   23         Мурманск 2018-05-19          0   \n",
       "1784     1174   Лолита Розанова   29  Санкт-Петербург 2018-02-17          0   \n",
       "2096     1239     Даниил Ёрохов   68           Самара 2018-06-12          0   \n",
       "2655     1376       Пётр Акимов   46           Самара 2018-05-31          0   \n",
       "\n",
       "     tariff  month  sum_call  count_call  mb_used  message_count  \\\n",
       "2338  smart     10       316          32    14377             45   \n",
       "1670  smart      8       173          18    24704             99   \n",
       "1784  smart      7       785          89    16423             43   \n",
       "2096  smart      8       490          55    19310             24   \n",
       "2655  smart      7       373          46    16219              0   \n",
       "\n",
       "      messages_included  mb_per_month_included  minutes_included  \\\n",
       "2338                 50                  15360               500   \n",
       "1670                 50                  15360               500   \n",
       "1784                 50                  15360               500   \n",
       "2096                 50                  15360               500   \n",
       "2655                 50                  15360               500   \n",
       "\n",
       "      rub_monthly_fee  rub_per_gb  rub_per_message  rub_per_minute  revenue  \n",
       "2338              550         200                3               3      550  \n",
       "1670              550         200                3               3     2697  \n",
       "1784              550         200                3               3     1805  \n",
       "2096              550         200                3               3     1350  \n",
       "2655              550         200                3               3      750  "
      ]
     },
     "execution_count": 69,
     "metadata": {},
     "output_type": "execute_result"
    }
   ],
   "source": [
    "#Проверим\n",
    "df_all.sample(5)"
   ]
  },
  {
   "cell_type": "markdown",
   "metadata": {},
   "source": [
    "### Вывод"
   ]
  },
  {
   "cell_type": "markdown",
   "metadata": {},
   "source": [
    "Каждую таблицу с данными подготовили к объединению. Тип данных был изменен на целое число или тип времени. Нулевые значения решено было удалить, так как эти значения могли повлиять на расчет по количеству. Были добавлен столбец с месяцем в каждую из таблиц и сделаны сводные таблицы по пользователю и по месяцам использования тарифа. Рассчитано по каждому пользователю количество и сумма звонков, количество сообщений, объем израсходованного интернет-трафика. Сводные таблицы и таблица по тарифам были объединены в одну общую для расчета ежемесячной выручки по каждому пользователю. Были найдены два пользователя, которые подключили тарифный план, но не пользовались им. Есть 10 пользователей, которые не совершают звонков, а используют только интернет и сообщения. 6 пользователей не используют интернет-трафик, используя при этом только сообщения и телефонные звонки. Так же 90 из 500 пользователей или не используют сообщения или используют не каждый месяц."
   ]
  },
  {
   "cell_type": "markdown",
   "metadata": {},
   "source": [
    "### Шаг 3. Исследовательский анализ данных (EDA)<a id=\"step3\"></a>"
   ]
  },
  {
   "cell_type": "code",
   "execution_count": 70,
   "metadata": {
    "scrolled": true
   },
   "outputs": [
    {
     "data": {
      "text/html": [
       "<div>\n",
       "<style scoped>\n",
       "    .dataframe tbody tr th:only-of-type {\n",
       "        vertical-align: middle;\n",
       "    }\n",
       "\n",
       "    .dataframe tbody tr th {\n",
       "        vertical-align: top;\n",
       "    }\n",
       "\n",
       "    .dataframe thead th {\n",
       "        text-align: right;\n",
       "    }\n",
       "</style>\n",
       "<table border=\"1\" class=\"dataframe\">\n",
       "  <thead>\n",
       "    <tr style=\"text-align: right;\">\n",
       "      <th></th>\n",
       "      <th>tariff</th>\n",
       "      <th>smart</th>\n",
       "      <th>ultra</th>\n",
       "    </tr>\n",
       "  </thead>\n",
       "  <tbody>\n",
       "    <tr>\n",
       "      <th rowspan=\"8\" valign=\"top\">age</th>\n",
       "      <th>count</th>\n",
       "      <td>2230.000000</td>\n",
       "      <td>986.000000</td>\n",
       "    </tr>\n",
       "    <tr>\n",
       "      <th>mean</th>\n",
       "      <td>46.557848</td>\n",
       "      <td>46.838742</td>\n",
       "    </tr>\n",
       "    <tr>\n",
       "      <th>std</th>\n",
       "      <td>16.349865</td>\n",
       "      <td>17.099807</td>\n",
       "    </tr>\n",
       "    <tr>\n",
       "      <th>min</th>\n",
       "      <td>18.000000</td>\n",
       "      <td>18.000000</td>\n",
       "    </tr>\n",
       "    <tr>\n",
       "      <th>25%</th>\n",
       "      <td>32.000000</td>\n",
       "      <td>30.000000</td>\n",
       "    </tr>\n",
       "    <tr>\n",
       "      <th>50%</th>\n",
       "      <td>47.000000</td>\n",
       "      <td>45.000000</td>\n",
       "    </tr>\n",
       "    <tr>\n",
       "      <th>75%</th>\n",
       "      <td>62.000000</td>\n",
       "      <td>63.000000</td>\n",
       "    </tr>\n",
       "    <tr>\n",
       "      <th>max</th>\n",
       "      <td>75.000000</td>\n",
       "      <td>75.000000</td>\n",
       "    </tr>\n",
       "    <tr>\n",
       "      <th rowspan=\"8\" valign=\"top\">month</th>\n",
       "      <th>count</th>\n",
       "      <td>2230.000000</td>\n",
       "      <td>986.000000</td>\n",
       "    </tr>\n",
       "    <tr>\n",
       "      <th>mean</th>\n",
       "      <td>8.343049</td>\n",
       "      <td>8.242394</td>\n",
       "    </tr>\n",
       "    <tr>\n",
       "      <th>std</th>\n",
       "      <td>2.925006</td>\n",
       "      <td>2.882305</td>\n",
       "    </tr>\n",
       "    <tr>\n",
       "      <th>min</th>\n",
       "      <td>0.000000</td>\n",
       "      <td>0.000000</td>\n",
       "    </tr>\n",
       "    <tr>\n",
       "      <th>25%</th>\n",
       "      <td>6.000000</td>\n",
       "      <td>6.000000</td>\n",
       "    </tr>\n",
       "    <tr>\n",
       "      <th>50%</th>\n",
       "      <td>9.000000</td>\n",
       "      <td>9.000000</td>\n",
       "    </tr>\n",
       "    <tr>\n",
       "      <th>75%</th>\n",
       "      <td>11.000000</td>\n",
       "      <td>11.000000</td>\n",
       "    </tr>\n",
       "    <tr>\n",
       "      <th>max</th>\n",
       "      <td>12.000000</td>\n",
       "      <td>12.000000</td>\n",
       "    </tr>\n",
       "    <tr>\n",
       "      <th rowspan=\"8\" valign=\"top\">sum_call</th>\n",
       "      <th>count</th>\n",
       "      <td>2230.000000</td>\n",
       "      <td>986.000000</td>\n",
       "    </tr>\n",
       "    <tr>\n",
       "      <th>mean</th>\n",
       "      <td>417.747534</td>\n",
       "      <td>526.089249</td>\n",
       "    </tr>\n",
       "    <tr>\n",
       "      <th>std</th>\n",
       "      <td>190.476754</td>\n",
       "      <td>317.887549</td>\n",
       "    </tr>\n",
       "    <tr>\n",
       "      <th>min</th>\n",
       "      <td>0.000000</td>\n",
       "      <td>0.000000</td>\n",
       "    </tr>\n",
       "    <tr>\n",
       "      <th>25%</th>\n",
       "      <td>282.000000</td>\n",
       "      <td>282.500000</td>\n",
       "    </tr>\n",
       "    <tr>\n",
       "      <th>50%</th>\n",
       "      <td>421.500000</td>\n",
       "      <td>518.000000</td>\n",
       "    </tr>\n",
       "    <tr>\n",
       "      <th>75%</th>\n",
       "      <td>545.000000</td>\n",
       "      <td>751.750000</td>\n",
       "    </tr>\n",
       "    <tr>\n",
       "      <th>max</th>\n",
       "      <td>1435.000000</td>\n",
       "      <td>1673.000000</td>\n",
       "    </tr>\n",
       "    <tr>\n",
       "      <th rowspan=\"8\" valign=\"top\">count_call</th>\n",
       "      <th>count</th>\n",
       "      <td>2230.000000</td>\n",
       "      <td>986.000000</td>\n",
       "    </tr>\n",
       "    <tr>\n",
       "      <th>mean</th>\n",
       "      <td>46.926457</td>\n",
       "      <td>59.176471</td>\n",
       "    </tr>\n",
       "    <tr>\n",
       "      <th>std</th>\n",
       "      <td>21.057932</td>\n",
       "      <td>35.594691</td>\n",
       "    </tr>\n",
       "    <tr>\n",
       "      <th>min</th>\n",
       "      <td>0.000000</td>\n",
       "      <td>0.000000</td>\n",
       "    </tr>\n",
       "    <tr>\n",
       "      <th>25%</th>\n",
       "      <td>32.000000</td>\n",
       "      <td>33.000000</td>\n",
       "    </tr>\n",
       "    <tr>\n",
       "      <th>50%</th>\n",
       "      <td>47.000000</td>\n",
       "      <td>58.000000</td>\n",
       "    </tr>\n",
       "    <tr>\n",
       "      <th>75%</th>\n",
       "      <td>61.000000</td>\n",
       "      <td>83.750000</td>\n",
       "    </tr>\n",
       "    <tr>\n",
       "      <th>max</th>\n",
       "      <td>162.000000</td>\n",
       "      <td>190.000000</td>\n",
       "    </tr>\n",
       "    <tr>\n",
       "      <th rowspan=\"8\" valign=\"top\">mb_used</th>\n",
       "      <th>count</th>\n",
       "      <td>2230.000000</td>\n",
       "      <td>986.000000</td>\n",
       "    </tr>\n",
       "    <tr>\n",
       "      <th>mean</th>\n",
       "      <td>16221.910762</td>\n",
       "      <td>19467.137931</td>\n",
       "    </tr>\n",
       "    <tr>\n",
       "      <th>std</th>\n",
       "      <td>5886.299627</td>\n",
       "      <td>10110.255401</td>\n",
       "    </tr>\n",
       "    <tr>\n",
       "      <th>min</th>\n",
       "      <td>0.000000</td>\n",
       "      <td>0.000000</td>\n",
       "    </tr>\n",
       "    <tr>\n",
       "      <th>25%</th>\n",
       "      <td>12645.250000</td>\n",
       "      <td>11761.000000</td>\n",
       "    </tr>\n",
       "    <tr>\n",
       "      <th>50%</th>\n",
       "      <td>16529.000000</td>\n",
       "      <td>19320.000000</td>\n",
       "    </tr>\n",
       "    <tr>\n",
       "      <th>75%</th>\n",
       "      <td>20068.000000</td>\n",
       "      <td>26860.250000</td>\n",
       "    </tr>\n",
       "    <tr>\n",
       "      <th>max</th>\n",
       "      <td>38610.000000</td>\n",
       "      <td>49789.000000</td>\n",
       "    </tr>\n",
       "    <tr>\n",
       "      <th rowspan=\"8\" valign=\"top\">message_count</th>\n",
       "      <th>count</th>\n",
       "      <td>2230.000000</td>\n",
       "      <td>986.000000</td>\n",
       "    </tr>\n",
       "    <tr>\n",
       "      <th>mean</th>\n",
       "      <td>33.369058</td>\n",
       "      <td>49.313387</td>\n",
       "    </tr>\n",
       "    <tr>\n",
       "      <th>std</th>\n",
       "      <td>28.230396</td>\n",
       "      <td>47.806040</td>\n",
       "    </tr>\n",
       "    <tr>\n",
       "      <th>min</th>\n",
       "      <td>0.000000</td>\n",
       "      <td>0.000000</td>\n",
       "    </tr>\n",
       "    <tr>\n",
       "      <th>25%</th>\n",
       "      <td>10.000000</td>\n",
       "      <td>6.000000</td>\n",
       "    </tr>\n",
       "    <tr>\n",
       "      <th>50%</th>\n",
       "      <td>28.000000</td>\n",
       "      <td>38.000000</td>\n",
       "    </tr>\n",
       "    <tr>\n",
       "      <th>75%</th>\n",
       "      <td>51.000000</td>\n",
       "      <td>78.750000</td>\n",
       "    </tr>\n",
       "    <tr>\n",
       "      <th>max</th>\n",
       "      <td>143.000000</td>\n",
       "      <td>224.000000</td>\n",
       "    </tr>\n",
       "    <tr>\n",
       "      <th rowspan=\"8\" valign=\"top\">revenue</th>\n",
       "      <th>count</th>\n",
       "      <td>2230.000000</td>\n",
       "      <td>986.000000</td>\n",
       "    </tr>\n",
       "    <tr>\n",
       "      <th>mean</th>\n",
       "      <td>1294.305381</td>\n",
       "      <td>2070.943205</td>\n",
       "    </tr>\n",
       "    <tr>\n",
       "      <th>std</th>\n",
       "      <td>820.900496</td>\n",
       "      <td>378.629673</td>\n",
       "    </tr>\n",
       "    <tr>\n",
       "      <th>min</th>\n",
       "      <td>550.000000</td>\n",
       "      <td>1950.000000</td>\n",
       "    </tr>\n",
       "    <tr>\n",
       "      <th>25%</th>\n",
       "      <td>550.000000</td>\n",
       "      <td>1950.000000</td>\n",
       "    </tr>\n",
       "    <tr>\n",
       "      <th>50%</th>\n",
       "      <td>1037.000000</td>\n",
       "      <td>1950.000000</td>\n",
       "    </tr>\n",
       "    <tr>\n",
       "      <th>75%</th>\n",
       "      <td>1750.000000</td>\n",
       "      <td>1950.000000</td>\n",
       "    </tr>\n",
       "    <tr>\n",
       "      <th>max</th>\n",
       "      <td>6770.000000</td>\n",
       "      <td>4800.000000</td>\n",
       "    </tr>\n",
       "  </tbody>\n",
       "</table>\n",
       "</div>"
      ],
      "text/plain": [
       "tariff                      smart         ultra\n",
       "age           count   2230.000000    986.000000\n",
       "              mean      46.557848     46.838742\n",
       "              std       16.349865     17.099807\n",
       "              min       18.000000     18.000000\n",
       "              25%       32.000000     30.000000\n",
       "              50%       47.000000     45.000000\n",
       "              75%       62.000000     63.000000\n",
       "              max       75.000000     75.000000\n",
       "month         count   2230.000000    986.000000\n",
       "              mean       8.343049      8.242394\n",
       "              std        2.925006      2.882305\n",
       "              min        0.000000      0.000000\n",
       "              25%        6.000000      6.000000\n",
       "              50%        9.000000      9.000000\n",
       "              75%       11.000000     11.000000\n",
       "              max       12.000000     12.000000\n",
       "sum_call      count   2230.000000    986.000000\n",
       "              mean     417.747534    526.089249\n",
       "              std      190.476754    317.887549\n",
       "              min        0.000000      0.000000\n",
       "              25%      282.000000    282.500000\n",
       "              50%      421.500000    518.000000\n",
       "              75%      545.000000    751.750000\n",
       "              max     1435.000000   1673.000000\n",
       "count_call    count   2230.000000    986.000000\n",
       "              mean      46.926457     59.176471\n",
       "              std       21.057932     35.594691\n",
       "              min        0.000000      0.000000\n",
       "              25%       32.000000     33.000000\n",
       "              50%       47.000000     58.000000\n",
       "              75%       61.000000     83.750000\n",
       "              max      162.000000    190.000000\n",
       "mb_used       count   2230.000000    986.000000\n",
       "              mean   16221.910762  19467.137931\n",
       "              std     5886.299627  10110.255401\n",
       "              min        0.000000      0.000000\n",
       "              25%    12645.250000  11761.000000\n",
       "              50%    16529.000000  19320.000000\n",
       "              75%    20068.000000  26860.250000\n",
       "              max    38610.000000  49789.000000\n",
       "message_count count   2230.000000    986.000000\n",
       "              mean      33.369058     49.313387\n",
       "              std       28.230396     47.806040\n",
       "              min        0.000000      0.000000\n",
       "              25%       10.000000      6.000000\n",
       "              50%       28.000000     38.000000\n",
       "              75%       51.000000     78.750000\n",
       "              max      143.000000    224.000000\n",
       "revenue       count   2230.000000    986.000000\n",
       "              mean    1294.305381   2070.943205\n",
       "              std      820.900496    378.629673\n",
       "              min      550.000000   1950.000000\n",
       "              25%      550.000000   1950.000000\n",
       "              50%     1037.000000   1950.000000\n",
       "              75%     1750.000000   1950.000000\n",
       "              max     6770.000000   4800.000000"
      ]
     },
     "execution_count": 70,
     "metadata": {},
     "output_type": "execute_result"
    }
   ],
   "source": [
    "#Сгруппируем таблицу по тарифу и посмотрим описательные статистики\n",
    "df_all.groupby('tariff')[['age', 'month', 'sum_call', 'count_call', 'mb_used', 'message_count', 'revenue']].describe().T"
   ]
  },
  {
   "cell_type": "code",
   "execution_count": 71,
   "metadata": {},
   "outputs": [],
   "source": [
    "#Зададим шаг для describe и посмотрим снова статистику\n",
    "percentile_head = [0.40, 0.25, 0.20, 0.15, 0.10, 0.05, 0.04, 0.02, 0.01]\n",
    "percentile_tail = [0.65, 0.75, 0.80, 0.85, 0.90, 0.95, 0.98]"
   ]
  },
  {
   "cell_type": "code",
   "execution_count": 72,
   "metadata": {},
   "outputs": [
    {
     "data": {
      "text/html": [
       "<div>\n",
       "<style scoped>\n",
       "    .dataframe tbody tr th:only-of-type {\n",
       "        vertical-align: middle;\n",
       "    }\n",
       "\n",
       "    .dataframe tbody tr th {\n",
       "        vertical-align: top;\n",
       "    }\n",
       "\n",
       "    .dataframe thead tr th {\n",
       "        text-align: left;\n",
       "    }\n",
       "\n",
       "    .dataframe thead tr:last-of-type th {\n",
       "        text-align: right;\n",
       "    }\n",
       "</style>\n",
       "<table border=\"1\" class=\"dataframe\">\n",
       "  <thead>\n",
       "    <tr>\n",
       "      <th></th>\n",
       "      <th colspan=\"15\" halign=\"left\">sum_call</th>\n",
       "    </tr>\n",
       "    <tr>\n",
       "      <th></th>\n",
       "      <th>count</th>\n",
       "      <th>mean</th>\n",
       "      <th>std</th>\n",
       "      <th>min</th>\n",
       "      <th>1%</th>\n",
       "      <th>2%</th>\n",
       "      <th>4%</th>\n",
       "      <th>5%</th>\n",
       "      <th>10%</th>\n",
       "      <th>15%</th>\n",
       "      <th>20%</th>\n",
       "      <th>25%</th>\n",
       "      <th>40%</th>\n",
       "      <th>50%</th>\n",
       "      <th>max</th>\n",
       "    </tr>\n",
       "    <tr>\n",
       "      <th>tariff</th>\n",
       "      <th></th>\n",
       "      <th></th>\n",
       "      <th></th>\n",
       "      <th></th>\n",
       "      <th></th>\n",
       "      <th></th>\n",
       "      <th></th>\n",
       "      <th></th>\n",
       "      <th></th>\n",
       "      <th></th>\n",
       "      <th></th>\n",
       "      <th></th>\n",
       "      <th></th>\n",
       "      <th></th>\n",
       "      <th></th>\n",
       "    </tr>\n",
       "  </thead>\n",
       "  <tbody>\n",
       "    <tr>\n",
       "      <th>smart</th>\n",
       "      <td>2230.0</td>\n",
       "      <td>417.747534</td>\n",
       "      <td>190.476754</td>\n",
       "      <td>0.0</td>\n",
       "      <td>13.58</td>\n",
       "      <td>36.0</td>\n",
       "      <td>77.16</td>\n",
       "      <td>95.0</td>\n",
       "      <td>166.0</td>\n",
       "      <td>213.35</td>\n",
       "      <td>252.0</td>\n",
       "      <td>282.0</td>\n",
       "      <td>369.0</td>\n",
       "      <td>421.5</td>\n",
       "      <td>1435.0</td>\n",
       "    </tr>\n",
       "    <tr>\n",
       "      <th>ultra</th>\n",
       "      <td>986.0</td>\n",
       "      <td>526.089249</td>\n",
       "      <td>317.887549</td>\n",
       "      <td>0.0</td>\n",
       "      <td>0.00</td>\n",
       "      <td>0.0</td>\n",
       "      <td>1.00</td>\n",
       "      <td>16.0</td>\n",
       "      <td>95.5</td>\n",
       "      <td>167.75</td>\n",
       "      <td>237.0</td>\n",
       "      <td>282.5</td>\n",
       "      <td>430.0</td>\n",
       "      <td>518.0</td>\n",
       "      <td>1673.0</td>\n",
       "    </tr>\n",
       "  </tbody>\n",
       "</table>\n",
       "</div>"
      ],
      "text/plain": [
       "       sum_call                                                                \\\n",
       "          count        mean         std  min     1%    2%     4%    5%    10%   \n",
       "tariff                                                                          \n",
       "smart    2230.0  417.747534  190.476754  0.0  13.58  36.0  77.16  95.0  166.0   \n",
       "ultra     986.0  526.089249  317.887549  0.0   0.00   0.0   1.00  16.0   95.5   \n",
       "\n",
       "                                                    \n",
       "           15%    20%    25%    40%    50%     max  \n",
       "tariff                                              \n",
       "smart   213.35  252.0  282.0  369.0  421.5  1435.0  \n",
       "ultra   167.75  237.0  282.5  430.0  518.0  1673.0  "
      ]
     },
     "execution_count": 72,
     "metadata": {},
     "output_type": "execute_result"
    }
   ],
   "source": [
    "#Посмотрим на значения, стремящиеся к минимуму и к максимуму по сумме израсходованных минут за месяц\n",
    "df_all.groupby('tariff')[['sum_call']].describe(percentiles = percentile_head)"
   ]
  },
  {
   "cell_type": "code",
   "execution_count": 73,
   "metadata": {},
   "outputs": [
    {
     "data": {
      "text/html": [
       "<div>\n",
       "<style scoped>\n",
       "    .dataframe tbody tr th:only-of-type {\n",
       "        vertical-align: middle;\n",
       "    }\n",
       "\n",
       "    .dataframe tbody tr th {\n",
       "        vertical-align: top;\n",
       "    }\n",
       "\n",
       "    .dataframe thead tr th {\n",
       "        text-align: left;\n",
       "    }\n",
       "\n",
       "    .dataframe thead tr:last-of-type th {\n",
       "        text-align: right;\n",
       "    }\n",
       "</style>\n",
       "<table border=\"1\" class=\"dataframe\">\n",
       "  <thead>\n",
       "    <tr>\n",
       "      <th></th>\n",
       "      <th colspan=\"13\" halign=\"left\">sum_call</th>\n",
       "    </tr>\n",
       "    <tr>\n",
       "      <th></th>\n",
       "      <th>count</th>\n",
       "      <th>mean</th>\n",
       "      <th>std</th>\n",
       "      <th>min</th>\n",
       "      <th>50%</th>\n",
       "      <th>65%</th>\n",
       "      <th>75%</th>\n",
       "      <th>80%</th>\n",
       "      <th>85%</th>\n",
       "      <th>90%</th>\n",
       "      <th>95%</th>\n",
       "      <th>98%</th>\n",
       "      <th>max</th>\n",
       "    </tr>\n",
       "    <tr>\n",
       "      <th>tariff</th>\n",
       "      <th></th>\n",
       "      <th></th>\n",
       "      <th></th>\n",
       "      <th></th>\n",
       "      <th></th>\n",
       "      <th></th>\n",
       "      <th></th>\n",
       "      <th></th>\n",
       "      <th></th>\n",
       "      <th></th>\n",
       "      <th></th>\n",
       "      <th></th>\n",
       "      <th></th>\n",
       "    </tr>\n",
       "  </thead>\n",
       "  <tbody>\n",
       "    <tr>\n",
       "      <th>smart</th>\n",
       "      <td>2230.0</td>\n",
       "      <td>417.747534</td>\n",
       "      <td>190.476754</td>\n",
       "      <td>0.0</td>\n",
       "      <td>421.5</td>\n",
       "      <td>494.0</td>\n",
       "      <td>545.00</td>\n",
       "      <td>576.0</td>\n",
       "      <td>611.65</td>\n",
       "      <td>658.1</td>\n",
       "      <td>726.55</td>\n",
       "      <td>802.78</td>\n",
       "      <td>1435.0</td>\n",
       "    </tr>\n",
       "    <tr>\n",
       "      <th>ultra</th>\n",
       "      <td>986.0</td>\n",
       "      <td>526.089249</td>\n",
       "      <td>317.887549</td>\n",
       "      <td>0.0</td>\n",
       "      <td>518.0</td>\n",
       "      <td>643.5</td>\n",
       "      <td>751.75</td>\n",
       "      <td>808.0</td>\n",
       "      <td>848.50</td>\n",
       "      <td>932.0</td>\n",
       "      <td>1088.50</td>\n",
       "      <td>1233.00</td>\n",
       "      <td>1673.0</td>\n",
       "    </tr>\n",
       "  </tbody>\n",
       "</table>\n",
       "</div>"
      ],
      "text/plain": [
       "       sum_call                                                            \\\n",
       "          count        mean         std  min    50%    65%     75%    80%   \n",
       "tariff                                                                      \n",
       "smart    2230.0  417.747534  190.476754  0.0  421.5  494.0  545.00  576.0   \n",
       "ultra     986.0  526.089249  317.887549  0.0  518.0  643.5  751.75  808.0   \n",
       "\n",
       "                                                 \n",
       "           85%    90%      95%      98%     max  \n",
       "tariff                                           \n",
       "smart   611.65  658.1   726.55   802.78  1435.0  \n",
       "ultra   848.50  932.0  1088.50  1233.00  1673.0  "
      ]
     },
     "execution_count": 73,
     "metadata": {},
     "output_type": "execute_result"
    }
   ],
   "source": [
    "df_all.groupby('tariff')[['sum_call']].describe(percentiles = percentile_tail)"
   ]
  },
  {
   "cell_type": "code",
   "execution_count": 74,
   "metadata": {},
   "outputs": [
    {
     "data": {
      "text/html": [
       "<div>\n",
       "<style scoped>\n",
       "    .dataframe tbody tr th:only-of-type {\n",
       "        vertical-align: middle;\n",
       "    }\n",
       "\n",
       "    .dataframe tbody tr th {\n",
       "        vertical-align: top;\n",
       "    }\n",
       "\n",
       "    .dataframe thead tr th {\n",
       "        text-align: left;\n",
       "    }\n",
       "\n",
       "    .dataframe thead tr:last-of-type th {\n",
       "        text-align: right;\n",
       "    }\n",
       "</style>\n",
       "<table border=\"1\" class=\"dataframe\">\n",
       "  <thead>\n",
       "    <tr>\n",
       "      <th></th>\n",
       "      <th colspan=\"15\" halign=\"left\">message_count</th>\n",
       "    </tr>\n",
       "    <tr>\n",
       "      <th></th>\n",
       "      <th>count</th>\n",
       "      <th>mean</th>\n",
       "      <th>std</th>\n",
       "      <th>min</th>\n",
       "      <th>1%</th>\n",
       "      <th>2%</th>\n",
       "      <th>4%</th>\n",
       "      <th>5%</th>\n",
       "      <th>10%</th>\n",
       "      <th>15%</th>\n",
       "      <th>20%</th>\n",
       "      <th>25%</th>\n",
       "      <th>40%</th>\n",
       "      <th>50%</th>\n",
       "      <th>max</th>\n",
       "    </tr>\n",
       "    <tr>\n",
       "      <th>tariff</th>\n",
       "      <th></th>\n",
       "      <th></th>\n",
       "      <th></th>\n",
       "      <th></th>\n",
       "      <th></th>\n",
       "      <th></th>\n",
       "      <th></th>\n",
       "      <th></th>\n",
       "      <th></th>\n",
       "      <th></th>\n",
       "      <th></th>\n",
       "      <th></th>\n",
       "      <th></th>\n",
       "      <th></th>\n",
       "      <th></th>\n",
       "    </tr>\n",
       "  </thead>\n",
       "  <tbody>\n",
       "    <tr>\n",
       "      <th>smart</th>\n",
       "      <td>2230.0</td>\n",
       "      <td>33.369058</td>\n",
       "      <td>28.230396</td>\n",
       "      <td>0.0</td>\n",
       "      <td>0.0</td>\n",
       "      <td>0.0</td>\n",
       "      <td>0.0</td>\n",
       "      <td>0.0</td>\n",
       "      <td>0.0</td>\n",
       "      <td>1.0</td>\n",
       "      <td>6.0</td>\n",
       "      <td>10.0</td>\n",
       "      <td>21.0</td>\n",
       "      <td>28.0</td>\n",
       "      <td>143.0</td>\n",
       "    </tr>\n",
       "    <tr>\n",
       "      <th>ultra</th>\n",
       "      <td>986.0</td>\n",
       "      <td>49.313387</td>\n",
       "      <td>47.806040</td>\n",
       "      <td>0.0</td>\n",
       "      <td>0.0</td>\n",
       "      <td>0.0</td>\n",
       "      <td>0.0</td>\n",
       "      <td>0.0</td>\n",
       "      <td>0.0</td>\n",
       "      <td>0.0</td>\n",
       "      <td>1.0</td>\n",
       "      <td>6.0</td>\n",
       "      <td>25.0</td>\n",
       "      <td>38.0</td>\n",
       "      <td>224.0</td>\n",
       "    </tr>\n",
       "  </tbody>\n",
       "</table>\n",
       "</div>"
      ],
      "text/plain": [
       "       message_count                                                           \\\n",
       "               count       mean        std  min   1%   2%   4%   5%  10%  15%   \n",
       "tariff                                                                          \n",
       "smart         2230.0  33.369058  28.230396  0.0  0.0  0.0  0.0  0.0  0.0  1.0   \n",
       "ultra          986.0  49.313387  47.806040  0.0  0.0  0.0  0.0  0.0  0.0  0.0   \n",
       "\n",
       "                                      \n",
       "        20%   25%   40%   50%    max  \n",
       "tariff                                \n",
       "smart   6.0  10.0  21.0  28.0  143.0  \n",
       "ultra   1.0   6.0  25.0  38.0  224.0  "
      ]
     },
     "execution_count": 74,
     "metadata": {},
     "output_type": "execute_result"
    }
   ],
   "source": [
    "#Посмотрим на значения, стремящиеся к минимуму и к максимуму по количеству отправленных сообщений за месяц\n",
    "df_all.groupby('tariff')[['message_count']].describe(percentiles = percentile_head)"
   ]
  },
  {
   "cell_type": "code",
   "execution_count": 75,
   "metadata": {},
   "outputs": [
    {
     "data": {
      "text/html": [
       "<div>\n",
       "<style scoped>\n",
       "    .dataframe tbody tr th:only-of-type {\n",
       "        vertical-align: middle;\n",
       "    }\n",
       "\n",
       "    .dataframe tbody tr th {\n",
       "        vertical-align: top;\n",
       "    }\n",
       "\n",
       "    .dataframe thead tr th {\n",
       "        text-align: left;\n",
       "    }\n",
       "\n",
       "    .dataframe thead tr:last-of-type th {\n",
       "        text-align: right;\n",
       "    }\n",
       "</style>\n",
       "<table border=\"1\" class=\"dataframe\">\n",
       "  <thead>\n",
       "    <tr>\n",
       "      <th></th>\n",
       "      <th colspan=\"13\" halign=\"left\">message_count</th>\n",
       "    </tr>\n",
       "    <tr>\n",
       "      <th></th>\n",
       "      <th>count</th>\n",
       "      <th>mean</th>\n",
       "      <th>std</th>\n",
       "      <th>min</th>\n",
       "      <th>50%</th>\n",
       "      <th>65%</th>\n",
       "      <th>75%</th>\n",
       "      <th>80%</th>\n",
       "      <th>85%</th>\n",
       "      <th>90%</th>\n",
       "      <th>95%</th>\n",
       "      <th>98%</th>\n",
       "      <th>max</th>\n",
       "    </tr>\n",
       "    <tr>\n",
       "      <th>tariff</th>\n",
       "      <th></th>\n",
       "      <th></th>\n",
       "      <th></th>\n",
       "      <th></th>\n",
       "      <th></th>\n",
       "      <th></th>\n",
       "      <th></th>\n",
       "      <th></th>\n",
       "      <th></th>\n",
       "      <th></th>\n",
       "      <th></th>\n",
       "      <th></th>\n",
       "      <th></th>\n",
       "    </tr>\n",
       "  </thead>\n",
       "  <tbody>\n",
       "    <tr>\n",
       "      <th>smart</th>\n",
       "      <td>2230.0</td>\n",
       "      <td>33.369058</td>\n",
       "      <td>28.230396</td>\n",
       "      <td>0.0</td>\n",
       "      <td>28.0</td>\n",
       "      <td>41.0</td>\n",
       "      <td>51.00</td>\n",
       "      <td>57.0</td>\n",
       "      <td>64.0</td>\n",
       "      <td>73.0</td>\n",
       "      <td>88.0</td>\n",
       "      <td>102.0</td>\n",
       "      <td>143.0</td>\n",
       "    </tr>\n",
       "    <tr>\n",
       "      <th>ultra</th>\n",
       "      <td>986.0</td>\n",
       "      <td>49.313387</td>\n",
       "      <td>47.806040</td>\n",
       "      <td>0.0</td>\n",
       "      <td>38.0</td>\n",
       "      <td>58.0</td>\n",
       "      <td>78.75</td>\n",
       "      <td>88.0</td>\n",
       "      <td>101.0</td>\n",
       "      <td>122.5</td>\n",
       "      <td>145.0</td>\n",
       "      <td>171.0</td>\n",
       "      <td>224.0</td>\n",
       "    </tr>\n",
       "  </tbody>\n",
       "</table>\n",
       "</div>"
      ],
      "text/plain": [
       "       message_count                                                      \\\n",
       "               count       mean        std  min   50%   65%    75%   80%   \n",
       "tariff                                                                     \n",
       "smart         2230.0  33.369058  28.230396  0.0  28.0  41.0  51.00  57.0   \n",
       "ultra          986.0  49.313387  47.806040  0.0  38.0  58.0  78.75  88.0   \n",
       "\n",
       "                                           \n",
       "          85%    90%    95%    98%    max  \n",
       "tariff                                     \n",
       "smart    64.0   73.0   88.0  102.0  143.0  \n",
       "ultra   101.0  122.5  145.0  171.0  224.0  "
      ]
     },
     "execution_count": 75,
     "metadata": {},
     "output_type": "execute_result"
    }
   ],
   "source": [
    "df_all.groupby('tariff')[['message_count']].describe(percentiles = percentile_tail)"
   ]
  },
  {
   "cell_type": "code",
   "execution_count": 76,
   "metadata": {
    "scrolled": true
   },
   "outputs": [
    {
     "data": {
      "text/html": [
       "<div>\n",
       "<style scoped>\n",
       "    .dataframe tbody tr th:only-of-type {\n",
       "        vertical-align: middle;\n",
       "    }\n",
       "\n",
       "    .dataframe tbody tr th {\n",
       "        vertical-align: top;\n",
       "    }\n",
       "\n",
       "    .dataframe thead tr th {\n",
       "        text-align: left;\n",
       "    }\n",
       "\n",
       "    .dataframe thead tr:last-of-type th {\n",
       "        text-align: right;\n",
       "    }\n",
       "</style>\n",
       "<table border=\"1\" class=\"dataframe\">\n",
       "  <thead>\n",
       "    <tr>\n",
       "      <th></th>\n",
       "      <th colspan=\"15\" halign=\"left\">mb_used</th>\n",
       "    </tr>\n",
       "    <tr>\n",
       "      <th></th>\n",
       "      <th>count</th>\n",
       "      <th>mean</th>\n",
       "      <th>std</th>\n",
       "      <th>min</th>\n",
       "      <th>1%</th>\n",
       "      <th>2%</th>\n",
       "      <th>4%</th>\n",
       "      <th>5%</th>\n",
       "      <th>10%</th>\n",
       "      <th>15%</th>\n",
       "      <th>20%</th>\n",
       "      <th>25%</th>\n",
       "      <th>40%</th>\n",
       "      <th>50%</th>\n",
       "      <th>max</th>\n",
       "    </tr>\n",
       "    <tr>\n",
       "      <th>tariff</th>\n",
       "      <th></th>\n",
       "      <th></th>\n",
       "      <th></th>\n",
       "      <th></th>\n",
       "      <th></th>\n",
       "      <th></th>\n",
       "      <th></th>\n",
       "      <th></th>\n",
       "      <th></th>\n",
       "      <th></th>\n",
       "      <th></th>\n",
       "      <th></th>\n",
       "      <th></th>\n",
       "      <th></th>\n",
       "      <th></th>\n",
       "    </tr>\n",
       "  </thead>\n",
       "  <tbody>\n",
       "    <tr>\n",
       "      <th>smart</th>\n",
       "      <td>2230.0</td>\n",
       "      <td>16221.910762</td>\n",
       "      <td>5886.299627</td>\n",
       "      <td>0.0</td>\n",
       "      <td>1413.56</td>\n",
       "      <td>2348.58</td>\n",
       "      <td>4668.4</td>\n",
       "      <td>5584.15</td>\n",
       "      <td>8506.5</td>\n",
       "      <td>10487.4</td>\n",
       "      <td>11617.0</td>\n",
       "      <td>12645.25</td>\n",
       "      <td>15162.2</td>\n",
       "      <td>16529.0</td>\n",
       "      <td>38610.0</td>\n",
       "    </tr>\n",
       "    <tr>\n",
       "      <th>ultra</th>\n",
       "      <td>986.0</td>\n",
       "      <td>19467.137931</td>\n",
       "      <td>10110.255401</td>\n",
       "      <td>0.0</td>\n",
       "      <td>0.00</td>\n",
       "      <td>917.20</td>\n",
       "      <td>2654.2</td>\n",
       "      <td>3191.25</td>\n",
       "      <td>5979.0</td>\n",
       "      <td>8487.5</td>\n",
       "      <td>10131.0</td>\n",
       "      <td>11761.00</td>\n",
       "      <td>16559.0</td>\n",
       "      <td>19320.0</td>\n",
       "      <td>49789.0</td>\n",
       "    </tr>\n",
       "  </tbody>\n",
       "</table>\n",
       "</div>"
      ],
      "text/plain": [
       "       mb_used                                                             \\\n",
       "         count          mean           std  min       1%       2%      4%   \n",
       "tariff                                                                      \n",
       "smart   2230.0  16221.910762   5886.299627  0.0  1413.56  2348.58  4668.4   \n",
       "ultra    986.0  19467.137931  10110.255401  0.0     0.00   917.20  2654.2   \n",
       "\n",
       "                                                                                \n",
       "             5%     10%      15%      20%       25%      40%      50%      max  \n",
       "tariff                                                                          \n",
       "smart   5584.15  8506.5  10487.4  11617.0  12645.25  15162.2  16529.0  38610.0  \n",
       "ultra   3191.25  5979.0   8487.5  10131.0  11761.00  16559.0  19320.0  49789.0  "
      ]
     },
     "execution_count": 76,
     "metadata": {},
     "output_type": "execute_result"
    }
   ],
   "source": [
    "#Посмотрим на значения, стремящиеся к минимуму и к максимуму по объему израсходованного интернет-трафика за месяц\n",
    "df_all.groupby('tariff')[['mb_used']].describe(percentiles = percentile_head)"
   ]
  },
  {
   "cell_type": "code",
   "execution_count": 77,
   "metadata": {
    "scrolled": true
   },
   "outputs": [
    {
     "data": {
      "text/html": [
       "<div>\n",
       "<style scoped>\n",
       "    .dataframe tbody tr th:only-of-type {\n",
       "        vertical-align: middle;\n",
       "    }\n",
       "\n",
       "    .dataframe tbody tr th {\n",
       "        vertical-align: top;\n",
       "    }\n",
       "\n",
       "    .dataframe thead tr th {\n",
       "        text-align: left;\n",
       "    }\n",
       "\n",
       "    .dataframe thead tr:last-of-type th {\n",
       "        text-align: right;\n",
       "    }\n",
       "</style>\n",
       "<table border=\"1\" class=\"dataframe\">\n",
       "  <thead>\n",
       "    <tr>\n",
       "      <th></th>\n",
       "      <th colspan=\"13\" halign=\"left\">mb_used</th>\n",
       "    </tr>\n",
       "    <tr>\n",
       "      <th></th>\n",
       "      <th>count</th>\n",
       "      <th>mean</th>\n",
       "      <th>std</th>\n",
       "      <th>min</th>\n",
       "      <th>50%</th>\n",
       "      <th>65%</th>\n",
       "      <th>75%</th>\n",
       "      <th>80%</th>\n",
       "      <th>85%</th>\n",
       "      <th>90%</th>\n",
       "      <th>95%</th>\n",
       "      <th>98%</th>\n",
       "      <th>max</th>\n",
       "    </tr>\n",
       "    <tr>\n",
       "      <th>tariff</th>\n",
       "      <th></th>\n",
       "      <th></th>\n",
       "      <th></th>\n",
       "      <th></th>\n",
       "      <th></th>\n",
       "      <th></th>\n",
       "      <th></th>\n",
       "      <th></th>\n",
       "      <th></th>\n",
       "      <th></th>\n",
       "      <th></th>\n",
       "      <th></th>\n",
       "      <th></th>\n",
       "    </tr>\n",
       "  </thead>\n",
       "  <tbody>\n",
       "    <tr>\n",
       "      <th>smart</th>\n",
       "      <td>2230.0</td>\n",
       "      <td>16221.910762</td>\n",
       "      <td>5886.299627</td>\n",
       "      <td>0.0</td>\n",
       "      <td>16529.0</td>\n",
       "      <td>18557.65</td>\n",
       "      <td>20068.00</td>\n",
       "      <td>20996.8</td>\n",
       "      <td>21909.8</td>\n",
       "      <td>23249.0</td>\n",
       "      <td>25157.05</td>\n",
       "      <td>27893.18</td>\n",
       "      <td>38610.0</td>\n",
       "    </tr>\n",
       "    <tr>\n",
       "      <th>ultra</th>\n",
       "      <td>986.0</td>\n",
       "      <td>19467.137931</td>\n",
       "      <td>10110.255401</td>\n",
       "      <td>0.0</td>\n",
       "      <td>19320.0</td>\n",
       "      <td>23069.75</td>\n",
       "      <td>26860.25</td>\n",
       "      <td>28268.0</td>\n",
       "      <td>30036.0</td>\n",
       "      <td>33004.5</td>\n",
       "      <td>37134.00</td>\n",
       "      <td>41633.50</td>\n",
       "      <td>49789.0</td>\n",
       "    </tr>\n",
       "  </tbody>\n",
       "</table>\n",
       "</div>"
      ],
      "text/plain": [
       "       mb_used                                                                \\\n",
       "         count          mean           std  min      50%       65%       75%   \n",
       "tariff                                                                         \n",
       "smart   2230.0  16221.910762   5886.299627  0.0  16529.0  18557.65  20068.00   \n",
       "ultra    986.0  19467.137931  10110.255401  0.0  19320.0  23069.75  26860.25   \n",
       "\n",
       "                                                                \n",
       "            80%      85%      90%       95%       98%      max  \n",
       "tariff                                                          \n",
       "smart   20996.8  21909.8  23249.0  25157.05  27893.18  38610.0  \n",
       "ultra   28268.0  30036.0  33004.5  37134.00  41633.50  49789.0  "
      ]
     },
     "execution_count": 77,
     "metadata": {},
     "output_type": "execute_result"
    }
   ],
   "source": [
    "df_all.groupby('tariff')[['mb_used']].describe(percentiles = percentile_tail)"
   ]
  },
  {
   "cell_type": "code",
   "execution_count": 78,
   "metadata": {},
   "outputs": [],
   "source": [
    "def var_ddof1(x):\n",
    "    \"\"\"\n",
    "    Функция рассчитывает несмещенную дисперсию\n",
    "    \"\"\"\n",
    "    return np.var(x, ddof = 1)"
   ]
  },
  {
   "cell_type": "code",
   "execution_count": 79,
   "metadata": {},
   "outputs": [
    {
     "data": {
      "text/html": [
       "<div>\n",
       "<style scoped>\n",
       "    .dataframe tbody tr th:only-of-type {\n",
       "        vertical-align: middle;\n",
       "    }\n",
       "\n",
       "    .dataframe tbody tr th {\n",
       "        vertical-align: top;\n",
       "    }\n",
       "\n",
       "    .dataframe thead tr th {\n",
       "        text-align: left;\n",
       "    }\n",
       "\n",
       "    .dataframe thead tr:last-of-type th {\n",
       "        text-align: right;\n",
       "    }\n",
       "</style>\n",
       "<table border=\"1\" class=\"dataframe\">\n",
       "  <thead>\n",
       "    <tr>\n",
       "      <th></th>\n",
       "      <th colspan=\"4\" halign=\"left\">mean</th>\n",
       "      <th colspan=\"4\" halign=\"left\">var_ddof1</th>\n",
       "      <th colspan=\"4\" halign=\"left\">std</th>\n",
       "    </tr>\n",
       "    <tr>\n",
       "      <th></th>\n",
       "      <th>mb_used</th>\n",
       "      <th>message_count</th>\n",
       "      <th>revenue</th>\n",
       "      <th>sum_call</th>\n",
       "      <th>mb_used</th>\n",
       "      <th>message_count</th>\n",
       "      <th>revenue</th>\n",
       "      <th>sum_call</th>\n",
       "      <th>mb_used</th>\n",
       "      <th>message_count</th>\n",
       "      <th>revenue</th>\n",
       "      <th>sum_call</th>\n",
       "    </tr>\n",
       "    <tr>\n",
       "      <th>tariff</th>\n",
       "      <th></th>\n",
       "      <th></th>\n",
       "      <th></th>\n",
       "      <th></th>\n",
       "      <th></th>\n",
       "      <th></th>\n",
       "      <th></th>\n",
       "      <th></th>\n",
       "      <th></th>\n",
       "      <th></th>\n",
       "      <th></th>\n",
       "      <th></th>\n",
       "    </tr>\n",
       "  </thead>\n",
       "  <tbody>\n",
       "    <tr>\n",
       "      <th>smart</th>\n",
       "      <td>16221.910762</td>\n",
       "      <td>33.369058</td>\n",
       "      <td>1294.305381</td>\n",
       "      <td>417.747534</td>\n",
       "      <td>3.464852e+07</td>\n",
       "      <td>796.955256</td>\n",
       "      <td>673877.623614</td>\n",
       "      <td>36281.393836</td>\n",
       "      <td>5886.299627</td>\n",
       "      <td>28.230396</td>\n",
       "      <td>820.900496</td>\n",
       "      <td>190.476754</td>\n",
       "    </tr>\n",
       "    <tr>\n",
       "      <th>ultra</th>\n",
       "      <td>19467.137931</td>\n",
       "      <td>49.313387</td>\n",
       "      <td>2070.943205</td>\n",
       "      <td>526.089249</td>\n",
       "      <td>1.022173e+08</td>\n",
       "      <td>2285.417425</td>\n",
       "      <td>143360.429258</td>\n",
       "      <td>101052.493549</td>\n",
       "      <td>10110.255401</td>\n",
       "      <td>47.806040</td>\n",
       "      <td>378.629673</td>\n",
       "      <td>317.887549</td>\n",
       "    </tr>\n",
       "  </tbody>\n",
       "</table>\n",
       "</div>"
      ],
      "text/plain": [
       "                mean                                            var_ddof1  \\\n",
       "             mb_used message_count      revenue    sum_call       mb_used   \n",
       "tariff                                                                      \n",
       "smart   16221.910762     33.369058  1294.305381  417.747534  3.464852e+07   \n",
       "ultra   19467.137931     49.313387  2070.943205  526.089249  1.022173e+08   \n",
       "\n",
       "                                                             std  \\\n",
       "       message_count        revenue       sum_call       mb_used   \n",
       "tariff                                                             \n",
       "smart     796.955256  673877.623614   36281.393836   5886.299627   \n",
       "ultra    2285.417425  143360.429258  101052.493549  10110.255401   \n",
       "\n",
       "                                              \n",
       "       message_count     revenue    sum_call  \n",
       "tariff                                        \n",
       "smart      28.230396  820.900496  190.476754  \n",
       "ultra      47.806040  378.629673  317.887549  "
      ]
     },
     "execution_count": 79,
     "metadata": {},
     "output_type": "execute_result"
    }
   ],
   "source": [
    "#Получим сводную таблицу по тарифам со средними значениями, дисперсией и стандартным отклонением \n",
    "#по количеству минут разговора, количеству сообщений и объему интернет-трафика\n",
    "df_all.pivot_table(index = 'tariff', values = ['sum_call', 'mb_used', 'message_count', 'revenue'], aggfunc =[np.mean, var_ddof1, np.std])"
   ]
  },
  {
   "cell_type": "code",
   "execution_count": 80,
   "metadata": {},
   "outputs": [
    {
     "name": "stderr",
     "output_type": "stream",
     "text": [
      "C:\\Users\\Maxim\\anaconda3\\lib\\site-packages\\seaborn\\distributions.py:369: UserWarning: Default bandwidth for data is 0; skipping density estimation.\n",
      "  warnings.warn(msg, UserWarning)\n"
     ]
    },
    {
     "data": {
      "image/png": "[encoded data removed]",
      "text/plain": [
       "<Figure size 864x216 with 4 Axes>"
      ]
     },
     "metadata": {
      "needs_background": "light"
     },
     "output_type": "display_data"
    },
    {
     "data": {
      "image/png": "[encoded data removed]",
      "text/plain": [
       "<Figure size 864x216 with 4 Axes>"
      ]
     },
     "metadata": {
      "needs_background": "light"
     },
     "output_type": "display_data"
    }
   ],
   "source": [
    "#Построим гистограммы распределения по плотности вероятности, напишем функцию, которая возьмет\n",
    "#таблицу с указанными признаками и вернет графики построенные по этим признакам\n",
    "num_features = ['sum_call', 'mb_used', 'message_count', 'revenue']\n",
    "def histograms_numeric_columns(df, numerical_columns):\n",
    "    f =  pd.melt(df, value_vars=numerical_columns)\n",
    "    g = sns.FacetGrid(f, col='variable',  col_wrap=4, sharex=False, sharey=False)\n",
    "    g = g.map(sns.distplot, 'value')\n",
    "    return g\n",
    "histograms_numeric_columns(df_all.query('tariff == \"smart\"'), num_features)\n",
    "histograms_numeric_columns(df_all.query('tariff == \"ultra\"'), num_features);"
   ]
  },
  {
   "cell_type": "code",
   "execution_count": 81,
   "metadata": {},
   "outputs": [
    {
     "data": {
      "image/png": "[encoded data removed]",
      "text/plain": [
       "<Figure size 432x288 with 1 Axes>"
      ]
     },
     "metadata": {
      "needs_background": "light"
     },
     "output_type": "display_data"
    },
    {
     "data": {
      "image/png": "[encoded data removed]",
      "text/plain": [
       "<Figure size 432x288 with 1 Axes>"
      ]
     },
     "metadata": {
      "needs_background": "light"
     },
     "output_type": "display_data"
    },
    {
     "data": {
      "image/png": "[encoded data removed]",
      "text/plain": [
       "<Figure size 432x288 with 1 Axes>"
      ]
     },
     "metadata": {
      "needs_background": "light"
     },
     "output_type": "display_data"
    },
    {
     "data": {
      "image/png": "[encoded data removed]",
      "text/plain": [
       "<Figure size 432x288 with 1 Axes>"
      ]
     },
     "metadata": {
      "needs_background": "light"
     },
     "output_type": "display_data"
    },
    {
     "data": {
      "image/png": "[encoded data removed]",
      "text/plain": [
       "<Figure size 432x288 with 1 Axes>"
      ]
     },
     "metadata": {
      "needs_background": "light"
     },
     "output_type": "display_data"
    },
    {
     "data": {
      "image/png": "[encoded data removed]",
      "text/plain": [
       "<Figure size 432x288 with 1 Axes>"
      ]
     },
     "metadata": {
      "needs_background": "light"
     },
     "output_type": "display_data"
    },
    {
     "data": {
      "image/png": "[encoded data removed]",
      "text/plain": [
       "<Figure size 432x288 with 1 Axes>"
      ]
     },
     "metadata": {
      "needs_background": "light"
     },
     "output_type": "display_data"
    }
   ],
   "source": [
    "#Построим диаграммы размаха через цикл для числовых признаков двух тарифов\n",
    "for column in ['age', 'month', 'sum_call', 'count_call', 'mb_used', 'message_count', 'revenue']:\n",
    "    sns.boxplot(\n",
    "        data = df_all,\n",
    "        x = column,\n",
    "        y = df_all['tariff']\n",
    "        )\n",
    "    plt.suptitle('Распределение признака ' + column)\n",
    "    plt.show()"
   ]
  },
  {
   "cell_type": "code",
   "execution_count": 82,
   "metadata": {},
   "outputs": [
    {
     "data": {
      "text/html": [
       "<style  type=\"text/css\" >\n",
       "    #T_234f5b34_2f21_11eb_965d_bc85565553darow0_col0 {\n",
       "            background-color:  #67001f;\n",
       "            color:  #f1f1f1;\n",
       "        }    #T_234f5b34_2f21_11eb_965d_bc85565553darow0_col1 {\n",
       "            background-color:  #053061;\n",
       "            color:  #f1f1f1;\n",
       "        }    #T_234f5b34_2f21_11eb_965d_bc85565553darow0_col2 {\n",
       "            background-color:  #053061;\n",
       "            color:  #f1f1f1;\n",
       "        }    #T_234f5b34_2f21_11eb_965d_bc85565553darow0_col3 {\n",
       "            background-color:  #053061;\n",
       "            color:  #f1f1f1;\n",
       "        }    #T_234f5b34_2f21_11eb_965d_bc85565553darow0_col4 {\n",
       "            background-color:  #053061;\n",
       "            color:  #f1f1f1;\n",
       "        }    #T_234f5b34_2f21_11eb_965d_bc85565553darow0_col5 {\n",
       "            background-color:  #053061;\n",
       "            color:  #f1f1f1;\n",
       "        }    #T_234f5b34_2f21_11eb_965d_bc85565553darow0_col6 {\n",
       "            background-color:  #053061;\n",
       "            color:  #f1f1f1;\n",
       "        }    #T_234f5b34_2f21_11eb_965d_bc85565553darow1_col0 {\n",
       "            background-color:  #053061;\n",
       "            color:  #f1f1f1;\n",
       "        }    #T_234f5b34_2f21_11eb_965d_bc85565553darow1_col1 {\n",
       "            background-color:  #67001f;\n",
       "            color:  #f1f1f1;\n",
       "        }    #T_234f5b34_2f21_11eb_965d_bc85565553darow1_col2 {\n",
       "            background-color:  #337eb8;\n",
       "            color:  #000000;\n",
       "        }    #T_234f5b34_2f21_11eb_965d_bc85565553darow1_col3 {\n",
       "            background-color:  #3480b9;\n",
       "            color:  #000000;\n",
       "        }    #T_234f5b34_2f21_11eb_965d_bc85565553darow1_col4 {\n",
       "            background-color:  #6bacd1;\n",
       "            color:  #000000;\n",
       "        }    #T_234f5b34_2f21_11eb_965d_bc85565553darow1_col5 {\n",
       "            background-color:  #053061;\n",
       "            color:  #f1f1f1;\n",
       "        }    #T_234f5b34_2f21_11eb_965d_bc85565553darow1_col6 {\n",
       "            background-color:  #4393c3;\n",
       "            color:  #000000;\n",
       "        }    #T_234f5b34_2f21_11eb_965d_bc85565553darow2_col0 {\n",
       "            background-color:  #1c5c9f;\n",
       "            color:  #f1f1f1;\n",
       "        }    #T_234f5b34_2f21_11eb_965d_bc85565553darow2_col1 {\n",
       "            background-color:  #569fc9;\n",
       "            color:  #000000;\n",
       "        }    #T_234f5b34_2f21_11eb_965d_bc85565553darow2_col2 {\n",
       "            background-color:  #67001f;\n",
       "            color:  #f1f1f1;\n",
       "        }    #T_234f5b34_2f21_11eb_965d_bc85565553darow2_col3 {\n",
       "            background-color:  #730421;\n",
       "            color:  #f1f1f1;\n",
       "        }    #T_234f5b34_2f21_11eb_965d_bc85565553darow2_col4 {\n",
       "            background-color:  #b3d6e8;\n",
       "            color:  #000000;\n",
       "        }    #T_234f5b34_2f21_11eb_965d_bc85565553darow2_col5 {\n",
       "            background-color:  #2f79b5;\n",
       "            color:  #000000;\n",
       "        }    #T_234f5b34_2f21_11eb_965d_bc85565553darow2_col6 {\n",
       "            background-color:  #d8e9f1;\n",
       "            color:  #000000;\n",
       "        }    #T_234f5b34_2f21_11eb_965d_bc85565553darow3_col0 {\n",
       "            background-color:  #1c5c9f;\n",
       "            color:  #f1f1f1;\n",
       "        }    #T_234f5b34_2f21_11eb_965d_bc85565553darow3_col1 {\n",
       "            background-color:  #59a1ca;\n",
       "            color:  #000000;\n",
       "        }    #T_234f5b34_2f21_11eb_965d_bc85565553darow3_col2 {\n",
       "            background-color:  #730421;\n",
       "            color:  #f1f1f1;\n",
       "        }    #T_234f5b34_2f21_11eb_965d_bc85565553darow3_col3 {\n",
       "            background-color:  #67001f;\n",
       "            color:  #f1f1f1;\n",
       "        }    #T_234f5b34_2f21_11eb_965d_bc85565553darow3_col4 {\n",
       "            background-color:  #b8d8e9;\n",
       "            color:  #000000;\n",
       "        }    #T_234f5b34_2f21_11eb_965d_bc85565553darow3_col5 {\n",
       "            background-color:  #307ab6;\n",
       "            color:  #000000;\n",
       "        }    #T_234f5b34_2f21_11eb_965d_bc85565553darow3_col6 {\n",
       "            background-color:  #d7e8f1;\n",
       "            color:  #000000;\n",
       "        }    #T_234f5b34_2f21_11eb_965d_bc85565553darow4_col0 {\n",
       "            background-color:  #053061;\n",
       "            color:  #f1f1f1;\n",
       "        }    #T_234f5b34_2f21_11eb_965d_bc85565553darow4_col1 {\n",
       "            background-color:  #6eaed2;\n",
       "            color:  #000000;\n",
       "        }    #T_234f5b34_2f21_11eb_965d_bc85565553darow4_col2 {\n",
       "            background-color:  #90c4dd;\n",
       "            color:  #000000;\n",
       "        }    #T_234f5b34_2f21_11eb_965d_bc85565553darow4_col3 {\n",
       "            background-color:  #96c7df;\n",
       "            color:  #000000;\n",
       "        }    #T_234f5b34_2f21_11eb_965d_bc85565553darow4_col4 {\n",
       "            background-color:  #67001f;\n",
       "            color:  #f1f1f1;\n",
       "        }    #T_234f5b34_2f21_11eb_965d_bc85565553darow4_col5 {\n",
       "            background-color:  #1c5c9f;\n",
       "            color:  #f1f1f1;\n",
       "        }    #T_234f5b34_2f21_11eb_965d_bc85565553darow4_col6 {\n",
       "            background-color:  #c43b3c;\n",
       "            color:  #f1f1f1;\n",
       "        }    #T_234f5b34_2f21_11eb_965d_bc85565553darow5_col0 {\n",
       "            background-color:  #1e61a5;\n",
       "            color:  #f1f1f1;\n",
       "        }    #T_234f5b34_2f21_11eb_965d_bc85565553darow5_col1 {\n",
       "            background-color:  #1e61a5;\n",
       "            color:  #f1f1f1;\n",
       "        }    #T_234f5b34_2f21_11eb_965d_bc85565553darow5_col2 {\n",
       "            background-color:  #327cb7;\n",
       "            color:  #000000;\n",
       "        }    #T_234f5b34_2f21_11eb_965d_bc85565553darow5_col3 {\n",
       "            background-color:  #327cb7;\n",
       "            color:  #000000;\n",
       "        }    #T_234f5b34_2f21_11eb_965d_bc85565553darow5_col4 {\n",
       "            background-color:  #3681ba;\n",
       "            color:  #000000;\n",
       "        }    #T_234f5b34_2f21_11eb_965d_bc85565553darow5_col5 {\n",
       "            background-color:  #67001f;\n",
       "            color:  #f1f1f1;\n",
       "        }    #T_234f5b34_2f21_11eb_965d_bc85565553darow5_col6 {\n",
       "            background-color:  #2c75b4;\n",
       "            color:  #000000;\n",
       "        }    #T_234f5b34_2f21_11eb_965d_bc85565553darow6_col0 {\n",
       "            background-color:  #08366a;\n",
       "            color:  #f1f1f1;\n",
       "        }    #T_234f5b34_2f21_11eb_965d_bc85565553darow6_col1 {\n",
       "            background-color:  #4f9bc7;\n",
       "            color:  #000000;\n",
       "        }    #T_234f5b34_2f21_11eb_965d_bc85565553darow6_col2 {\n",
       "            background-color:  #c2ddec;\n",
       "            color:  #000000;\n",
       "        }    #T_234f5b34_2f21_11eb_965d_bc85565553darow6_col3 {\n",
       "            background-color:  #c0dceb;\n",
       "            color:  #000000;\n",
       "        }    #T_234f5b34_2f21_11eb_965d_bc85565553darow6_col4 {\n",
       "            background-color:  #c43b3c;\n",
       "            color:  #f1f1f1;\n",
       "        }    #T_234f5b34_2f21_11eb_965d_bc85565553darow6_col5 {\n",
       "            background-color:  #175290;\n",
       "            color:  #f1f1f1;\n",
       "        }    #T_234f5b34_2f21_11eb_965d_bc85565553darow6_col6 {\n",
       "            background-color:  #67001f;\n",
       "            color:  #f1f1f1;\n",
       "        }</style><table id=\"T_234f5b34_2f21_11eb_965d_bc85565553da\" ><thead>    <tr>        <th class=\"blank level0\" ></th>        <th class=\"col_heading level0 col0\" >age</th>        <th class=\"col_heading level0 col1\" >month</th>        <th class=\"col_heading level0 col2\" >sum_call</th>        <th class=\"col_heading level0 col3\" >count_call</th>        <th class=\"col_heading level0 col4\" >mb_used</th>        <th class=\"col_heading level0 col5\" >message_count</th>        <th class=\"col_heading level0 col6\" >revenue</th>    </tr></thead><tbody>\n",
       "                <tr>\n",
       "                        <th id=\"T_234f5b34_2f21_11eb_965d_bc85565553dalevel0_row0\" class=\"row_heading level0 row0\" >age</th>\n",
       "                        <td id=\"T_234f5b34_2f21_11eb_965d_bc85565553darow0_col0\" class=\"data row0 col0\" >1.000000</td>\n",
       "                        <td id=\"T_234f5b34_2f21_11eb_965d_bc85565553darow0_col1\" class=\"data row0 col1\" >-0.022475</td>\n",
       "                        <td id=\"T_234f5b34_2f21_11eb_965d_bc85565553darow0_col2\" class=\"data row0 col2\" >0.063299</td>\n",
       "                        <td id=\"T_234f5b34_2f21_11eb_965d_bc85565553darow0_col3\" class=\"data row0 col3\" >0.063889</td>\n",
       "                        <td id=\"T_234f5b34_2f21_11eb_965d_bc85565553darow0_col4\" class=\"data row0 col4\" >-0.018549</td>\n",
       "                        <td id=\"T_234f5b34_2f21_11eb_965d_bc85565553darow0_col5\" class=\"data row0 col5\" >0.072942</td>\n",
       "                        <td id=\"T_234f5b34_2f21_11eb_965d_bc85565553darow0_col6\" class=\"data row0 col6\" >-0.006906</td>\n",
       "            </tr>\n",
       "            <tr>\n",
       "                        <th id=\"T_234f5b34_2f21_11eb_965d_bc85565553dalevel0_row1\" class=\"row_heading level0 row1\" >month</th>\n",
       "                        <td id=\"T_234f5b34_2f21_11eb_965d_bc85565553darow1_col0\" class=\"data row1 col0\" >-0.022475</td>\n",
       "                        <td id=\"T_234f5b34_2f21_11eb_965d_bc85565553darow1_col1\" class=\"data row1 col1\" >1.000000</td>\n",
       "                        <td id=\"T_234f5b34_2f21_11eb_965d_bc85565553darow1_col2\" class=\"data row1 col2\" >0.207228</td>\n",
       "                        <td id=\"T_234f5b34_2f21_11eb_965d_bc85565553darow1_col3\" class=\"data row1 col3\" >0.212043</td>\n",
       "                        <td id=\"T_234f5b34_2f21_11eb_965d_bc85565553darow1_col4\" class=\"data row1 col4\" >0.239875</td>\n",
       "                        <td id=\"T_234f5b34_2f21_11eb_965d_bc85565553darow1_col5\" class=\"data row1 col5\" >0.071237</td>\n",
       "                        <td id=\"T_234f5b34_2f21_11eb_965d_bc85565553darow1_col6\" class=\"data row1 col6\" >0.197200</td>\n",
       "            </tr>\n",
       "            <tr>\n",
       "                        <th id=\"T_234f5b34_2f21_11eb_965d_bc85565553dalevel0_row2\" class=\"row_heading level0 row2\" >sum_call</th>\n",
       "                        <td id=\"T_234f5b34_2f21_11eb_965d_bc85565553darow2_col0\" class=\"data row2 col0\" >0.063299</td>\n",
       "                        <td id=\"T_234f5b34_2f21_11eb_965d_bc85565553darow2_col1\" class=\"data row2 col1\" >0.207228</td>\n",
       "                        <td id=\"T_234f5b34_2f21_11eb_965d_bc85565553darow2_col2\" class=\"data row2 col2\" >1.000000</td>\n",
       "                        <td id=\"T_234f5b34_2f21_11eb_965d_bc85565553darow2_col3\" class=\"data row2 col3\" >0.982267</td>\n",
       "                        <td id=\"T_234f5b34_2f21_11eb_965d_bc85565553darow2_col4\" class=\"data row2 col4\" >0.342321</td>\n",
       "                        <td id=\"T_234f5b34_2f21_11eb_965d_bc85565553darow2_col5\" class=\"data row2 col5\" >0.203971</td>\n",
       "                        <td id=\"T_234f5b34_2f21_11eb_965d_bc85565553darow2_col6\" class=\"data row2 col6\" >0.415233</td>\n",
       "            </tr>\n",
       "            <tr>\n",
       "                        <th id=\"T_234f5b34_2f21_11eb_965d_bc85565553dalevel0_row3\" class=\"row_heading level0 row3\" >count_call</th>\n",
       "                        <td id=\"T_234f5b34_2f21_11eb_965d_bc85565553darow3_col0\" class=\"data row3 col0\" >0.063889</td>\n",
       "                        <td id=\"T_234f5b34_2f21_11eb_965d_bc85565553darow3_col1\" class=\"data row3 col1\" >0.212043</td>\n",
       "                        <td id=\"T_234f5b34_2f21_11eb_965d_bc85565553darow3_col2\" class=\"data row3 col2\" >0.982267</td>\n",
       "                        <td id=\"T_234f5b34_2f21_11eb_965d_bc85565553darow3_col3\" class=\"data row3 col3\" >1.000000</td>\n",
       "                        <td id=\"T_234f5b34_2f21_11eb_965d_bc85565553darow3_col4\" class=\"data row3 col4\" >0.350704</td>\n",
       "                        <td id=\"T_234f5b34_2f21_11eb_965d_bc85565553darow3_col5\" class=\"data row3 col5\" >0.206003</td>\n",
       "                        <td id=\"T_234f5b34_2f21_11eb_965d_bc85565553darow3_col6\" class=\"data row3 col6\" >0.411609</td>\n",
       "            </tr>\n",
       "            <tr>\n",
       "                        <th id=\"T_234f5b34_2f21_11eb_965d_bc85565553dalevel0_row4\" class=\"row_heading level0 row4\" >mb_used</th>\n",
       "                        <td id=\"T_234f5b34_2f21_11eb_965d_bc85565553darow4_col0\" class=\"data row4 col0\" >-0.018549</td>\n",
       "                        <td id=\"T_234f5b34_2f21_11eb_965d_bc85565553darow4_col1\" class=\"data row4 col1\" >0.239875</td>\n",
       "                        <td id=\"T_234f5b34_2f21_11eb_965d_bc85565553darow4_col2\" class=\"data row4 col2\" >0.342321</td>\n",
       "                        <td id=\"T_234f5b34_2f21_11eb_965d_bc85565553darow4_col3\" class=\"data row4 col3\" >0.350704</td>\n",
       "                        <td id=\"T_234f5b34_2f21_11eb_965d_bc85565553darow4_col4\" class=\"data row4 col4\" >1.000000</td>\n",
       "                        <td id=\"T_234f5b34_2f21_11eb_965d_bc85565553darow4_col5\" class=\"data row4 col5\" >0.147701</td>\n",
       "                        <td id=\"T_234f5b34_2f21_11eb_965d_bc85565553darow4_col6\" class=\"data row4 col6\" >0.848077</td>\n",
       "            </tr>\n",
       "            <tr>\n",
       "                        <th id=\"T_234f5b34_2f21_11eb_965d_bc85565553dalevel0_row5\" class=\"row_heading level0 row5\" >message_count</th>\n",
       "                        <td id=\"T_234f5b34_2f21_11eb_965d_bc85565553darow5_col0\" class=\"data row5 col0\" >0.072942</td>\n",
       "                        <td id=\"T_234f5b34_2f21_11eb_965d_bc85565553darow5_col1\" class=\"data row5 col1\" >0.071237</td>\n",
       "                        <td id=\"T_234f5b34_2f21_11eb_965d_bc85565553darow5_col2\" class=\"data row5 col2\" >0.203971</td>\n",
       "                        <td id=\"T_234f5b34_2f21_11eb_965d_bc85565553darow5_col3\" class=\"data row5 col3\" >0.206003</td>\n",
       "                        <td id=\"T_234f5b34_2f21_11eb_965d_bc85565553darow5_col4\" class=\"data row5 col4\" >0.147701</td>\n",
       "                        <td id=\"T_234f5b34_2f21_11eb_965d_bc85565553darow5_col5\" class=\"data row5 col5\" >1.000000</td>\n",
       "                        <td id=\"T_234f5b34_2f21_11eb_965d_bc85565553darow5_col6\" class=\"data row5 col6\" >0.130366</td>\n",
       "            </tr>\n",
       "            <tr>\n",
       "                        <th id=\"T_234f5b34_2f21_11eb_965d_bc85565553dalevel0_row6\" class=\"row_heading level0 row6\" >revenue</th>\n",
       "                        <td id=\"T_234f5b34_2f21_11eb_965d_bc85565553darow6_col0\" class=\"data row6 col0\" >-0.006906</td>\n",
       "                        <td id=\"T_234f5b34_2f21_11eb_965d_bc85565553darow6_col1\" class=\"data row6 col1\" >0.197200</td>\n",
       "                        <td id=\"T_234f5b34_2f21_11eb_965d_bc85565553darow6_col2\" class=\"data row6 col2\" >0.415233</td>\n",
       "                        <td id=\"T_234f5b34_2f21_11eb_965d_bc85565553darow6_col3\" class=\"data row6 col3\" >0.411609</td>\n",
       "                        <td id=\"T_234f5b34_2f21_11eb_965d_bc85565553darow6_col4\" class=\"data row6 col4\" >0.848077</td>\n",
       "                        <td id=\"T_234f5b34_2f21_11eb_965d_bc85565553darow6_col5\" class=\"data row6 col5\" >0.130366</td>\n",
       "                        <td id=\"T_234f5b34_2f21_11eb_965d_bc85565553darow6_col6\" class=\"data row6 col6\" >1.000000</td>\n",
       "            </tr>\n",
       "    </tbody></table>"
      ],
      "text/plain": [
       "<pandas.io.formats.style.Styler at 0xd7d4a66e50>"
      ]
     },
     "execution_count": 82,
     "metadata": {},
     "output_type": "execute_result"
    }
   ],
   "source": [
    "#Найдем коэффициенты корреляции для признаков по тарифу \"Смарт\"\n",
    "df_all.query('tariff == \"smart\"')[['age', 'month', 'sum_call', 'count_call', 'mb_used', 'message_count', 'revenue']].corr()\\\n",
    ".style.background_gradient(\"RdBu_r\")"
   ]
  },
  {
   "cell_type": "code",
   "execution_count": 83,
   "metadata": {},
   "outputs": [
    {
     "data": {
      "image/png": "[encoded data removed]",
      "text/plain": [
       "<Figure size 432x288 with 1 Axes>"
      ]
     },
     "metadata": {
      "needs_background": "light"
     },
     "output_type": "display_data"
    }
   ],
   "source": [
    "#Самая высокая положительная корреляция между объемом интернет-трафика и выручкой\n",
    "#построим диаграмму рассеяния для тарифа \"Смарт\"\n",
    "sns.regplot(data = df_all.query('tariff == \"smart\"'), x = 'mb_used', y = 'revenue', color='tab:pink')\n",
    "plt.suptitle('Диаграмма рассеяния для признаков \"mb_used\" и \"revenue\" для тарифа \"Смарт\"')\n",
    "plt.xlabel('Объем интернет-трафика')\n",
    "plt.ylabel('Выручка');"
   ]
  },
  {
   "cell_type": "code",
   "execution_count": 84,
   "metadata": {},
   "outputs": [
    {
     "data": {
      "text/html": [
       "<style  type=\"text/css\" >\n",
       "    #T_23a791e6_2f21_11eb_b4c7_bc85565553darow0_col0 {\n",
       "            background-color:  #67001f;\n",
       "            color:  #f1f1f1;\n",
       "        }    #T_23a791e6_2f21_11eb_b4c7_bc85565553darow0_col1 {\n",
       "            background-color:  #053061;\n",
       "            color:  #f1f1f1;\n",
       "        }    #T_23a791e6_2f21_11eb_b4c7_bc85565553darow0_col2 {\n",
       "            background-color:  #0e4179;\n",
       "            color:  #f1f1f1;\n",
       "        }    #T_23a791e6_2f21_11eb_b4c7_bc85565553darow0_col3 {\n",
       "            background-color:  #0e4179;\n",
       "            color:  #f1f1f1;\n",
       "        }    #T_23a791e6_2f21_11eb_b4c7_bc85565553darow0_col4 {\n",
       "            background-color:  #053061;\n",
       "            color:  #f1f1f1;\n",
       "        }    #T_23a791e6_2f21_11eb_b4c7_bc85565553darow0_col5 {\n",
       "            background-color:  #053061;\n",
       "            color:  #f1f1f1;\n",
       "        }    #T_23a791e6_2f21_11eb_b4c7_bc85565553darow0_col6 {\n",
       "            background-color:  #053061;\n",
       "            color:  #f1f1f1;\n",
       "        }    #T_23a791e6_2f21_11eb_b4c7_bc85565553darow1_col0 {\n",
       "            background-color:  #2065ab;\n",
       "            color:  #f1f1f1;\n",
       "        }    #T_23a791e6_2f21_11eb_b4c7_bc85565553darow1_col1 {\n",
       "            background-color:  #67001f;\n",
       "            color:  #f1f1f1;\n",
       "        }    #T_23a791e6_2f21_11eb_b4c7_bc85565553darow1_col2 {\n",
       "            background-color:  #15508d;\n",
       "            color:  #f1f1f1;\n",
       "        }    #T_23a791e6_2f21_11eb_b4c7_bc85565553darow1_col3 {\n",
       "            background-color:  #15508d;\n",
       "            color:  #f1f1f1;\n",
       "        }    #T_23a791e6_2f21_11eb_b4c7_bc85565553darow1_col4 {\n",
       "            background-color:  #2f79b5;\n",
       "            color:  #000000;\n",
       "        }    #T_23a791e6_2f21_11eb_b4c7_bc85565553darow1_col5 {\n",
       "            background-color:  #87beda;\n",
       "            color:  #000000;\n",
       "        }    #T_23a791e6_2f21_11eb_b4c7_bc85565553darow1_col6 {\n",
       "            background-color:  #337eb8;\n",
       "            color:  #000000;\n",
       "        }    #T_23a791e6_2f21_11eb_b4c7_bc85565553darow2_col0 {\n",
       "            background-color:  #4695c4;\n",
       "            color:  #000000;\n",
       "        }    #T_23a791e6_2f21_11eb_b4c7_bc85565553darow2_col1 {\n",
       "            background-color:  #307ab6;\n",
       "            color:  #000000;\n",
       "        }    #T_23a791e6_2f21_11eb_b4c7_bc85565553darow2_col2 {\n",
       "            background-color:  #67001f;\n",
       "            color:  #f1f1f1;\n",
       "        }    #T_23a791e6_2f21_11eb_b4c7_bc85565553darow2_col3 {\n",
       "            background-color:  #6d0220;\n",
       "            color:  #f1f1f1;\n",
       "        }    #T_23a791e6_2f21_11eb_b4c7_bc85565553darow2_col4 {\n",
       "            background-color:  #3b88be;\n",
       "            color:  #000000;\n",
       "        }    #T_23a791e6_2f21_11eb_b4c7_bc85565553darow2_col5 {\n",
       "            background-color:  #3b88be;\n",
       "            color:  #000000;\n",
       "        }    #T_23a791e6_2f21_11eb_b4c7_bc85565553darow2_col6 {\n",
       "            background-color:  #3480b9;\n",
       "            color:  #000000;\n",
       "        }    #T_23a791e6_2f21_11eb_b4c7_bc85565553darow3_col0 {\n",
       "            background-color:  #4997c5;\n",
       "            color:  #000000;\n",
       "        }    #T_23a791e6_2f21_11eb_b4c7_bc85565553darow3_col1 {\n",
       "            background-color:  #307ab6;\n",
       "            color:  #000000;\n",
       "        }    #T_23a791e6_2f21_11eb_b4c7_bc85565553darow3_col2 {\n",
       "            background-color:  #6d0220;\n",
       "            color:  #f1f1f1;\n",
       "        }    #T_23a791e6_2f21_11eb_b4c7_bc85565553darow3_col3 {\n",
       "            background-color:  #67001f;\n",
       "            color:  #f1f1f1;\n",
       "        }    #T_23a791e6_2f21_11eb_b4c7_bc85565553darow3_col4 {\n",
       "            background-color:  #3b88be;\n",
       "            color:  #000000;\n",
       "        }    #T_23a791e6_2f21_11eb_b4c7_bc85565553darow3_col5 {\n",
       "            background-color:  #3c8abe;\n",
       "            color:  #000000;\n",
       "        }    #T_23a791e6_2f21_11eb_b4c7_bc85565553darow3_col6 {\n",
       "            background-color:  #3480b9;\n",
       "            color:  #000000;\n",
       "        }    #T_23a791e6_2f21_11eb_b4c7_bc85565553darow4_col0 {\n",
       "            background-color:  #2369ad;\n",
       "            color:  #f1f1f1;\n",
       "        }    #T_23a791e6_2f21_11eb_b4c7_bc85565553darow4_col1 {\n",
       "            background-color:  #327cb7;\n",
       "            color:  #000000;\n",
       "        }    #T_23a791e6_2f21_11eb_b4c7_bc85565553darow4_col2 {\n",
       "            background-color:  #2369ad;\n",
       "            color:  #f1f1f1;\n",
       "        }    #T_23a791e6_2f21_11eb_b4c7_bc85565553darow4_col3 {\n",
       "            background-color:  #2267ac;\n",
       "            color:  #f1f1f1;\n",
       "        }    #T_23a791e6_2f21_11eb_b4c7_bc85565553darow4_col4 {\n",
       "            background-color:  #67001f;\n",
       "            color:  #f1f1f1;\n",
       "        }    #T_23a791e6_2f21_11eb_b4c7_bc85565553darow4_col5 {\n",
       "            background-color:  #71b0d3;\n",
       "            color:  #000000;\n",
       "        }    #T_23a791e6_2f21_11eb_b4c7_bc85565553darow4_col6 {\n",
       "            background-color:  #f9c2a7;\n",
       "            color:  #000000;\n",
       "        }    #T_23a791e6_2f21_11eb_b4c7_bc85565553darow5_col0 {\n",
       "            background-color:  #053061;\n",
       "            color:  #f1f1f1;\n",
       "        }    #T_23a791e6_2f21_11eb_b4c7_bc85565553darow5_col1 {\n",
       "            background-color:  #4695c4;\n",
       "            color:  #000000;\n",
       "        }    #T_23a791e6_2f21_11eb_b4c7_bc85565553darow5_col2 {\n",
       "            background-color:  #053061;\n",
       "            color:  #f1f1f1;\n",
       "        }    #T_23a791e6_2f21_11eb_b4c7_bc85565553darow5_col3 {\n",
       "            background-color:  #053061;\n",
       "            color:  #f1f1f1;\n",
       "        }    #T_23a791e6_2f21_11eb_b4c7_bc85565553darow5_col4 {\n",
       "            background-color:  #3a87bd;\n",
       "            color:  #000000;\n",
       "        }    #T_23a791e6_2f21_11eb_b4c7_bc85565553darow5_col5 {\n",
       "            background-color:  #67001f;\n",
       "            color:  #f1f1f1;\n",
       "        }    #T_23a791e6_2f21_11eb_b4c7_bc85565553darow5_col6 {\n",
       "            background-color:  #1e61a5;\n",
       "            color:  #f1f1f1;\n",
       "        }    #T_23a791e6_2f21_11eb_b4c7_bc85565553darow6_col0 {\n",
       "            background-color:  #0e4179;\n",
       "            color:  #f1f1f1;\n",
       "        }    #T_23a791e6_2f21_11eb_b4c7_bc85565553darow6_col1 {\n",
       "            background-color:  #1d5fa2;\n",
       "            color:  #f1f1f1;\n",
       "        }    #T_23a791e6_2f21_11eb_b4c7_bc85565553darow6_col2 {\n",
       "            background-color:  #073467;\n",
       "            color:  #f1f1f1;\n",
       "        }    #T_23a791e6_2f21_11eb_b4c7_bc85565553darow6_col3 {\n",
       "            background-color:  #063264;\n",
       "            color:  #f1f1f1;\n",
       "        }    #T_23a791e6_2f21_11eb_b4c7_bc85565553darow6_col4 {\n",
       "            background-color:  #fbd0b9;\n",
       "            color:  #000000;\n",
       "        }    #T_23a791e6_2f21_11eb_b4c7_bc85565553darow6_col5 {\n",
       "            background-color:  #2870b1;\n",
       "            color:  #f1f1f1;\n",
       "        }    #T_23a791e6_2f21_11eb_b4c7_bc85565553darow6_col6 {\n",
       "            background-color:  #67001f;\n",
       "            color:  #f1f1f1;\n",
       "        }</style><table id=\"T_23a791e6_2f21_11eb_b4c7_bc85565553da\" ><thead>    <tr>        <th class=\"blank level0\" ></th>        <th class=\"col_heading level0 col0\" >age</th>        <th class=\"col_heading level0 col1\" >month</th>        <th class=\"col_heading level0 col2\" >sum_call</th>        <th class=\"col_heading level0 col3\" >count_call</th>        <th class=\"col_heading level0 col4\" >mb_used</th>        <th class=\"col_heading level0 col5\" >message_count</th>        <th class=\"col_heading level0 col6\" >revenue</th>    </tr></thead><tbody>\n",
       "                <tr>\n",
       "                        <th id=\"T_23a791e6_2f21_11eb_b4c7_bc85565553dalevel0_row0\" class=\"row_heading level0 row0\" >age</th>\n",
       "                        <td id=\"T_23a791e6_2f21_11eb_b4c7_bc85565553darow0_col0\" class=\"data row0 col0\" >1.000000</td>\n",
       "                        <td id=\"T_23a791e6_2f21_11eb_b4c7_bc85565553darow0_col1\" class=\"data row0 col1\" >-0.005756</td>\n",
       "                        <td id=\"T_23a791e6_2f21_11eb_b4c7_bc85565553darow0_col2\" class=\"data row0 col2\" >0.112342</td>\n",
       "                        <td id=\"T_23a791e6_2f21_11eb_b4c7_bc85565553darow0_col3\" class=\"data row0 col3\" >0.115203</td>\n",
       "                        <td id=\"T_23a791e6_2f21_11eb_b4c7_bc85565553darow0_col4\" class=\"data row0 col4\" >0.003940</td>\n",
       "                        <td id=\"T_23a791e6_2f21_11eb_b4c7_bc85565553darow0_col5\" class=\"data row0 col5\" >-0.116923</td>\n",
       "                        <td id=\"T_23a791e6_2f21_11eb_b4c7_bc85565553darow0_col6\" class=\"data row0 col6\" >-0.080318</td>\n",
       "            </tr>\n",
       "            <tr>\n",
       "                        <th id=\"T_23a791e6_2f21_11eb_b4c7_bc85565553dalevel0_row1\" class=\"row_heading level0 row1\" >month</th>\n",
       "                        <td id=\"T_23a791e6_2f21_11eb_b4c7_bc85565553darow1_col0\" class=\"data row1 col0\" >-0.005756</td>\n",
       "                        <td id=\"T_23a791e6_2f21_11eb_b4c7_bc85565553darow1_col1\" class=\"data row1 col1\" >1.000000</td>\n",
       "                        <td id=\"T_23a791e6_2f21_11eb_b4c7_bc85565553darow1_col2\" class=\"data row1 col2\" >0.140592</td>\n",
       "                        <td id=\"T_23a791e6_2f21_11eb_b4c7_bc85565553darow1_col3\" class=\"data row1 col3\" >0.140861</td>\n",
       "                        <td id=\"T_23a791e6_2f21_11eb_b4c7_bc85565553darow1_col4\" class=\"data row1 col4\" >0.144936</td>\n",
       "                        <td id=\"T_23a791e6_2f21_11eb_b4c7_bc85565553darow1_col5\" class=\"data row1 col5\" >0.201629</td>\n",
       "                        <td id=\"T_23a791e6_2f21_11eb_b4c7_bc85565553darow1_col6\" class=\"data row1 col6\" >0.084324</td>\n",
       "            </tr>\n",
       "            <tr>\n",
       "                        <th id=\"T_23a791e6_2f21_11eb_b4c7_bc85565553dalevel0_row2\" class=\"row_heading level0 row2\" >sum_call</th>\n",
       "                        <td id=\"T_23a791e6_2f21_11eb_b4c7_bc85565553darow2_col0\" class=\"data row2 col0\" >0.112342</td>\n",
       "                        <td id=\"T_23a791e6_2f21_11eb_b4c7_bc85565553darow2_col1\" class=\"data row2 col1\" >0.140592</td>\n",
       "                        <td id=\"T_23a791e6_2f21_11eb_b4c7_bc85565553darow2_col2\" class=\"data row2 col2\" >1.000000</td>\n",
       "                        <td id=\"T_23a791e6_2f21_11eb_b4c7_bc85565553darow2_col3\" class=\"data row2 col3\" >0.991712</td>\n",
       "                        <td id=\"T_23a791e6_2f21_11eb_b4c7_bc85565553darow2_col4\" class=\"data row2 col4\" >0.180433</td>\n",
       "                        <td id=\"T_23a791e6_2f21_11eb_b4c7_bc85565553darow2_col5\" class=\"data row2 col5\" >0.083660</td>\n",
       "                        <td id=\"T_23a791e6_2f21_11eb_b4c7_bc85565553darow2_col6\" class=\"data row2 col6\" >0.091344</td>\n",
       "            </tr>\n",
       "            <tr>\n",
       "                        <th id=\"T_23a791e6_2f21_11eb_b4c7_bc85565553dalevel0_row3\" class=\"row_heading level0 row3\" >count_call</th>\n",
       "                        <td id=\"T_23a791e6_2f21_11eb_b4c7_bc85565553darow3_col0\" class=\"data row3 col0\" >0.115203</td>\n",
       "                        <td id=\"T_23a791e6_2f21_11eb_b4c7_bc85565553darow3_col1\" class=\"data row3 col1\" >0.140861</td>\n",
       "                        <td id=\"T_23a791e6_2f21_11eb_b4c7_bc85565553darow3_col2\" class=\"data row3 col2\" >0.991712</td>\n",
       "                        <td id=\"T_23a791e6_2f21_11eb_b4c7_bc85565553darow3_col3\" class=\"data row3 col3\" >1.000000</td>\n",
       "                        <td id=\"T_23a791e6_2f21_11eb_b4c7_bc85565553darow3_col4\" class=\"data row3 col4\" >0.180476</td>\n",
       "                        <td id=\"T_23a791e6_2f21_11eb_b4c7_bc85565553darow3_col5\" class=\"data row3 col5\" >0.085079</td>\n",
       "                        <td id=\"T_23a791e6_2f21_11eb_b4c7_bc85565553darow3_col6\" class=\"data row3 col6\" >0.090008</td>\n",
       "            </tr>\n",
       "            <tr>\n",
       "                        <th id=\"T_23a791e6_2f21_11eb_b4c7_bc85565553dalevel0_row4\" class=\"row_heading level0 row4\" >mb_used</th>\n",
       "                        <td id=\"T_23a791e6_2f21_11eb_b4c7_bc85565553darow4_col0\" class=\"data row4 col0\" >0.003940</td>\n",
       "                        <td id=\"T_23a791e6_2f21_11eb_b4c7_bc85565553darow4_col1\" class=\"data row4 col1\" >0.144936</td>\n",
       "                        <td id=\"T_23a791e6_2f21_11eb_b4c7_bc85565553darow4_col2\" class=\"data row4 col2\" >0.180433</td>\n",
       "                        <td id=\"T_23a791e6_2f21_11eb_b4c7_bc85565553darow4_col3\" class=\"data row4 col3\" >0.180476</td>\n",
       "                        <td id=\"T_23a791e6_2f21_11eb_b4c7_bc85565553darow4_col4\" class=\"data row4 col4\" >1.000000</td>\n",
       "                        <td id=\"T_23a791e6_2f21_11eb_b4c7_bc85565553darow4_col5\" class=\"data row4 col5\" >0.175312</td>\n",
       "                        <td id=\"T_23a791e6_2f21_11eb_b4c7_bc85565553darow4_col6\" class=\"data row4 col6\" >0.619806</td>\n",
       "            </tr>\n",
       "            <tr>\n",
       "                        <th id=\"T_23a791e6_2f21_11eb_b4c7_bc85565553dalevel0_row5\" class=\"row_heading level0 row5\" >message_count</th>\n",
       "                        <td id=\"T_23a791e6_2f21_11eb_b4c7_bc85565553darow5_col0\" class=\"data row5 col0\" >-0.116923</td>\n",
       "                        <td id=\"T_23a791e6_2f21_11eb_b4c7_bc85565553darow5_col1\" class=\"data row5 col1\" >0.201629</td>\n",
       "                        <td id=\"T_23a791e6_2f21_11eb_b4c7_bc85565553darow5_col2\" class=\"data row5 col2\" >0.083660</td>\n",
       "                        <td id=\"T_23a791e6_2f21_11eb_b4c7_bc85565553darow5_col3\" class=\"data row5 col3\" >0.085079</td>\n",
       "                        <td id=\"T_23a791e6_2f21_11eb_b4c7_bc85565553darow5_col4\" class=\"data row5 col4\" >0.175312</td>\n",
       "                        <td id=\"T_23a791e6_2f21_11eb_b4c7_bc85565553darow5_col5\" class=\"data row5 col5\" >1.000000</td>\n",
       "                        <td id=\"T_23a791e6_2f21_11eb_b4c7_bc85565553darow5_col6\" class=\"data row5 col6\" >0.020485</td>\n",
       "            </tr>\n",
       "            <tr>\n",
       "                        <th id=\"T_23a791e6_2f21_11eb_b4c7_bc85565553dalevel0_row6\" class=\"row_heading level0 row6\" >revenue</th>\n",
       "                        <td id=\"T_23a791e6_2f21_11eb_b4c7_bc85565553darow6_col0\" class=\"data row6 col0\" >-0.080318</td>\n",
       "                        <td id=\"T_23a791e6_2f21_11eb_b4c7_bc85565553darow6_col1\" class=\"data row6 col1\" >0.084324</td>\n",
       "                        <td id=\"T_23a791e6_2f21_11eb_b4c7_bc85565553darow6_col2\" class=\"data row6 col2\" >0.091344</td>\n",
       "                        <td id=\"T_23a791e6_2f21_11eb_b4c7_bc85565553darow6_col3\" class=\"data row6 col3\" >0.090008</td>\n",
       "                        <td id=\"T_23a791e6_2f21_11eb_b4c7_bc85565553darow6_col4\" class=\"data row6 col4\" >0.619806</td>\n",
       "                        <td id=\"T_23a791e6_2f21_11eb_b4c7_bc85565553darow6_col5\" class=\"data row6 col5\" >0.020485</td>\n",
       "                        <td id=\"T_23a791e6_2f21_11eb_b4c7_bc85565553darow6_col6\" class=\"data row6 col6\" >1.000000</td>\n",
       "            </tr>\n",
       "    </tbody></table>"
      ],
      "text/plain": [
       "<pandas.io.formats.style.Styler at 0xd7d73ab070>"
      ]
     },
     "execution_count": 84,
     "metadata": {},
     "output_type": "execute_result"
    }
   ],
   "source": [
    "#Найдем коэффициенты корреляции для признаков по тарифу \"Ультра\"\n",
    "df_all.query('tariff == \"ultra\"')[['age', 'month', 'sum_call', 'count_call', 'mb_used', 'message_count', 'revenue']].corr()\\\n",
    ".style.background_gradient(\"RdBu_r\")"
   ]
  },
  {
   "cell_type": "code",
   "execution_count": 85,
   "metadata": {},
   "outputs": [
    {
     "data": {
      "image/png": "[encoded data removed]",
      "text/plain": [
       "<Figure size 432x288 with 1 Axes>"
      ]
     },
     "metadata": {
      "needs_background": "light"
     },
     "output_type": "display_data"
    }
   ],
   "source": [
    "#Есть средняя положительная корреляция между объемом интернет-трафика и выручкой\n",
    "#построим диаграмму рассеяния для тарифа \"Ультра\"\n",
    "sns.regplot(data = df_all.query('tariff == \"ultra\"'), x = 'mb_used', y = 'revenue')\n",
    "plt.suptitle('Диаграмма рассеяния для признаков \"mb_used\" и \"revenue\" для тарифа \"Ультра\"')\n",
    "plt.xlabel('Объем интернет-трафика')\n",
    "plt.ylabel('Выручка');"
   ]
  },
  {
   "cell_type": "code",
   "execution_count": 86,
   "metadata": {},
   "outputs": [
    {
     "name": "stderr",
     "output_type": "stream",
     "text": [
      "C:\\Users\\Maxim\\anaconda3\\lib\\site-packages\\seaborn\\distributions.py:369: UserWarning: Default bandwidth for data is 0; skipping density estimation.\n",
      "  warnings.warn(msg, UserWarning)\n"
     ]
    },
    {
     "data": {
      "image/png": "[encoded data removed]",
      "text/plain": [
       "<Figure size 785x720 with 20 Axes>"
      ]
     },
     "metadata": {
      "needs_background": "light"
     },
     "output_type": "display_data"
    }
   ],
   "source": [
    "#Построим диаграммы совместного распределение признаков в разрезе каждого тарифа\n",
    "joint_dist = df_all[['tariff', 'sum_call', 'mb_used', 'message_count', 'revenue']]\n",
    "cat_features = ['tariff']\n",
    "sns.pairplot(joint_dist, hue = cat_features[0])\n",
    "plt.suptitle('Совместное распределение признаков в разрезе тарифов', y=1.05);"
   ]
  },
  {
   "cell_type": "code",
   "execution_count": 87,
   "metadata": {},
   "outputs": [
    {
     "data": {
      "text/html": [
       "<div>\n",
       "<style scoped>\n",
       "    .dataframe tbody tr th:only-of-type {\n",
       "        vertical-align: middle;\n",
       "    }\n",
       "\n",
       "    .dataframe tbody tr th {\n",
       "        vertical-align: top;\n",
       "    }\n",
       "\n",
       "    .dataframe thead tr th {\n",
       "        text-align: left;\n",
       "    }\n",
       "\n",
       "    .dataframe thead tr:last-of-type th {\n",
       "        text-align: right;\n",
       "    }\n",
       "</style>\n",
       "<table border=\"1\" class=\"dataframe\">\n",
       "  <thead>\n",
       "    <tr>\n",
       "      <th></th>\n",
       "      <th colspan=\"2\" halign=\"left\">revenue</th>\n",
       "      <th>share_sum</th>\n",
       "      <th>share_count</th>\n",
       "    </tr>\n",
       "    <tr>\n",
       "      <th></th>\n",
       "      <th>count</th>\n",
       "      <th>sum</th>\n",
       "      <th></th>\n",
       "      <th></th>\n",
       "    </tr>\n",
       "    <tr>\n",
       "      <th>tariff</th>\n",
       "      <th></th>\n",
       "      <th></th>\n",
       "      <th></th>\n",
       "      <th></th>\n",
       "    </tr>\n",
       "  </thead>\n",
       "  <tbody>\n",
       "    <tr>\n",
       "      <th>smart</th>\n",
       "      <td>2230</td>\n",
       "      <td>2886301</td>\n",
       "      <td>58.566437</td>\n",
       "      <td>69.340796</td>\n",
       "    </tr>\n",
       "    <tr>\n",
       "      <th>ultra</th>\n",
       "      <td>986</td>\n",
       "      <td>2041950</td>\n",
       "      <td>41.433563</td>\n",
       "      <td>30.659204</td>\n",
       "    </tr>\n",
       "  </tbody>\n",
       "</table>\n",
       "</div>"
      ],
      "text/plain": [
       "       revenue           share_sum share_count\n",
       "         count      sum                       \n",
       "tariff                                        \n",
       "smart     2230  2886301  58.566437   69.340796\n",
       "ultra      986  2041950  41.433563   30.659204"
      ]
     },
     "execution_count": 87,
     "metadata": {},
     "output_type": "execute_result"
    }
   ],
   "source": [
    "#Сгруппируем данные по количеству пользователей, общей сумме за год в разрезе тарифов, посчитаем доли\n",
    "revenue = df_all.groupby('tariff').agg({'revenue' : ['count', 'sum']})\n",
    "revenue['share_sum'] = (revenue['revenue']['sum'] * 100) / revenue['revenue']['sum'].sum()\n",
    "revenue['share_count'] = (revenue['revenue']['count'] * 100) / revenue['revenue']['count'].sum()\n",
    "revenue"
   ]
  },
  {
   "cell_type": "code",
   "execution_count": 88,
   "metadata": {},
   "outputs": [
    {
     "data": {
      "image/png": "[encoded data removed]",
      "text/plain": [
       "<Figure size 216x216 with 1 Axes>"
      ]
     },
     "metadata": {},
     "output_type": "display_data"
    }
   ],
   "source": [
    "#Построим круговую диаграмму по сумме итоговой выручки по двум тарифам за год\n",
    "df_all.groupby('tariff')['revenue'].sum().plot(kind = 'pie', y = ['revenue'], figsize = (3, 3))\n",
    "plt.suptitle('Распределение выручки в разрезе тарифов', y=1.05);"
   ]
  },
  {
   "cell_type": "code",
   "execution_count": 89,
   "metadata": {},
   "outputs": [
    {
     "data": {
      "image/png": "[encoded data removed]",
      "text/plain": [
       "<Figure size 432x288 with 1 Axes>"
      ]
     },
     "metadata": {
      "needs_background": "light"
     },
     "output_type": "display_data"
    }
   ],
   "source": [
    "#Построим график сравнения количества пользователей двух тарифов\n",
    "sns.countplot(df_all['tariff'])\n",
    "plt.suptitle('Распределение количества пользователей между тарифами');"
   ]
  },
  {
   "cell_type": "code",
   "execution_count": 90,
   "metadata": {},
   "outputs": [
    {
     "name": "stdout",
     "output_type": "stream",
     "text": [
      "age\n"
     ]
    },
    {
     "data": {
      "image/png": "[encoded data removed]",
      "text/plain": [
       "<Figure size 720x288 with 1 Axes>"
      ]
     },
     "metadata": {
      "needs_background": "light"
     },
     "output_type": "display_data"
    },
    {
     "name": "stdout",
     "output_type": "stream",
     "text": [
      "month\n"
     ]
    },
    {
     "data": {
      "image/png": "[encoded data removed]",
      "text/plain": [
       "<Figure size 720x288 with 1 Axes>"
      ]
     },
     "metadata": {
      "needs_background": "light"
     },
     "output_type": "display_data"
    },
    {
     "name": "stdout",
     "output_type": "stream",
     "text": [
      "sum_call\n"
     ]
    },
    {
     "data": {
      "image/png": "[encoded data removed]",
      "text/plain": [
       "<Figure size 720x288 with 1 Axes>"
      ]
     },
     "metadata": {
      "needs_background": "light"
     },
     "output_type": "display_data"
    },
    {
     "name": "stdout",
     "output_type": "stream",
     "text": [
      "count_call\n"
     ]
    },
    {
     "data": {
      "image/png": "[encoded data removed]",
      "text/plain": [
       "<Figure size 720x288 with 1 Axes>"
      ]
     },
     "metadata": {
      "needs_background": "light"
     },
     "output_type": "display_data"
    },
    {
     "name": "stdout",
     "output_type": "stream",
     "text": [
      "mb_used\n"
     ]
    },
    {
     "data": {
      "image/png": "[encoded data removed]",
      "text/plain": [
       "<Figure size 720x288 with 1 Axes>"
      ]
     },
     "metadata": {
      "needs_background": "light"
     },
     "output_type": "display_data"
    },
    {
     "name": "stdout",
     "output_type": "stream",
     "text": [
      "message_count\n"
     ]
    },
    {
     "data": {
      "image/png": "[encoded data removed]",
      "text/plain": [
       "<Figure size 720x288 with 1 Axes>"
      ]
     },
     "metadata": {
      "needs_background": "light"
     },
     "output_type": "display_data"
    }
   ],
   "source": [
    "#Изучим зависимость выручки от других признаков, напишем цикл для построения графиков\n",
    "for column in ['age', 'month', 'sum_call', 'count_call', 'mb_used', 'message_count']:\n",
    "    print(column)\n",
    "    ax = df_all.query('tariff == \"smart\"').pivot_table(\n",
    "        index = column,\n",
    "        values = 'revenue',\n",
    "        aggfunc = 'mean').plot(grid = True, figsize = (10, 4), color='tab:green')\n",
    "    df_all.query('tariff == \"ultra\"').pivot_table(\n",
    "        index = column,\n",
    "        values = 'revenue',\n",
    "        aggfunc = 'mean').plot(ax = ax, grid = True, figsize = (10, 4), color='tab:blue')\n",
    "    plt.legend([\"smart\", \"ultra\"])\n",
    "    plt.show()"
   ]
  },
  {
   "cell_type": "code",
   "execution_count": 91,
   "metadata": {},
   "outputs": [
    {
     "data": {
      "image/png": "[encoded data removed]",
      "text/plain": [
       "<Figure size 720x360 with 1 Axes>"
      ]
     },
     "metadata": {
      "needs_background": "light"
     },
     "output_type": "display_data"
    }
   ],
   "source": [
    "#Построим столбчатый график, посмотрим, как изменялось количество пользователей, которые вносили \n",
    "#платежи для каждого месяца по тарифам\n",
    "ax = df_all.query('tariff == \"smart\"').pivot_table(\n",
    "    index = 'month', values = 'revenue', aggfunc = ['median', 'count']\n",
    ").plot(kind = 'bar', y = 'count', grid = True, color='tab:green', figsize =(10,5))\n",
    "df_all.query('tariff == \"ultra\"').pivot_table(\n",
    "    index = 'month', values = 'revenue', aggfunc = ['median', 'count']\n",
    ").plot(kind = 'bar', y = 'count', ax =ax, grid = True, color='tab:blue', figsize =(10,5))\n",
    "plt.suptitle('Распределение количества платежей, сделанных пользователями по месяцам')\n",
    "plt.xlabel('Месяц')\n",
    "plt.ylabel('Количество платежей')\n",
    "plt.legend([\"smart\", \"ultra\"]);"
   ]
  },
  {
   "cell_type": "code",
   "execution_count": 92,
   "metadata": {},
   "outputs": [
    {
     "data": {
      "text/html": [
       "<div>\n",
       "<style scoped>\n",
       "    .dataframe tbody tr th:only-of-type {\n",
       "        vertical-align: middle;\n",
       "    }\n",
       "\n",
       "    .dataframe tbody tr th {\n",
       "        vertical-align: top;\n",
       "    }\n",
       "\n",
       "    .dataframe thead th {\n",
       "        text-align: right;\n",
       "    }\n",
       "</style>\n",
       "<table border=\"1\" class=\"dataframe\">\n",
       "  <thead>\n",
       "    <tr style=\"text-align: right;\">\n",
       "      <th>month</th>\n",
       "      <th>0</th>\n",
       "      <th>1</th>\n",
       "      <th>2</th>\n",
       "      <th>3</th>\n",
       "      <th>4</th>\n",
       "      <th>5</th>\n",
       "      <th>6</th>\n",
       "      <th>7</th>\n",
       "      <th>8</th>\n",
       "      <th>9</th>\n",
       "      <th>10</th>\n",
       "      <th>11</th>\n",
       "      <th>12</th>\n",
       "    </tr>\n",
       "    <tr>\n",
       "      <th>tariff</th>\n",
       "      <th></th>\n",
       "      <th></th>\n",
       "      <th></th>\n",
       "      <th></th>\n",
       "      <th></th>\n",
       "      <th></th>\n",
       "      <th></th>\n",
       "      <th></th>\n",
       "      <th></th>\n",
       "      <th></th>\n",
       "      <th></th>\n",
       "      <th></th>\n",
       "      <th></th>\n",
       "    </tr>\n",
       "  </thead>\n",
       "  <tbody>\n",
       "    <tr>\n",
       "      <th>smart</th>\n",
       "      <td>550</td>\n",
       "      <td>24525</td>\n",
       "      <td>48001</td>\n",
       "      <td>89676</td>\n",
       "      <td>107866</td>\n",
       "      <td>169849</td>\n",
       "      <td>198259</td>\n",
       "      <td>247014</td>\n",
       "      <td>312340</td>\n",
       "      <td>326386</td>\n",
       "      <td>402667</td>\n",
       "      <td>425803</td>\n",
       "      <td>533365</td>\n",
       "    </tr>\n",
       "    <tr>\n",
       "      <th>ultra</th>\n",
       "      <td>1950</td>\n",
       "      <td>17550</td>\n",
       "      <td>47400</td>\n",
       "      <td>74550</td>\n",
       "      <td>110100</td>\n",
       "      <td>138150</td>\n",
       "      <td>171450</td>\n",
       "      <td>193050</td>\n",
       "      <td>222900</td>\n",
       "      <td>232800</td>\n",
       "      <td>254250</td>\n",
       "      <td>280500</td>\n",
       "      <td>297300</td>\n",
       "    </tr>\n",
       "  </tbody>\n",
       "</table>\n",
       "</div>"
      ],
      "text/plain": [
       "month     0      1      2      3       4       5       6       7       8   \\\n",
       "tariff                                                                      \n",
       "smart    550  24525  48001  89676  107866  169849  198259  247014  312340   \n",
       "ultra   1950  17550  47400  74550  110100  138150  171450  193050  222900   \n",
       "\n",
       "month       9       10      11      12  \n",
       "tariff                                  \n",
       "smart   326386  402667  425803  533365  \n",
       "ultra   232800  254250  280500  297300  "
      ]
     },
     "execution_count": 92,
     "metadata": {},
     "output_type": "execute_result"
    }
   ],
   "source": [
    "#Посмотрим как менялась выручка в числовом выражении по месяцам\n",
    "pd.pivot_table(df_all, index = 'tariff', columns = 'month', values = 'revenue', aggfunc = 'sum')"
   ]
  },
  {
   "cell_type": "markdown",
   "metadata": {},
   "source": [
    "### Вывод"
   ]
  },
  {
   "cell_type": "markdown",
   "metadata": {},
   "source": [
    "Обычно количество израсходованных минут в месяц в тарифе \"Смарт\" составляет от 282 до 545 минут (в среднем 421), в тарифе \"Ультра\" - от 282 до 752 минут (в среднем 518). Есть пользователи, и это видно по гистограммам, которые не используют минуты разговора. Возможно, они совершают звонки из социальных сетей или других приложений. У тарифа \"Ультра\" таких пользователей больше. На тарифе \"Ультра\" в среднем на 11 звонков делают чаще и разговаривают дольше почти на 100 минут. Количество включенных в тариф минут у тарифа \"Ультра\" в 6 раз больше чем у \"Смарт\". Получается, пользователи в большинстве своем не нуждаются в таком количестве минут и используют пакет минут только на 17%. В свою очередь 35% пользователей тарифа \"Смарт\" приходится доплачивать за минуты разговора сверх тарифа. Стандартное отклонение от среднего по количеству израсходованных минут разговора по обоим тарифам не на много различаются, но у тарифа \"Смарт\" отклонение от среднего больше чем у тарифа \"Ультра\". Значит, что у тарифа \"Смарт\" больше присутствует выбросов, это также видно по диаграмме размаха. Больше пользователей готовых переплачивать за дополнительные минуты разговора. Разница между медианой и среднем по обоим тарифам не значительная. Можно сказать, что распределение значений является нормальным для количества израсходованных минут для обоих тарифов.\n",
    "\n",
    "Ещё на предобработке данных мы выяснили, что до 90 пользователей не используют сообщения. Особенно хорошо это видно на гистограммах. В тарифе \"Ультра\" 20% пользователей не используют сообщения каждый месяц, в тарифе \"Смарт\" - 15%. Обычно количество израсходованных сообщений за месяц в тарифе \"Смарт\" составляет от 10 до 51 (в среднем 28), в тарифе \"Ультра\" - от 6 до 79 (в среднем 38). Графики скошены вправо и медианы обоих тарифов меньше своих средних, есть выбросы больших значений, но мало (диаграмма размаха). Большинство значений близки к среднему, стандартное отклонение очень маленькое. Можно сказать, что распределение значений является нормальным для количества отправленных сообщений для обоих тарифов. 1000 сообщений включенных в тариф \"Ультра\" пользователям, по сути, не нужны, максимальное значение по выборке составляет всего 224. В свою очередь 25% пользователей тарифа \"Смарт\" приходится доплачивать иногда за сообщения сверх тарифа. Большинство сообщений сейчас отправляется из социальных сетей и большое количество сообщений, включенных в тариф \"Ультра\" не востребованы. Зависимости от возраста пользователей и месяца использования тарифа не было обнаружено.\n",
    "\n",
    "Проанализируем объем израсходованного интернет-трафика. Объем израсходованного интернет-трафика за месяц в тарифе \"Смарт\" составляет обычно от 12,35 Гб до 19,60 Гб (в среднем 16,14 Гб), в тарифе \"Ультра\" - от 11,50 до 26,23 (в среднем 18,87). На тарифе \"Ультра\" объем интернет-трафика, входящий в тариф, в два раза больше чем на тарифе \"Смарт\". При этом средние значения отличаются не значительно на 2,73 Гб. Практически 60% пользователей тарифа \"Смарт\" готовы доплачивать, и доплачивают за дополнительный объем интернет-трафика, таких пользователей у тарифа \"Ультра\" в среднем в месяц менее 15%. Медианы и среднее тарифов практически равны. Стандартное отклонение отличается от среднего практически в два раза по тарифу \"Ультра\" и по тарифу \"Смарт\" на 2,75. Это отслеживается по выбросам диаграммы размаха. При этом распределение значений стремится к нормальному.\n",
    "\n",
    "Прослеживается четкая сильная зависимость между объемом интернет-трафика и выручкой по тарифу \"Смарт\" и слабая, но она есть, зависимость между количеством израсходованных минут и выручкой. Можно сделать вывод, что пользователи тарифа \"Смарт\" тратят средства сверх тарифа на интернет-трафик, но бывает и тратят на дополнительные минуты разговора. Хорошо отслеживается зависимость по диаграмме рассеяния. По тарифу \"Ультра\" не отслеживается зависимости между сообщениями, израсходованными минутами и выручкой, пользователи не доплачивают сверх тарифа. Есть средняя зависимость между выручкой и интернет-трафиком, то есть пользователи и таких в среднем менее 15%, которые платят за интернет-трафик сверх тарифа. Есть слабая положительная зависимость между количеством сообщений, суммой израсходованных минут и объемом интернет-трафика в тарифе \"Смарт\". Таким образом, есть отдельные активные пользователи всех категорий тарифного плана. В тарифе \"Ультра\" таких пользователей нет, зависимость не отслеживается. Тариф \"Ультра\" исходя из анализа звонков, сообщений и интернет-трафика в основном выбирают из-за объема интернет-трафика, который больше в два раза. Но в тоже время на тарифе \"Смарт\" также активно пользуются интернет-трафиком, но в итоге платят за обслуживание меньше. По сути, пакеты минут и пакеты сообщений с таком количестве как на тарифе \"Ультра\" не нужны.\n",
    "\n",
    "Пользователей тарифа \"Смарт\" более чем в 2 раза больше чем на тарифе \"Ультра\". Стоимость же тарифов отличается в 3,5 раза. Исходя из этих данных выручка по тарифу \"Ультра\" должна быть больше, но в итоге выручка больше по тарифу \"Смарт\". Получается выручка сверх тарифа \"Смарт\" превышает выручку по ежемесячной плате по тарифу. Это отслеживается и по медианам тарифов: пользователи \"Смарт\" платят в два раза больше ежемесячной платы по тарифу, в свою очередь пользователи \"Ультра\" практически не платят сверх тарифа. Исходя из графика и сводной таблицы видно, что выручка растёт интенсивней по тарифу \"Смарт\". Это происходит из-за большого количества пользователей готовых платить сверх тарифа, в тоже время им не требуется такого количества минут и сообщений как на тарифе \"Ультра\". Пользователям выгоднее доплачивать за интернет-трафик и иногда за звонки, чем пользоваться тарифом \"Ультра\"."
   ]
  },
  {
   "cell_type": "markdown",
   "metadata": {},
   "source": [
    "### Шаг 4. Проверка гипотез<a id=\"step4\"></a>"
   ]
  },
  {
   "cell_type": "markdown",
   "metadata": {},
   "source": [
    "1. Средняя выручка пользователей тарифов \"Ультра\" и \"Смарт\" различается.\n",
    "\n",
    "Сформулируем нулевую гипотезу, она формулируется всегда с использованием знака равенства: средняя выручка не различается, исследуемые параметры равны. Альтернативная гипотеза: средняя выручка различается, параметры не равны. Гипотеза двухсторонняя, так как нам важно выяснить различается средняя выручка или нет, но мы не рассматриваем в какую сторону есть различия. Уровень значимости, поэтому выберем 5%, получается, по 2,5% с каждой стороны. Если статистика разности средней выручки попадет в эту зону, вероятность такого события при верной нулевой гипотезе признаем слишком малой и нулевая гипотеза отвергается. Любое распределение стремится к нормальному согласно центральной предельной теореме, будем также считать для нашего распределения и проверим гипотезу о равенстве среднего двух генеральных совокупностей по взятым выборкам, воспользуясь t-тестом."
   ]
  },
  {
   "cell_type": "code",
   "execution_count": 93,
   "metadata": {},
   "outputs": [
    {
     "name": "stdout",
     "output_type": "stream",
     "text": [
      "p-значение 1.2414049931248708e-246\n",
      "Отвергаем нулевую гипотезу\n"
     ]
    }
   ],
   "source": [
    "alpha = 0.05\n",
    "results = st.ttest_ind(\n",
    "    df_all.query('tariff == \"smart\"')['revenue'], \n",
    "    df_all.query('tariff == \"ultra\"')['revenue'], \n",
    "    equal_var=False\n",
    ")\n",
    "print('p-значение', results.pvalue)\n",
    "\n",
    "if (results.pvalue < alpha):\n",
    "    print('Отвергаем нулевую гипотезу')\n",
    "else:\n",
    "    print('Не получилось отвергнуть нулевую гипотезу')"
   ]
  },
  {
   "cell_type": "markdown",
   "metadata": {},
   "source": [
    "2. Средняя выручка пользователей из Москвы отличается от выручки пользователей других регионов\n",
    "\n",
    "Проверим гипотезу по аналогии с первой. Нулевая гипотеза: средняя выручка не различается, исследуемые параметры равны. Альтернативная гипотеза: средняя выручка различается, параметры не равны. "
   ]
  },
  {
   "cell_type": "code",
   "execution_count": 94,
   "metadata": {
    "scrolled": true
   },
   "outputs": [
    {
     "name": "stdout",
     "output_type": "stream",
     "text": [
      "p-значение 0.5837352906688044\n",
      "Не получилось отвергнуть нулевую гипотезу\n"
     ]
    }
   ],
   "source": [
    "alpha = 0.05\n",
    "results = st.ttest_ind(\n",
    "    df_all.query('city == \"Москва\"')['revenue'], \n",
    "    df_all.query('tariff != \"Москва\"')['revenue'], \n",
    "    equal_var=False\n",
    ")\n",
    "print('p-значение', results.pvalue)\n",
    "\n",
    "if (results.pvalue < alpha):\n",
    "    print('Отвергаем нулевую гипотезу')\n",
    "else:\n",
    "    print('Не получилось отвергнуть нулевую гипотезу')"
   ]
  },
  {
   "cell_type": "code",
   "execution_count": 95,
   "metadata": {},
   "outputs": [],
   "source": [
    "#Создадим новый столбец, где названия городов, которые отличные от Москвы будут заменены на \"другой регион\"\n",
    "df_all['group_city'] = df_all['city'].where(df_all['city'] == 'Москва', 'Другой регион')"
   ]
  },
  {
   "cell_type": "code",
   "execution_count": 96,
   "metadata": {},
   "outputs": [
    {
     "data": {
      "text/html": [
       "<div>\n",
       "<style scoped>\n",
       "    .dataframe tbody tr th:only-of-type {\n",
       "        vertical-align: middle;\n",
       "    }\n",
       "\n",
       "    .dataframe tbody tr th {\n",
       "        vertical-align: top;\n",
       "    }\n",
       "\n",
       "    .dataframe thead tr th {\n",
       "        text-align: left;\n",
       "    }\n",
       "\n",
       "    .dataframe thead tr:last-of-type th {\n",
       "        text-align: right;\n",
       "    }\n",
       "</style>\n",
       "<table border=\"1\" class=\"dataframe\">\n",
       "  <thead>\n",
       "    <tr>\n",
       "      <th></th>\n",
       "      <th colspan=\"2\" halign=\"left\">revenue</th>\n",
       "    </tr>\n",
       "    <tr>\n",
       "      <th></th>\n",
       "      <th>count</th>\n",
       "      <th>sum</th>\n",
       "    </tr>\n",
       "    <tr>\n",
       "      <th>group_city</th>\n",
       "      <th></th>\n",
       "      <th></th>\n",
       "    </tr>\n",
       "  </thead>\n",
       "  <tbody>\n",
       "    <tr>\n",
       "      <th>Другой регион</th>\n",
       "      <td>2605</td>\n",
       "      <td>3980709</td>\n",
       "    </tr>\n",
       "    <tr>\n",
       "      <th>Москва</th>\n",
       "      <td>611</td>\n",
       "      <td>947542</td>\n",
       "    </tr>\n",
       "  </tbody>\n",
       "</table>\n",
       "</div>"
      ],
      "text/plain": [
       "              revenue         \n",
       "                count      sum\n",
       "group_city                    \n",
       "Другой регион    2605  3980709\n",
       "Москва            611   947542"
      ]
     },
     "execution_count": 96,
     "metadata": {},
     "output_type": "execute_result"
    }
   ],
   "source": [
    "#сгруппируем таблицу по столбцу \"group_city\", расчитаем сумму выручки за год и количество пользователей\n",
    "df_all.groupby('group_city').agg({'revenue' : ['count', 'sum']})"
   ]
  },
  {
   "cell_type": "code",
   "execution_count": 97,
   "metadata": {},
   "outputs": [
    {
     "data": {
      "text/html": [
       "<div>\n",
       "<style scoped>\n",
       "    .dataframe tbody tr th:only-of-type {\n",
       "        vertical-align: middle;\n",
       "    }\n",
       "\n",
       "    .dataframe tbody tr th {\n",
       "        vertical-align: top;\n",
       "    }\n",
       "\n",
       "    .dataframe thead th {\n",
       "        text-align: right;\n",
       "    }\n",
       "</style>\n",
       "<table border=\"1\" class=\"dataframe\">\n",
       "  <thead>\n",
       "    <tr style=\"text-align: right;\">\n",
       "      <th>group_city</th>\n",
       "      <th>Другой регион</th>\n",
       "      <th>Москва</th>\n",
       "    </tr>\n",
       "    <tr>\n",
       "      <th>tariff</th>\n",
       "      <th></th>\n",
       "      <th></th>\n",
       "    </tr>\n",
       "  </thead>\n",
       "  <tbody>\n",
       "    <tr>\n",
       "      <th>smart</th>\n",
       "      <td>1844</td>\n",
       "      <td>386</td>\n",
       "    </tr>\n",
       "    <tr>\n",
       "      <th>ultra</th>\n",
       "      <td>761</td>\n",
       "      <td>225</td>\n",
       "    </tr>\n",
       "  </tbody>\n",
       "</table>\n",
       "</div>"
      ],
      "text/plain": [
       "group_city  Другой регион  Москва\n",
       "tariff                           \n",
       "smart                1844     386\n",
       "ultra                 761     225"
      ]
     },
     "execution_count": 97,
     "metadata": {},
     "output_type": "execute_result"
    }
   ],
   "source": [
    "#сделаем сводную таблицу с подсчетом числа пользователей тарифов в зависимости от значения 'group_city'\n",
    "df_all.pivot_table(index = 'tariff', columns = 'group_city', values = 'user_id', aggfunc = 'count')"
   ]
  },
  {
   "cell_type": "code",
   "execution_count": 98,
   "metadata": {},
   "outputs": [
    {
     "data": {
      "text/html": [
       "<div>\n",
       "<style scoped>\n",
       "    .dataframe tbody tr th:only-of-type {\n",
       "        vertical-align: middle;\n",
       "    }\n",
       "\n",
       "    .dataframe tbody tr th {\n",
       "        vertical-align: top;\n",
       "    }\n",
       "\n",
       "    .dataframe thead th {\n",
       "        text-align: right;\n",
       "    }\n",
       "</style>\n",
       "<table border=\"1\" class=\"dataframe\">\n",
       "  <thead>\n",
       "    <tr style=\"text-align: right;\">\n",
       "      <th></th>\n",
       "      <th>group_city</th>\n",
       "      <th>Другой регион</th>\n",
       "      <th>Москва</th>\n",
       "    </tr>\n",
       "  </thead>\n",
       "  <tbody>\n",
       "    <tr>\n",
       "      <th rowspan=\"8\" valign=\"top\">revenue</th>\n",
       "      <th>count</th>\n",
       "      <td>2605.000000</td>\n",
       "      <td>611.000000</td>\n",
       "    </tr>\n",
       "    <tr>\n",
       "      <th>mean</th>\n",
       "      <td>1528.103263</td>\n",
       "      <td>1550.805237</td>\n",
       "    </tr>\n",
       "    <tr>\n",
       "      <th>std</th>\n",
       "      <td>810.369026</td>\n",
       "      <td>752.451347</td>\n",
       "    </tr>\n",
       "    <tr>\n",
       "      <th>min</th>\n",
       "      <td>550.000000</td>\n",
       "      <td>550.000000</td>\n",
       "    </tr>\n",
       "    <tr>\n",
       "      <th>25%</th>\n",
       "      <td>750.000000</td>\n",
       "      <td>798.000000</td>\n",
       "    </tr>\n",
       "    <tr>\n",
       "      <th>50%</th>\n",
       "      <td>1587.000000</td>\n",
       "      <td>1750.000000</td>\n",
       "    </tr>\n",
       "    <tr>\n",
       "      <th>75%</th>\n",
       "      <td>1950.000000</td>\n",
       "      <td>1950.000000</td>\n",
       "    </tr>\n",
       "    <tr>\n",
       "      <th>max</th>\n",
       "      <td>6770.000000</td>\n",
       "      <td>5321.000000</td>\n",
       "    </tr>\n",
       "  </tbody>\n",
       "</table>\n",
       "</div>"
      ],
      "text/plain": [
       "group_city     Другой регион       Москва\n",
       "revenue count    2605.000000   611.000000\n",
       "        mean     1528.103263  1550.805237\n",
       "        std       810.369026   752.451347\n",
       "        min       550.000000   550.000000\n",
       "        25%       750.000000   798.000000\n",
       "        50%      1587.000000  1750.000000\n",
       "        75%      1950.000000  1950.000000\n",
       "        max      6770.000000  5321.000000"
      ]
     },
     "execution_count": 98,
     "metadata": {},
     "output_type": "execute_result"
    }
   ],
   "source": [
    "#Сгруппируем таблицу по столбцу 'group_city' и сравним описательные статистики по выручке\n",
    "df_all.groupby('group_city')[['revenue']].describe().T"
   ]
  },
  {
   "cell_type": "markdown",
   "metadata": {},
   "source": [
    "### Вывод"
   ]
  },
  {
   "cell_type": "markdown",
   "metadata": {},
   "source": [
    "В результате работы нулевая гипотеза о равенстве средней выручки двух генеральных совокупностей по взятым выборкам была отвергнута. Действительно, если смотреть на описательные статистики по выручке двух тарифов видно, что значения по средней выборке значительно отличаются. Выручка в среднем в разрезе месяца больше по тарифу \"Ультра\".\n",
    "\n",
    "По второй гипотезе мы не смогли отвергнуть предположение, что средняя выручка одинакова как для Москвы так и для регионов."
   ]
  },
  {
   "cell_type": "markdown",
   "metadata": {},
   "source": [
    "### Шаг 5. Общий вывод<a id=\"step5\"></a>"
   ]
  },
  {
   "cell_type": "markdown",
   "metadata": {},
   "source": [
    "Проанализировав тарифы, можно сделать вывод, что в среднем по пользователям выручка по тарифу \"Ультра\" превышает выручку по тарифу \"Смарт\", но пользователей тарифа \"Смарт\" больше практически в два раза и они тратят в среднем в 2 раза больше сверх тарифа. В итоге годовая выручка по тарифу \"Смарт\" больше. Интенсивность прироста пользователей по двум тарифам устойчива, но по тарифу \"Смарт\" также больше. Пользователям предпочитают тариф \"Смарт\" и на него охотнее подключаются. По анализу видно, что среднее характеристики использования минут, сообщений и интернет-трафика пользователей близки по значениям к предложению по пакетам услуг тарифа \"Смарт\". И даже если пользователям необходимо доплатить за дополнительные минуты или интернет-трафик, они заплатят меньше чем ежемесячная плата по тарифу \"Ультра\". Поэтому если смотреть не в разрезе месяца, а в размере года тариф \"Смарт\" более выгоден как для компании \"Меглайн\" так и для пользователей. С большой долей вероятности выручка по Москве и по другим регионам стремится к равенству. При этом количество пользователей из регионов в 4 раза больше пользователей из Москвы. Исходя из этой выборочной совокупности можно сказать, что она вполне репрезентативна и может представлять всю генеральную совокупность данных."
   ]
  }
 ],
 "metadata": {
  "kernelspec": {
   "display_name": "Python 3",
   "language": "python",
   "name": "python3"
  },
  "language_info": {
   "codemirror_mode": {
    "name": "ipython",
    "version": 3
   },
   "file_extension": ".py",
   "mimetype": "text/x-python",
   "name": "python",
   "nbconvert_exporter": "python",
   "pygments_lexer": "ipython3",
   "version": "3.8.3"
  }
 },
 "nbformat": 4,
 "nbformat_minor": 2
}
